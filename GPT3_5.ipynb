{
  "nbformat": 4,
  "nbformat_minor": 0,
  "metadata": {
    "colab": {
      "provenance": [],
      "gpuType": "T4"
    },
    "kernelspec": {
      "name": "python3",
      "display_name": "Python 3"
    },
    "language_info": {
      "name": "python"
    },
    "accelerator": "GPU"
  },
  "cells": [
    {
      "cell_type": "markdown",
      "source": [
        "## Basic setting"
      ],
      "metadata": {
        "id": "0Wa4EdZeT6wD"
      }
    },
    {
      "cell_type": "code",
      "execution_count": null,
      "metadata": {
        "id": "p__S9a7MTJpq"
      },
      "outputs": [],
      "source": [
        "import pandas as pd\n",
        "import numpy as np\n",
        "import matplotlib.pyplot as plt\n",
        "import seaborn as sns\n",
        "from google.colab import drive"
      ]
    },
    {
      "cell_type": "code",
      "source": [
        "%%time\n",
        "#Everyone needs to save the dataset in their own drive.\n",
        "drive.mount(\"/content/gdrive/\")"
      ],
      "metadata": {
        "id": "htV-38M7Tocr",
        "colab": {
          "base_uri": "https://localhost:8080/"
        },
        "outputId": "acf10f49-bd29-4399-f760-48d8131e9e86"
      },
      "execution_count": null,
      "outputs": [
        {
          "output_type": "stream",
          "name": "stdout",
          "text": [
            "Mounted at /content/gdrive/\n",
            "CPU times: user 1.61 s, sys: 345 ms, total: 1.95 s\n",
            "Wall time: 32.9 s\n"
          ]
        }
      ]
    },
    {
      "cell_type": "code",
      "source": [
        "%%time\n",
        "complaints = pd.read_csv('/content/gdrive/MyDrive/complaints.csv')"
      ],
      "metadata": {
        "id": "bAddqHQtTsbO",
        "colab": {
          "base_uri": "https://localhost:8080/"
        },
        "outputId": "5243ff21-3d42-4b6c-d630-e2472424ab64"
      },
      "execution_count": null,
      "outputs": [
        {
          "output_type": "stream",
          "name": "stdout",
          "text": [
            "CPU times: user 30.6 s, sys: 3.35 s, total: 34 s\n",
            "Wall time: 52 s\n"
          ]
        }
      ]
    },
    {
      "cell_type": "code",
      "source": [
        "# Drop rows where 'Consumer complaint narrative' is null\n",
        "complaints = complaints.dropna(subset=['Consumer complaint narrative'])"
      ],
      "metadata": {
        "id": "O73fQeytTuMP"
      },
      "execution_count": null,
      "outputs": []
    },
    {
      "cell_type": "code",
      "source": [
        "complaints.isnull().sum()"
      ],
      "metadata": {
        "id": "4kdHORhBUdnJ",
        "colab": {
          "base_uri": "https://localhost:8080/"
        },
        "outputId": "b0c05146-2ac7-4204-819b-95d0337e10ab"
      },
      "execution_count": null,
      "outputs": [
        {
          "output_type": "execute_result",
          "data": {
            "text/plain": [
              "Date received                         0\n",
              "Product                               0\n",
              "Sub-product                       52207\n",
              "Issue                                 0\n",
              "Sub-issue                        213727\n",
              "Consumer complaint narrative          0\n",
              "Company public response          708410\n",
              "Company                               0\n",
              "State                              5488\n",
              "ZIP code                              0\n",
              "Tags                            1258107\n",
              "Consumer consent provided?            0\n",
              "Submitted via                         0\n",
              "Date sent to company                  0\n",
              "Company response to consumer          2\n",
              "Timely response?                      0\n",
              "Consumer disputed?              1296092\n",
              "Complaint ID                          0\n",
              "dtype: int64"
            ]
          },
          "metadata": {},
          "execution_count": 5
        }
      ]
    },
    {
      "cell_type": "code",
      "source": [
        "complaints_revised = complaints[['Company', 'Consumer complaint narrative']]"
      ],
      "metadata": {
        "id": "piHEaSyoUfMK"
      },
      "execution_count": null,
      "outputs": []
    },
    {
      "cell_type": "code",
      "source": [
        "#Choose five banks for sample\n",
        "company_list = ['WELLS FARGO & COMPANY', 'BANK OF AMERICA, NATIONAL ASSOCIATION', 'CAPITAL ONE FINANCIAL CORPORATION', 'JPMORGAN CHASE $ CO.', 'CITIBANK, N.A.']\n",
        "complaints_revised = complaints_revised[complaints_revised['Company'].isin(company_list)]\n",
        "complaints_revised.head(10)"
      ],
      "metadata": {
        "id": "rkYVbvoKUm4v",
        "colab": {
          "base_uri": "https://localhost:8080/",
          "height": 363
        },
        "outputId": "fa876c95-f014-4035-d0af-716e25ade5a2"
      },
      "execution_count": null,
      "outputs": [
        {
          "output_type": "execute_result",
          "data": {
            "text/plain": [
              "                                   Company  \\\n",
              "79                          CITIBANK, N.A.   \n",
              "91   BANK OF AMERICA, NATIONAL ASSOCIATION   \n",
              "95                   WELLS FARGO & COMPANY   \n",
              "263                  WELLS FARGO & COMPANY   \n",
              "266  BANK OF AMERICA, NATIONAL ASSOCIATION   \n",
              "275  BANK OF AMERICA, NATIONAL ASSOCIATION   \n",
              "293                  WELLS FARGO & COMPANY   \n",
              "297  BANK OF AMERICA, NATIONAL ASSOCIATION   \n",
              "315  BANK OF AMERICA, NATIONAL ASSOCIATION   \n",
              "317                  WELLS FARGO & COMPANY   \n",
              "\n",
              "                          Consumer complaint narrative  \n",
              "79   I am disputing a charge of {$2100.00} to my XX...  \n",
              "91   I receive grants from the us government of tre...  \n",
              "95   I was called and emailed a letter from XXXX XX...  \n",
              "263  I found a home online through XXXX and rented ...  \n",
              "266  on XX/XX/2023 i deposited a check into my acco...  \n",
              "275  On XX/XX/2023 received the following emails ad...  \n",
              "293  At XXXX on today, XX/XX/2023, I received an em...  \n",
              "297  I received an direct deposit in my account. Af...  \n",
              "315  I purchased an officer chair in XXXX the compa...  \n",
              "317  On XX/XX/ at XXXX XXXX XXXX XXXX the consumer ...  "
            ],
            "text/html": [
              "\n",
              "  <div id=\"df-b9641ceb-fdc7-4cb0-a8b9-1a8c3c96d33a\" class=\"colab-df-container\">\n",
              "    <div>\n",
              "<style scoped>\n",
              "    .dataframe tbody tr th:only-of-type {\n",
              "        vertical-align: middle;\n",
              "    }\n",
              "\n",
              "    .dataframe tbody tr th {\n",
              "        vertical-align: top;\n",
              "    }\n",
              "\n",
              "    .dataframe thead th {\n",
              "        text-align: right;\n",
              "    }\n",
              "</style>\n",
              "<table border=\"1\" class=\"dataframe\">\n",
              "  <thead>\n",
              "    <tr style=\"text-align: right;\">\n",
              "      <th></th>\n",
              "      <th>Company</th>\n",
              "      <th>Consumer complaint narrative</th>\n",
              "    </tr>\n",
              "  </thead>\n",
              "  <tbody>\n",
              "    <tr>\n",
              "      <th>79</th>\n",
              "      <td>CITIBANK, N.A.</td>\n",
              "      <td>I am disputing a charge of {$2100.00} to my XX...</td>\n",
              "    </tr>\n",
              "    <tr>\n",
              "      <th>91</th>\n",
              "      <td>BANK OF AMERICA, NATIONAL ASSOCIATION</td>\n",
              "      <td>I receive grants from the us government of tre...</td>\n",
              "    </tr>\n",
              "    <tr>\n",
              "      <th>95</th>\n",
              "      <td>WELLS FARGO &amp; COMPANY</td>\n",
              "      <td>I was called and emailed a letter from XXXX XX...</td>\n",
              "    </tr>\n",
              "    <tr>\n",
              "      <th>263</th>\n",
              "      <td>WELLS FARGO &amp; COMPANY</td>\n",
              "      <td>I found a home online through XXXX and rented ...</td>\n",
              "    </tr>\n",
              "    <tr>\n",
              "      <th>266</th>\n",
              "      <td>BANK OF AMERICA, NATIONAL ASSOCIATION</td>\n",
              "      <td>on XX/XX/2023 i deposited a check into my acco...</td>\n",
              "    </tr>\n",
              "    <tr>\n",
              "      <th>275</th>\n",
              "      <td>BANK OF AMERICA, NATIONAL ASSOCIATION</td>\n",
              "      <td>On XX/XX/2023 received the following emails ad...</td>\n",
              "    </tr>\n",
              "    <tr>\n",
              "      <th>293</th>\n",
              "      <td>WELLS FARGO &amp; COMPANY</td>\n",
              "      <td>At XXXX on today, XX/XX/2023, I received an em...</td>\n",
              "    </tr>\n",
              "    <tr>\n",
              "      <th>297</th>\n",
              "      <td>BANK OF AMERICA, NATIONAL ASSOCIATION</td>\n",
              "      <td>I received an direct deposit in my account. Af...</td>\n",
              "    </tr>\n",
              "    <tr>\n",
              "      <th>315</th>\n",
              "      <td>BANK OF AMERICA, NATIONAL ASSOCIATION</td>\n",
              "      <td>I purchased an officer chair in XXXX the compa...</td>\n",
              "    </tr>\n",
              "    <tr>\n",
              "      <th>317</th>\n",
              "      <td>WELLS FARGO &amp; COMPANY</td>\n",
              "      <td>On XX/XX/ at XXXX XXXX XXXX XXXX the consumer ...</td>\n",
              "    </tr>\n",
              "  </tbody>\n",
              "</table>\n",
              "</div>\n",
              "    <div class=\"colab-df-buttons\">\n",
              "\n",
              "  <div class=\"colab-df-container\">\n",
              "    <button class=\"colab-df-convert\" onclick=\"convertToInteractive('df-b9641ceb-fdc7-4cb0-a8b9-1a8c3c96d33a')\"\n",
              "            title=\"Convert this dataframe to an interactive table.\"\n",
              "            style=\"display:none;\">\n",
              "\n",
              "  <svg xmlns=\"http://www.w3.org/2000/svg\" height=\"24px\" viewBox=\"0 -960 960 960\">\n",
              "    <path d=\"M120-120v-720h720v720H120Zm60-500h600v-160H180v160Zm220 220h160v-160H400v160Zm0 220h160v-160H400v160ZM180-400h160v-160H180v160Zm440 0h160v-160H620v160ZM180-180h160v-160H180v160Zm440 0h160v-160H620v160Z\"/>\n",
              "  </svg>\n",
              "    </button>\n",
              "\n",
              "  <style>\n",
              "    .colab-df-container {\n",
              "      display:flex;\n",
              "      gap: 12px;\n",
              "    }\n",
              "\n",
              "    .colab-df-convert {\n",
              "      background-color: #E8F0FE;\n",
              "      border: none;\n",
              "      border-radius: 50%;\n",
              "      cursor: pointer;\n",
              "      display: none;\n",
              "      fill: #1967D2;\n",
              "      height: 32px;\n",
              "      padding: 0 0 0 0;\n",
              "      width: 32px;\n",
              "    }\n",
              "\n",
              "    .colab-df-convert:hover {\n",
              "      background-color: #E2EBFA;\n",
              "      box-shadow: 0px 1px 2px rgba(60, 64, 67, 0.3), 0px 1px 3px 1px rgba(60, 64, 67, 0.15);\n",
              "      fill: #174EA6;\n",
              "    }\n",
              "\n",
              "    .colab-df-buttons div {\n",
              "      margin-bottom: 4px;\n",
              "    }\n",
              "\n",
              "    [theme=dark] .colab-df-convert {\n",
              "      background-color: #3B4455;\n",
              "      fill: #D2E3FC;\n",
              "    }\n",
              "\n",
              "    [theme=dark] .colab-df-convert:hover {\n",
              "      background-color: #434B5C;\n",
              "      box-shadow: 0px 1px 3px 1px rgba(0, 0, 0, 0.15);\n",
              "      filter: drop-shadow(0px 1px 2px rgba(0, 0, 0, 0.3));\n",
              "      fill: #FFFFFF;\n",
              "    }\n",
              "  </style>\n",
              "\n",
              "    <script>\n",
              "      const buttonEl =\n",
              "        document.querySelector('#df-b9641ceb-fdc7-4cb0-a8b9-1a8c3c96d33a button.colab-df-convert');\n",
              "      buttonEl.style.display =\n",
              "        google.colab.kernel.accessAllowed ? 'block' : 'none';\n",
              "\n",
              "      async function convertToInteractive(key) {\n",
              "        const element = document.querySelector('#df-b9641ceb-fdc7-4cb0-a8b9-1a8c3c96d33a');\n",
              "        const dataTable =\n",
              "          await google.colab.kernel.invokeFunction('convertToInteractive',\n",
              "                                                    [key], {});\n",
              "        if (!dataTable) return;\n",
              "\n",
              "        const docLinkHtml = 'Like what you see? Visit the ' +\n",
              "          '<a target=\"_blank\" href=https://colab.research.google.com/notebooks/data_table.ipynb>data table notebook</a>'\n",
              "          + ' to learn more about interactive tables.';\n",
              "        element.innerHTML = '';\n",
              "        dataTable['output_type'] = 'display_data';\n",
              "        await google.colab.output.renderOutput(dataTable, element);\n",
              "        const docLink = document.createElement('div');\n",
              "        docLink.innerHTML = docLinkHtml;\n",
              "        element.appendChild(docLink);\n",
              "      }\n",
              "    </script>\n",
              "  </div>\n",
              "\n",
              "\n",
              "<div id=\"df-48f3cde1-bce9-45b6-80b4-af9c1d534dd1\">\n",
              "  <button class=\"colab-df-quickchart\" onclick=\"quickchart('df-48f3cde1-bce9-45b6-80b4-af9c1d534dd1')\"\n",
              "            title=\"Suggest charts.\"\n",
              "            style=\"display:none;\">\n",
              "\n",
              "<svg xmlns=\"http://www.w3.org/2000/svg\" height=\"24px\"viewBox=\"0 0 24 24\"\n",
              "     width=\"24px\">\n",
              "    <g>\n",
              "        <path d=\"M19 3H5c-1.1 0-2 .9-2 2v14c0 1.1.9 2 2 2h14c1.1 0 2-.9 2-2V5c0-1.1-.9-2-2-2zM9 17H7v-7h2v7zm4 0h-2V7h2v10zm4 0h-2v-4h2v4z\"/>\n",
              "    </g>\n",
              "</svg>\n",
              "  </button>\n",
              "\n",
              "<style>\n",
              "  .colab-df-quickchart {\n",
              "      --bg-color: #E8F0FE;\n",
              "      --fill-color: #1967D2;\n",
              "      --hover-bg-color: #E2EBFA;\n",
              "      --hover-fill-color: #174EA6;\n",
              "      --disabled-fill-color: #AAA;\n",
              "      --disabled-bg-color: #DDD;\n",
              "  }\n",
              "\n",
              "  [theme=dark] .colab-df-quickchart {\n",
              "      --bg-color: #3B4455;\n",
              "      --fill-color: #D2E3FC;\n",
              "      --hover-bg-color: #434B5C;\n",
              "      --hover-fill-color: #FFFFFF;\n",
              "      --disabled-bg-color: #3B4455;\n",
              "      --disabled-fill-color: #666;\n",
              "  }\n",
              "\n",
              "  .colab-df-quickchart {\n",
              "    background-color: var(--bg-color);\n",
              "    border: none;\n",
              "    border-radius: 50%;\n",
              "    cursor: pointer;\n",
              "    display: none;\n",
              "    fill: var(--fill-color);\n",
              "    height: 32px;\n",
              "    padding: 0;\n",
              "    width: 32px;\n",
              "  }\n",
              "\n",
              "  .colab-df-quickchart:hover {\n",
              "    background-color: var(--hover-bg-color);\n",
              "    box-shadow: 0 1px 2px rgba(60, 64, 67, 0.3), 0 1px 3px 1px rgba(60, 64, 67, 0.15);\n",
              "    fill: var(--button-hover-fill-color);\n",
              "  }\n",
              "\n",
              "  .colab-df-quickchart-complete:disabled,\n",
              "  .colab-df-quickchart-complete:disabled:hover {\n",
              "    background-color: var(--disabled-bg-color);\n",
              "    fill: var(--disabled-fill-color);\n",
              "    box-shadow: none;\n",
              "  }\n",
              "\n",
              "  .colab-df-spinner {\n",
              "    border: 2px solid var(--fill-color);\n",
              "    border-color: transparent;\n",
              "    border-bottom-color: var(--fill-color);\n",
              "    animation:\n",
              "      spin 1s steps(1) infinite;\n",
              "  }\n",
              "\n",
              "  @keyframes spin {\n",
              "    0% {\n",
              "      border-color: transparent;\n",
              "      border-bottom-color: var(--fill-color);\n",
              "      border-left-color: var(--fill-color);\n",
              "    }\n",
              "    20% {\n",
              "      border-color: transparent;\n",
              "      border-left-color: var(--fill-color);\n",
              "      border-top-color: var(--fill-color);\n",
              "    }\n",
              "    30% {\n",
              "      border-color: transparent;\n",
              "      border-left-color: var(--fill-color);\n",
              "      border-top-color: var(--fill-color);\n",
              "      border-right-color: var(--fill-color);\n",
              "    }\n",
              "    40% {\n",
              "      border-color: transparent;\n",
              "      border-right-color: var(--fill-color);\n",
              "      border-top-color: var(--fill-color);\n",
              "    }\n",
              "    60% {\n",
              "      border-color: transparent;\n",
              "      border-right-color: var(--fill-color);\n",
              "    }\n",
              "    80% {\n",
              "      border-color: transparent;\n",
              "      border-right-color: var(--fill-color);\n",
              "      border-bottom-color: var(--fill-color);\n",
              "    }\n",
              "    90% {\n",
              "      border-color: transparent;\n",
              "      border-bottom-color: var(--fill-color);\n",
              "    }\n",
              "  }\n",
              "</style>\n",
              "\n",
              "  <script>\n",
              "    async function quickchart(key) {\n",
              "      const quickchartButtonEl =\n",
              "        document.querySelector('#' + key + ' button');\n",
              "      quickchartButtonEl.disabled = true;  // To prevent multiple clicks.\n",
              "      quickchartButtonEl.classList.add('colab-df-spinner');\n",
              "      try {\n",
              "        const charts = await google.colab.kernel.invokeFunction(\n",
              "            'suggestCharts', [key], {});\n",
              "      } catch (error) {\n",
              "        console.error('Error during call to suggestCharts:', error);\n",
              "      }\n",
              "      quickchartButtonEl.classList.remove('colab-df-spinner');\n",
              "      quickchartButtonEl.classList.add('colab-df-quickchart-complete');\n",
              "    }\n",
              "    (() => {\n",
              "      let quickchartButtonEl =\n",
              "        document.querySelector('#df-48f3cde1-bce9-45b6-80b4-af9c1d534dd1 button');\n",
              "      quickchartButtonEl.style.display =\n",
              "        google.colab.kernel.accessAllowed ? 'block' : 'none';\n",
              "    })();\n",
              "  </script>\n",
              "</div>\n",
              "    </div>\n",
              "  </div>\n"
            ]
          },
          "metadata": {},
          "execution_count": 7
        }
      ]
    },
    {
      "cell_type": "code",
      "source": [
        "complaints_revised.info()"
      ],
      "metadata": {
        "id": "nrRCYaEAUqiV",
        "colab": {
          "base_uri": "https://localhost:8080/"
        },
        "outputId": "139aae8b-91f0-4412-d6ed-c05d828ad689"
      },
      "execution_count": null,
      "outputs": [
        {
          "output_type": "stream",
          "name": "stdout",
          "text": [
            "<class 'pandas.core.frame.DataFrame'>\n",
            "Int64Index: 141043 entries, 79 to 4026929\n",
            "Data columns (total 2 columns):\n",
            " #   Column                        Non-Null Count   Dtype \n",
            "---  ------                        --------------   ----- \n",
            " 0   Company                       141043 non-null  object\n",
            " 1   Consumer complaint narrative  141043 non-null  object\n",
            "dtypes: object(2)\n",
            "memory usage: 3.2+ MB\n"
          ]
        }
      ]
    },
    {
      "cell_type": "code",
      "source": [
        "import random\n",
        "\n",
        "# Specify the sample size you want - 50\n",
        "sample_size = 50\n",
        "\n",
        "# Extract the 'Consumer complaint narrative' column as a list\n",
        "narratives = complaints_revised['Consumer complaint narrative'].tolist()\n",
        "\n",
        "# Check if the number of narratives is greater than the desired sample size\n",
        "if len(narratives) > sample_size:\n",
        "    random_samples = random.sample(narratives, sample_size)\n",
        "else:\n",
        "    random_samples = narratives\n",
        "\n",
        "# Create a DataFrame from the sampled narratives\n",
        "sample = pd.DataFrame({'Consumer complaint narrative': random_samples})"
      ],
      "metadata": {
        "id": "xcfJzkN-Uvuy"
      },
      "execution_count": null,
      "outputs": []
    },
    {
      "cell_type": "code",
      "source": [
        "sample.head(10)"
      ],
      "metadata": {
        "id": "yQhXXkGiU2uu",
        "colab": {
          "base_uri": "https://localhost:8080/",
          "height": 363
        },
        "outputId": "886fa849-f476-4c71-c37a-77ae72c411b5"
      },
      "execution_count": null,
      "outputs": [
        {
          "output_type": "execute_result",
          "data": {
            "text/plain": [
              "                        Consumer complaint narrative\n",
              "0  Citibank XXXX brooks brothers XXXX XXXX XXXX r...\n",
              "1  I Contacted the bank a few months back about a...\n",
              "2  We in the process of contacting the credit bur...\n",
              "3  This complaint concerns the XXXX XXXX XXXX cre...\n",
              "4  To whom it may concern, I am writing in respon...\n",
              "5  I applied for a Citigold checking account with...\n",
              "6  This card was open XXXX or XXXX the name is ca...\n",
              "7  Hi, On XX/XX/2017 Bank of America send a wire ...\n",
              "8  I have a checking account with wells Fargo. Du...\n",
              "9  Last year I was notified that I had a debt fro..."
            ],
            "text/html": [
              "\n",
              "  <div id=\"df-b61fda2c-ecc0-49c9-a580-6d16ecd9e50f\" class=\"colab-df-container\">\n",
              "    <div>\n",
              "<style scoped>\n",
              "    .dataframe tbody tr th:only-of-type {\n",
              "        vertical-align: middle;\n",
              "    }\n",
              "\n",
              "    .dataframe tbody tr th {\n",
              "        vertical-align: top;\n",
              "    }\n",
              "\n",
              "    .dataframe thead th {\n",
              "        text-align: right;\n",
              "    }\n",
              "</style>\n",
              "<table border=\"1\" class=\"dataframe\">\n",
              "  <thead>\n",
              "    <tr style=\"text-align: right;\">\n",
              "      <th></th>\n",
              "      <th>Consumer complaint narrative</th>\n",
              "    </tr>\n",
              "  </thead>\n",
              "  <tbody>\n",
              "    <tr>\n",
              "      <th>0</th>\n",
              "      <td>Citibank XXXX brooks brothers XXXX XXXX XXXX r...</td>\n",
              "    </tr>\n",
              "    <tr>\n",
              "      <th>1</th>\n",
              "      <td>I Contacted the bank a few months back about a...</td>\n",
              "    </tr>\n",
              "    <tr>\n",
              "      <th>2</th>\n",
              "      <td>We in the process of contacting the credit bur...</td>\n",
              "    </tr>\n",
              "    <tr>\n",
              "      <th>3</th>\n",
              "      <td>This complaint concerns the XXXX XXXX XXXX cre...</td>\n",
              "    </tr>\n",
              "    <tr>\n",
              "      <th>4</th>\n",
              "      <td>To whom it may concern, I am writing in respon...</td>\n",
              "    </tr>\n",
              "    <tr>\n",
              "      <th>5</th>\n",
              "      <td>I applied for a Citigold checking account with...</td>\n",
              "    </tr>\n",
              "    <tr>\n",
              "      <th>6</th>\n",
              "      <td>This card was open XXXX or XXXX the name is ca...</td>\n",
              "    </tr>\n",
              "    <tr>\n",
              "      <th>7</th>\n",
              "      <td>Hi, On XX/XX/2017 Bank of America send a wire ...</td>\n",
              "    </tr>\n",
              "    <tr>\n",
              "      <th>8</th>\n",
              "      <td>I have a checking account with wells Fargo. Du...</td>\n",
              "    </tr>\n",
              "    <tr>\n",
              "      <th>9</th>\n",
              "      <td>Last year I was notified that I had a debt fro...</td>\n",
              "    </tr>\n",
              "  </tbody>\n",
              "</table>\n",
              "</div>\n",
              "    <div class=\"colab-df-buttons\">\n",
              "\n",
              "  <div class=\"colab-df-container\">\n",
              "    <button class=\"colab-df-convert\" onclick=\"convertToInteractive('df-b61fda2c-ecc0-49c9-a580-6d16ecd9e50f')\"\n",
              "            title=\"Convert this dataframe to an interactive table.\"\n",
              "            style=\"display:none;\">\n",
              "\n",
              "  <svg xmlns=\"http://www.w3.org/2000/svg\" height=\"24px\" viewBox=\"0 -960 960 960\">\n",
              "    <path d=\"M120-120v-720h720v720H120Zm60-500h600v-160H180v160Zm220 220h160v-160H400v160Zm0 220h160v-160H400v160ZM180-400h160v-160H180v160Zm440 0h160v-160H620v160ZM180-180h160v-160H180v160Zm440 0h160v-160H620v160Z\"/>\n",
              "  </svg>\n",
              "    </button>\n",
              "\n",
              "  <style>\n",
              "    .colab-df-container {\n",
              "      display:flex;\n",
              "      gap: 12px;\n",
              "    }\n",
              "\n",
              "    .colab-df-convert {\n",
              "      background-color: #E8F0FE;\n",
              "      border: none;\n",
              "      border-radius: 50%;\n",
              "      cursor: pointer;\n",
              "      display: none;\n",
              "      fill: #1967D2;\n",
              "      height: 32px;\n",
              "      padding: 0 0 0 0;\n",
              "      width: 32px;\n",
              "    }\n",
              "\n",
              "    .colab-df-convert:hover {\n",
              "      background-color: #E2EBFA;\n",
              "      box-shadow: 0px 1px 2px rgba(60, 64, 67, 0.3), 0px 1px 3px 1px rgba(60, 64, 67, 0.15);\n",
              "      fill: #174EA6;\n",
              "    }\n",
              "\n",
              "    .colab-df-buttons div {\n",
              "      margin-bottom: 4px;\n",
              "    }\n",
              "\n",
              "    [theme=dark] .colab-df-convert {\n",
              "      background-color: #3B4455;\n",
              "      fill: #D2E3FC;\n",
              "    }\n",
              "\n",
              "    [theme=dark] .colab-df-convert:hover {\n",
              "      background-color: #434B5C;\n",
              "      box-shadow: 0px 1px 3px 1px rgba(0, 0, 0, 0.15);\n",
              "      filter: drop-shadow(0px 1px 2px rgba(0, 0, 0, 0.3));\n",
              "      fill: #FFFFFF;\n",
              "    }\n",
              "  </style>\n",
              "\n",
              "    <script>\n",
              "      const buttonEl =\n",
              "        document.querySelector('#df-b61fda2c-ecc0-49c9-a580-6d16ecd9e50f button.colab-df-convert');\n",
              "      buttonEl.style.display =\n",
              "        google.colab.kernel.accessAllowed ? 'block' : 'none';\n",
              "\n",
              "      async function convertToInteractive(key) {\n",
              "        const element = document.querySelector('#df-b61fda2c-ecc0-49c9-a580-6d16ecd9e50f');\n",
              "        const dataTable =\n",
              "          await google.colab.kernel.invokeFunction('convertToInteractive',\n",
              "                                                    [key], {});\n",
              "        if (!dataTable) return;\n",
              "\n",
              "        const docLinkHtml = 'Like what you see? Visit the ' +\n",
              "          '<a target=\"_blank\" href=https://colab.research.google.com/notebooks/data_table.ipynb>data table notebook</a>'\n",
              "          + ' to learn more about interactive tables.';\n",
              "        element.innerHTML = '';\n",
              "        dataTable['output_type'] = 'display_data';\n",
              "        await google.colab.output.renderOutput(dataTable, element);\n",
              "        const docLink = document.createElement('div');\n",
              "        docLink.innerHTML = docLinkHtml;\n",
              "        element.appendChild(docLink);\n",
              "      }\n",
              "    </script>\n",
              "  </div>\n",
              "\n",
              "\n",
              "<div id=\"df-e0561010-8a99-4ff8-94a5-7cdd959f12ba\">\n",
              "  <button class=\"colab-df-quickchart\" onclick=\"quickchart('df-e0561010-8a99-4ff8-94a5-7cdd959f12ba')\"\n",
              "            title=\"Suggest charts.\"\n",
              "            style=\"display:none;\">\n",
              "\n",
              "<svg xmlns=\"http://www.w3.org/2000/svg\" height=\"24px\"viewBox=\"0 0 24 24\"\n",
              "     width=\"24px\">\n",
              "    <g>\n",
              "        <path d=\"M19 3H5c-1.1 0-2 .9-2 2v14c0 1.1.9 2 2 2h14c1.1 0 2-.9 2-2V5c0-1.1-.9-2-2-2zM9 17H7v-7h2v7zm4 0h-2V7h2v10zm4 0h-2v-4h2v4z\"/>\n",
              "    </g>\n",
              "</svg>\n",
              "  </button>\n",
              "\n",
              "<style>\n",
              "  .colab-df-quickchart {\n",
              "      --bg-color: #E8F0FE;\n",
              "      --fill-color: #1967D2;\n",
              "      --hover-bg-color: #E2EBFA;\n",
              "      --hover-fill-color: #174EA6;\n",
              "      --disabled-fill-color: #AAA;\n",
              "      --disabled-bg-color: #DDD;\n",
              "  }\n",
              "\n",
              "  [theme=dark] .colab-df-quickchart {\n",
              "      --bg-color: #3B4455;\n",
              "      --fill-color: #D2E3FC;\n",
              "      --hover-bg-color: #434B5C;\n",
              "      --hover-fill-color: #FFFFFF;\n",
              "      --disabled-bg-color: #3B4455;\n",
              "      --disabled-fill-color: #666;\n",
              "  }\n",
              "\n",
              "  .colab-df-quickchart {\n",
              "    background-color: var(--bg-color);\n",
              "    border: none;\n",
              "    border-radius: 50%;\n",
              "    cursor: pointer;\n",
              "    display: none;\n",
              "    fill: var(--fill-color);\n",
              "    height: 32px;\n",
              "    padding: 0;\n",
              "    width: 32px;\n",
              "  }\n",
              "\n",
              "  .colab-df-quickchart:hover {\n",
              "    background-color: var(--hover-bg-color);\n",
              "    box-shadow: 0 1px 2px rgba(60, 64, 67, 0.3), 0 1px 3px 1px rgba(60, 64, 67, 0.15);\n",
              "    fill: var(--button-hover-fill-color);\n",
              "  }\n",
              "\n",
              "  .colab-df-quickchart-complete:disabled,\n",
              "  .colab-df-quickchart-complete:disabled:hover {\n",
              "    background-color: var(--disabled-bg-color);\n",
              "    fill: var(--disabled-fill-color);\n",
              "    box-shadow: none;\n",
              "  }\n",
              "\n",
              "  .colab-df-spinner {\n",
              "    border: 2px solid var(--fill-color);\n",
              "    border-color: transparent;\n",
              "    border-bottom-color: var(--fill-color);\n",
              "    animation:\n",
              "      spin 1s steps(1) infinite;\n",
              "  }\n",
              "\n",
              "  @keyframes spin {\n",
              "    0% {\n",
              "      border-color: transparent;\n",
              "      border-bottom-color: var(--fill-color);\n",
              "      border-left-color: var(--fill-color);\n",
              "    }\n",
              "    20% {\n",
              "      border-color: transparent;\n",
              "      border-left-color: var(--fill-color);\n",
              "      border-top-color: var(--fill-color);\n",
              "    }\n",
              "    30% {\n",
              "      border-color: transparent;\n",
              "      border-left-color: var(--fill-color);\n",
              "      border-top-color: var(--fill-color);\n",
              "      border-right-color: var(--fill-color);\n",
              "    }\n",
              "    40% {\n",
              "      border-color: transparent;\n",
              "      border-right-color: var(--fill-color);\n",
              "      border-top-color: var(--fill-color);\n",
              "    }\n",
              "    60% {\n",
              "      border-color: transparent;\n",
              "      border-right-color: var(--fill-color);\n",
              "    }\n",
              "    80% {\n",
              "      border-color: transparent;\n",
              "      border-right-color: var(--fill-color);\n",
              "      border-bottom-color: var(--fill-color);\n",
              "    }\n",
              "    90% {\n",
              "      border-color: transparent;\n",
              "      border-bottom-color: var(--fill-color);\n",
              "    }\n",
              "  }\n",
              "</style>\n",
              "\n",
              "  <script>\n",
              "    async function quickchart(key) {\n",
              "      const quickchartButtonEl =\n",
              "        document.querySelector('#' + key + ' button');\n",
              "      quickchartButtonEl.disabled = true;  // To prevent multiple clicks.\n",
              "      quickchartButtonEl.classList.add('colab-df-spinner');\n",
              "      try {\n",
              "        const charts = await google.colab.kernel.invokeFunction(\n",
              "            'suggestCharts', [key], {});\n",
              "      } catch (error) {\n",
              "        console.error('Error during call to suggestCharts:', error);\n",
              "      }\n",
              "      quickchartButtonEl.classList.remove('colab-df-spinner');\n",
              "      quickchartButtonEl.classList.add('colab-df-quickchart-complete');\n",
              "    }\n",
              "    (() => {\n",
              "      let quickchartButtonEl =\n",
              "        document.querySelector('#df-e0561010-8a99-4ff8-94a5-7cdd959f12ba button');\n",
              "      quickchartButtonEl.style.display =\n",
              "        google.colab.kernel.accessAllowed ? 'block' : 'none';\n",
              "    })();\n",
              "  </script>\n",
              "</div>\n",
              "    </div>\n",
              "  </div>\n"
            ]
          },
          "metadata": {},
          "execution_count": 10
        }
      ]
    },
    {
      "cell_type": "code",
      "source": [
        "sample.isnull().sum()"
      ],
      "metadata": {
        "id": "yrGUQyD-VIAD",
        "colab": {
          "base_uri": "https://localhost:8080/"
        },
        "outputId": "1cb46d83-783e-416e-c6c7-9ab5408bb749"
      },
      "execution_count": null,
      "outputs": [
        {
          "output_type": "execute_result",
          "data": {
            "text/plain": [
              "Consumer complaint narrative    0\n",
              "dtype: int64"
            ]
          },
          "metadata": {},
          "execution_count": 11
        }
      ]
    },
    {
      "cell_type": "markdown",
      "source": [
        "# 0_Setup\n",
        "#### Load the API key and relevant Python libaries."
      ],
      "metadata": {
        "id": "mIUcOoutWLym"
      }
    },
    {
      "cell_type": "code",
      "source": [
        "OPENAI_API_KEY = 'sk-***'\n",
        "# each person has to use own api key"
      ],
      "metadata": {
        "id": "nZo_kf9aWQyA"
      },
      "execution_count": null,
      "outputs": []
    },
    {
      "cell_type": "code",
      "source": [
        "!pip install openai"
      ],
      "metadata": {
        "id": "XbuEDjgjWdkb",
        "colab": {
          "base_uri": "https://localhost:8080/"
        },
        "outputId": "464ffdf1-fa81-4968-d4e5-26418564850a"
      },
      "execution_count": null,
      "outputs": [
        {
          "output_type": "stream",
          "name": "stdout",
          "text": [
            "Collecting openai\n",
            "  Downloading openai-0.28.1-py3-none-any.whl (76 kB)\n",
            "\u001b[?25l     \u001b[90m━━━━━━━━━━━━━━━━━━━━━━━━━━━━━━━━━━━━━━━━\u001b[0m \u001b[32m0.0/77.0 kB\u001b[0m \u001b[31m?\u001b[0m eta \u001b[36m-:--:--\u001b[0m\r\u001b[2K     \u001b[90m━━━━━━━━━━━━━━━━━━━━━━━━━━━━━━━━━━━━━━━━\u001b[0m \u001b[32m77.0/77.0 kB\u001b[0m \u001b[31m2.0 MB/s\u001b[0m eta \u001b[36m0:00:00\u001b[0m\n",
            "\u001b[?25hRequirement already satisfied: requests>=2.20 in /usr/local/lib/python3.10/dist-packages (from openai) (2.31.0)\n",
            "Requirement already satisfied: tqdm in /usr/local/lib/python3.10/dist-packages (from openai) (4.66.1)\n",
            "Requirement already satisfied: aiohttp in /usr/local/lib/python3.10/dist-packages (from openai) (3.8.6)\n",
            "Requirement already satisfied: charset-normalizer<4,>=2 in /usr/local/lib/python3.10/dist-packages (from requests>=2.20->openai) (3.3.0)\n",
            "Requirement already satisfied: idna<4,>=2.5 in /usr/local/lib/python3.10/dist-packages (from requests>=2.20->openai) (3.4)\n",
            "Requirement already satisfied: urllib3<3,>=1.21.1 in /usr/local/lib/python3.10/dist-packages (from requests>=2.20->openai) (2.0.7)\n",
            "Requirement already satisfied: certifi>=2017.4.17 in /usr/local/lib/python3.10/dist-packages (from requests>=2.20->openai) (2023.7.22)\n",
            "Requirement already satisfied: attrs>=17.3.0 in /usr/local/lib/python3.10/dist-packages (from aiohttp->openai) (23.1.0)\n",
            "Requirement already satisfied: multidict<7.0,>=4.5 in /usr/local/lib/python3.10/dist-packages (from aiohttp->openai) (6.0.4)\n",
            "Requirement already satisfied: async-timeout<5.0,>=4.0.0a3 in /usr/local/lib/python3.10/dist-packages (from aiohttp->openai) (4.0.3)\n",
            "Requirement already satisfied: yarl<2.0,>=1.0 in /usr/local/lib/python3.10/dist-packages (from aiohttp->openai) (1.9.2)\n",
            "Requirement already satisfied: frozenlist>=1.1.1 in /usr/local/lib/python3.10/dist-packages (from aiohttp->openai) (1.4.0)\n",
            "Requirement already satisfied: aiosignal>=1.1.2 in /usr/local/lib/python3.10/dist-packages (from aiohttp->openai) (1.3.1)\n",
            "Installing collected packages: openai\n",
            "\u001b[31mERROR: pip's dependency resolver does not currently take into account all the packages that are installed. This behaviour is the source of the following dependency conflicts.\n",
            "llmx 0.0.15a0 requires cohere, which is not installed.\n",
            "llmx 0.0.15a0 requires tiktoken, which is not installed.\u001b[0m\u001b[31m\n",
            "\u001b[0mSuccessfully installed openai-0.28.1\n"
          ]
        }
      ]
    },
    {
      "cell_type": "code",
      "source": [
        "import openai\n",
        "import os\n",
        "import time\n",
        "\n",
        "openai.api_key  = OPENAI_API_KEY"
      ],
      "metadata": {
        "id": "_CyrMBx1WgbX"
      },
      "execution_count": null,
      "outputs": []
    },
    {
      "cell_type": "markdown",
      "source": [
        "#### helper function\n",
        "we will use OpenAI's `gpt-3.5-turbo` model and the [chat completions endpoint](https://platform.openai.com/docs/guides/chat).\n",
        "\n",
        "This helper function will make it easier to use prompts and look at the generated outputs:"
      ],
      "metadata": {
        "id": "FX_17XLMWkUj"
      }
    },
    {
      "cell_type": "code",
      "source": [
        "def get_completion(prompt, model=\"gpt-3.5-turbo\", temperature=0):\n",
        "    messages = [{\"role\": \"user\", \"content\": prompt}]\n",
        "    response = openai.ChatCompletion.create(\n",
        "        model=model,\n",
        "        messages=messages,\n",
        "        temperature=temperature, # this is the degree of randomness of the model's output\n",
        "    )\n",
        "    return response.choices[0].message[\"content\"]"
      ],
      "metadata": {
        "id": "1ehsCDG8WxSK"
      },
      "execution_count": null,
      "outputs": []
    },
    {
      "cell_type": "code",
      "source": [
        "# add error, retry\n",
        "def get_completion(prompt, model=\"gpt-3.5-turbo\", temperature=0, verbose=False):\n",
        "    messages = [{\"role\": \"user\", \"content\": prompt}]\n",
        "\n",
        "    time_start = time.time()\n",
        "    retry_count = 3\n",
        "    for i in range(0, retry_count):\n",
        "        while True:\n",
        "            try:\n",
        "                response = openai.ChatCompletion.create(\n",
        "                    model=model,\n",
        "                    messages=messages,\n",
        "                    temperature=temperature, # this is the degree of randomness of the model's output\n",
        "                )\n",
        "                answer = response['choices'][0]['message']['content'].strip()\n",
        "                tokens = response.usage.total_tokens\n",
        "\n",
        "\n",
        "                time_end = time.time()\n",
        "\n",
        "                if verbose:\n",
        "                    print('prompt: %s | token: %d | %.1fsec\\nanwer : %s'%(prompt, tokens, (time_end - time_start), answer))\n",
        "                return answer\n",
        "\n",
        "            except Exception as error:\n",
        "                print(f\"API Error: {error}\")\n",
        "                print(f\"Retrying {i+1} time(s) in 4 seconds...\")\n",
        "\n",
        "                if i+1 == retry_count:\n",
        "                    return prompt, None, None\n",
        "                time.sleep(4)\n",
        "                continue"
      ],
      "metadata": {
        "id": "zAhgHe2SW41G"
      },
      "execution_count": null,
      "outputs": []
    },
    {
      "cell_type": "code",
      "source": [
        "prompt = 'Please explain what ChatGPT in 20 words'\n",
        "answer = get_completion(prompt, model=\"gpt-3.5-turbo\")\n",
        "print(answer)"
      ],
      "metadata": {
        "id": "fXtGu8urW7FC",
        "colab": {
          "base_uri": "https://localhost:8080/"
        },
        "outputId": "403a7e61-488a-47fb-e1c9-d77d483f3869"
      },
      "execution_count": null,
      "outputs": [
        {
          "output_type": "stream",
          "name": "stdout",
          "text": [
            "ChatGPT is an AI language model developed by OpenAI that can engage in conversational interactions and provide responses to user inputs.\n"
          ]
        }
      ]
    },
    {
      "cell_type": "markdown",
      "source": [
        "# 1_Guidelines for Prompting\n",
        "two prompting principles and their related tactics in order to write effective prompts for large language models."
      ],
      "metadata": {
        "id": "nMTKyjGQXFVl"
      }
    },
    {
      "cell_type": "markdown",
      "source": [
        "## Prompting Principles\n",
        "- **Principle 1: Write clear and specific instructions**  \n",
        "- **Principle 2: Give the model time to “think”**\n",
        "\n",
        "### Tactics\n",
        "\n",
        "#### Tactic 1: Use delimiters to clearly indicate distinct parts of the input,  \n",
        "- Delimiters can be anything like: ```, \"\"\", < >, `<tag> </tag>`, `:`,  "
      ],
      "metadata": {
        "id": "LDLu29LnXgpD"
      }
    },
    {
      "cell_type": "code",
      "source": [
        "text = f\"\"\"\n",
        "You should express what you want a model to do by \\\n",
        "providing instructions that are as clear and \\\n",
        "specific as you can possibly make them. \\\n",
        "This will guide the model towards the desired output, \\\n",
        "and reduce the chances of receiving irrelevant \\\n",
        "or incorrect responses. Don't confuse writing a \\\n",
        "clear prompt with writing a short prompt. \\\n",
        "In many cases, longer prompts provide more clarity \\\n",
        "and context for the model, which can lead to \\\n",
        "more detailed and relevant outputs.\n",
        "\"\"\"\n",
        "prompt = f\"\"\"\n",
        "Summarize the text delimited by triple backticks \\\n",
        "into a single sentence.\n",
        "```{text}```\n",
        "\"\"\"\n",
        "response = get_completion(prompt)\n",
        "print(response)"
      ],
      "metadata": {
        "id": "tl0KkqFOXsd1",
        "colab": {
          "base_uri": "https://localhost:8080/"
        },
        "outputId": "3a1e2e2a-1a7c-4fce-e1ea-954299636e9f"
      },
      "execution_count": null,
      "outputs": [
        {
          "output_type": "stream",
          "name": "stdout",
          "text": [
            "To guide a model towards the desired output and minimize irrelevant or incorrect responses, it is important to provide clear and specific instructions, even if it means writing longer prompts that offer more clarity and context.\n"
          ]
        }
      ]
    },
    {
      "cell_type": "markdown",
      "source": [
        "### Principle 2: Give the model time to “think”\n",
        "\n",
        "#### Tactic 1: Specify the steps required to complete a task"
      ],
      "metadata": {
        "id": "oveo_2K-ljiw"
      }
    },
    {
      "cell_type": "code",
      "source": [
        "text = f\"\"\"\n",
        "In a charming village, siblings Jack and Jill set out on \\\n",
        "a quest to fetch water from a hilltop \\\n",
        "well. As they climbed, singing joyfully, misfortune \\\n",
        "struck—Jack tripped on a stone and tumbled \\\n",
        "down the hill, with Jill following suit. \\\n",
        "Though slightly battered, the pair returned home to \\\n",
        "comforting embraces. Despite the mishap, \\\n",
        "their adventurous spirits remained undimmed, and they \\\n",
        "continued exploring with delight.\n",
        "\"\"\"\n",
        "# example 1\n",
        "prompt_1 = f\"\"\"\n",
        "Perform the following actions:\n",
        "1 - Summarize the following text delimited by triple \\\n",
        "backticks with 1 sentence.\n",
        "2 - Translate the summary into French.\n",
        "3 - List each name in the French summary.\n",
        "4 - Output a json object that contains the following \\\n",
        "keys: french_summary, num_names.\n",
        "\n",
        "Separate your answers with line breaks.\n",
        "\n",
        "Text:\n",
        "```{text}```\n",
        "\"\"\"\n",
        "response = get_completion(prompt_1)\n",
        "print(\"Completion for prompt 1:\")\n",
        "print(response)"
      ],
      "metadata": {
        "id": "KIiL6JxzlhLh",
        "colab": {
          "base_uri": "https://localhost:8080/"
        },
        "outputId": "034984ad-9298-481e-f07c-302d284b5a53"
      },
      "execution_count": null,
      "outputs": [
        {
          "output_type": "stream",
          "name": "stdout",
          "text": [
            "Completion for prompt 1:\n",
            "1 - Jack and Jill, siblings, go on a quest to fetch water from a well on a hill, but they both fall down the hill and return home slightly injured but still adventurous.\n",
            "\n",
            "2 - Jack et Jill, frère et sœur, partent à la recherche d'eau d'un puits situé au sommet d'une colline, mais ils tombent tous les deux et rentrent chez eux légèrement blessés mais toujours aventureux.\n",
            "\n",
            "3 - Jack, Jill.\n",
            "\n",
            "4 - {\n",
            "  \"french_summary\": \"Jack et Jill, frère et sœur, partent à la recherche d'eau d'un puits situé au sommet d'une colline, mais ils tombent tous les deux et rentrent chez eux légèrement blessés mais toujours aventureux.\",\n",
            "  \"num_names\": 2\n",
            "}\n"
          ]
        }
      ]
    },
    {
      "cell_type": "markdown",
      "source": [
        "## Synthesize Complaints"
      ],
      "metadata": {
        "id": "iSLfsPQJesxL"
      }
    },
    {
      "cell_type": "markdown",
      "source": [
        "\n",
        "\n",
        "* The initial exploratory analysis identified three types of complaints:\n",
        " * Complaints that are generally well written - DESIRABLE\n",
        " * Complaints with very poor grammar and punctuation - PROBLEMATIC\n",
        " * Complaints with frivolous, unrelated information - PROBLEMATIC\n",
        "\n",
        "\n",
        "\n",
        "Based on this, we had this idea: Have we focus on just the invariance and robustness aspects related to these “problematic” complaints and focus on questions like “Can the right LLM with the right prompt ‘clean up’ these problematic complaints?” In other words, can an LLM correct the poor grammar and punctuation without changing the meaning (invariance) and can an LLM identify the frivolous content of a complaint (robustness)?\n",
        "\n",
        "\n",
        "\n"
      ],
      "metadata": {
        "id": "kQC9uOIkqf97"
      }
    },
    {
      "cell_type": "markdown",
      "source": [
        "Sample Complaints - Lets see how it looks like"
      ],
      "metadata": {
        "id": "sCgkBXNFwF55"
      }
    },
    {
      "cell_type": "code",
      "source": [
        "random_samples[:5]"
      ],
      "metadata": {
        "id": "6nw4DdEewKG6",
        "colab": {
          "base_uri": "https://localhost:8080/"
        },
        "outputId": "e49cfe96-ca82-41d2-89ba-58a6cd6925cd"
      },
      "execution_count": null,
      "outputs": [
        {
          "output_type": "execute_result",
          "data": {
            "text/plain": [
              "[\"Citibank XXXX brooks brothers XXXX XXXX XXXX reduced my credit limit without any warning and without any notice at all prior to doing so, so that my account went all the way to 99 % utilization rate, on XX/XX/2022, when the most recent payment was due, and the date that I made a payment. I have never missed a single payment on any credit card or loan account and have never had an issue making more than minimum payments. I never received any mailing or notice about a decrease or any warning about it. the company did not even tell me, another identity theft protection plan I use told me about the credit decrease and the resulting increase in utilization rate. This is a violation of the fair credit reporting act because she stated that the reason they did so was because of payment delinquency ( not true ) which would required the notice. She said that the notice would be received in 7-10 days from TODAY, XX/XX/2022, which is days after this all apparently happened. \\n\\nI reached out to customer service and the lady was rude and said it was the credit agency 's fault and that she could not do anything. When I brought up that I was charged a late fee on XX/XX/XXXX, and then refunded that same late fee on the same date she got agitated. Then when i asked why I never received any notice or warning about it and she said that Citibank doesn't do that and wouldn't do it without telling people. I let her know that I never received any warning or notice and that literally another company which I pay to protect my identity were the only reason I found out. She said XXXX did the report but that doesn't mean that I shouldn't have been told about it. Then she hung up me when I asked about why i never received any letter or notice or anything about it. \\n\\nI don't care ultimately about the credit line or these nefarious people with suspect practices but I never was even told about it. no notice at all. it is not right. \\n\\nThen she hung up me when I asked about why i never received any letter or notice or anything about it. \\n\\nAlso the document and the website says i requested a cash advance which never happened.\",\n",
              " \"I Contacted the bank a few months back about a debit transaction for an unauthorized amount over XXXX for a Jewelry Store. I don't even wear jewelry!!!! The name of the Merchant was XXXX XXXX or something of that sort. I asked that the bank investigate this and return my funs. The bank once again after all the negative press this bank gets for fraud and scams did not resolve the issue. Basically Told me I was the one who authorized this and I did not. I asked what were the determining factors and the rep started to stutter and of course made up a lie that they would send the details of the decision in the mail. At this point I want my money back from this joke of a bank. Ive been a customer since XX/XX/2009 and have over XXXX sitting in that account plus more at another institution. Im going to blast this bank all over the net and make sure people know not to do business with them and that their money is not safe here. The bank closed and reissued the card for fraud. But won't charge back my funds, this is crazy.\",\n",
              " 'We in the process of contacting the credit bureaus to investigate the inquiries.',\n",
              " 'This complaint concerns the XXXX XXXX XXXX credit card offered through Bank of America. The card essentially offers miles for purchases that can be redeemed on XXXX XXXX, as well as on hotels. \\n\\nOn the two separate occasions I\\'ve tried to use the miles I\\'ve earned to book a hotel, I receive a \" technical error. \\'\\' I\\'ve tried to seek a resolution with the company. I\\'ve done everything I\\'ve been directed to do, including clearing my cookies, trying a new search, using a different credit card to book, and making sure my bank is aware that I\\'m trying to use a card for an online booking. This company does not offer phone booking and has been unable to provide any kind of resolution other than to simply not use the benefit I have paid for. There is no option to ask for a cash refund of the miles I\\'ve earned.',\n",
              " 'To whom it may concern, I am writing in response to the closed CFPB complaint : XXXX. \\nI received the mailed results however the evidence is not sufficient to verify and validate that this account is mine, As I have NOT received the original contract bearing my signature. \\n\\nI am exercising my right under the Fair Credit Reporting Act, Section 609, to request information regarding an item that is listed on my consumer credit report. SEARS/CBNA XXXX As per section 609, I am entitled to see the source of the information, which is the original contract that contains my signature. If you are unable to verify the account with the ORIGINAL CONTRACT the information should be removed from my credit report within 30 days.I have attached a drivers license as proof of my identity.']"
            ]
          },
          "metadata": {},
          "execution_count": 20
        }
      ]
    },
    {
      "cell_type": "markdown",
      "source": [
        "Prompt for Robustness Testing"
      ],
      "metadata": {
        "id": "nx9daAaWwTZA"
      }
    },
    {
      "cell_type": "code",
      "source": [
        "for i in range(len(random_samples[0:5])):\n",
        "    prompt = f\"\"\"\n",
        "    Your task is to examine if customer \\\n",
        "    complaints from banks are well written without any issue.\n",
        "\n",
        "    Determine if complaints are well-written (considered desirable), \\\n",
        "    exhibit severe grammar or punctuation issues (considered problematic), \\\n",
        "    or contain irrelevant, frivolous information (also considered problematic). \\\n",
        "\n",
        "    Make your response as short as possible.\n",
        "\n",
        "    Complaints: ```{random_samples[i]}```\n",
        "    \"\"\"\n",
        "\n",
        "    response = get_completion(prompt)\n",
        "    print(i, response, \"\\n\")"
      ],
      "metadata": {
        "id": "KcF5JGB9qiyx",
        "colab": {
          "base_uri": "https://localhost:8080/"
        },
        "outputId": "57482799-e72c-4def-bb02-7969d99a545c"
      },
      "execution_count": null,
      "outputs": [
        {
          "output_type": "stream",
          "name": "stdout",
          "text": [
            "0 The complaint contains severe grammar and punctuation issues. \n",
            "\n",
            "1 Problematic. \n",
            "\n",
            "2 Well-written. \n",
            "\n",
            "3 The complaint is well-written. \n",
            "\n",
            "4 The complaint is well-written. \n",
            "\n"
          ]
        }
      ]
    },
    {
      "cell_type": "code",
      "source": [
        " text= f\"\"\"I have two recent inquires one from XX/XX/2021 and one from XX/XX/2021 from a place called CBNA. This was not done nor authorized by me. When I XXXX this place, its states this place is in New York, I'm in XXXX XXXX, there's nothing this company can do for me. Also, when I called XXXX when I noticed the first inquiry they said this was a credit card inquiry. I have a bank as well as a bank card, if I wanted a credit card I would just go through my bank, I wouldn't even go through the trouble of going somewhere else, let alone applying twice within 2 weeks of the first time. That's just nonsense. A few years ago I filed a police report for identity thief and if needed I can do it again for this. I have been working really hard on my credit and the last thing I need is false / fraudulent information on my report. I would've contacted CBNA but honestly I don't even know where to start, or what to say. What do you say to a company you've never spoke too? However, I will do what needs to be done to get this removed.\"\"\"\n",
        " prompt = f\"\"\"\n",
        "    Your task is to examine if customer \\\n",
        "    complaints from banks are well written without any issue.\n",
        "\n",
        "    Determine if complaints are well-written (considered desirable), \\\n",
        "    exhibit severe grammar or punctuation issues (considered problematic), \\\n",
        "    or contain irrelevant, frivolous information (also considered problematic). \\\n",
        "\n",
        "    Make your response as short as possible.\n",
        "\n",
        "    Complaints: ```{text}```\n",
        "    \"\"\"\n",
        "\n",
        "response = get_completion(prompt)\n",
        "print(response)"
      ],
      "metadata": {
        "colab": {
          "base_uri": "https://localhost:8080/"
        },
        "id": "kwv6y9n1NfEt",
        "outputId": "f3b571dc-e8b4-4679-821e-b17210d857ce"
      },
      "execution_count": null,
      "outputs": [
        {
          "output_type": "stream",
          "name": "stdout",
          "text": [
            "Problematic.\n"
          ]
        }
      ]
    },
    {
      "cell_type": "markdown",
      "source": [
        "As we can see some complaints have issues related to grammar. Let's see if LLM can change complaints look better."
      ],
      "metadata": {
        "id": "Fb7uxJ9brMaq"
      }
    },
    {
      "cell_type": "markdown",
      "source": [
        "Prompt for Equal Complaint Synthesis (MFT)"
      ],
      "metadata": {
        "id": "mepAmQm7nL8h"
      }
    },
    {
      "cell_type": "code",
      "source": [
        "for i in range(len(random_samples[0:5])):\n",
        "    prompt = f\"\"\"\n",
        "    Your task is to generate a short synthesized customer \\\n",
        "    complaints from banks.\n",
        "\n",
        "    Generate synthesized complaints by rearranging words and sentence structures \\\n",
        "    while maintaining the same meaning and intensity as the original \\\n",
        "    complaints in at most 50 words.\n",
        "\n",
        "    Focus on maintaining equality in the sentiment. \\\n",
        "\n",
        "    Complaints: ```{random_samples[i]}```\n",
        "    \"\"\"\n",
        "\n",
        "    response = get_completion(prompt)\n",
        "    print(i, response, \"\\n\")"
      ],
      "metadata": {
        "id": "Svzj9XHCnRQS",
        "colab": {
          "base_uri": "https://localhost:8080/"
        },
        "outputId": "f5dc6dbf-8b0f-4f69-8808-a5627c4e3888"
      },
      "execution_count": null,
      "outputs": [
        {
          "output_type": "stream",
          "name": "stdout",
          "text": [
            "0 Citibank abruptly slashed my credit limit without any prior warning or notice. Consequently, my account utilization rate skyrocketed to 99% on XX/XX/2022, despite making timely payments. Shockingly, I only discovered this credit decrease through my identity theft protection plan, as Citibank failed to inform me. When I confronted their rude customer service representative, she blamed the credit agency and abruptly ended the call. Moreover, I was wrongly charged a late fee on XX/XX/XXXX, which was later refunded without any explanation. Citibank's lack of communication and questionable practices are unacceptable. Additionally, they falsely claimed that I requested a cash advance, which never occurred. \n",
            "\n",
            "1 A few months ago, I contacted the bank regarding an unauthorized debit transaction at a Jewelry Store for an amount over XXXX. I don't even wear jewelry! The Merchant's name was XXXX XXXX or something similar. Despite the bank's negative reputation for fraud and scams, they failed to resolve the issue. They claimed I authorized the transaction, but couldn't provide any valid reasons. Now, I demand my money back from this unreliable bank. I've been a customer since XX/XX/2009, with a substantial amount in my account. I will expose this bank's incompetence online and warn others about the lack of security for their money. Although the bank closed and reissued my card due to fraud, they refuse to refund my funds. This is absolutely absurd! \n",
            "\n",
            "2 We are currently in the process of reaching out to the credit bureaus to conduct an investigation into the inquiries. \n",
            "\n",
            "3 I am extremely dissatisfied with the Bank of America's XXXX XXXX XXXX credit card. Despite earning miles for purchases, I have encountered multiple technical errors when trying to redeem them for hotel bookings. The company's suggested solutions, such as clearing cookies and using a different credit card, have been ineffective. They refuse to provide any resolution or offer a cash refund for the miles I have earned. \n",
            "\n",
            "4 Dear Sir/Madam,\n",
            "\n",
            "I am writing in regards to the closed CFPB complaint: XXXX. Although I have received the results by mail, the evidence provided is insufficient to confirm that this account belongs to me. I have not received the original contract bearing my signature, which is necessary for verification. \n",
            "\n",
            "In accordance with the Fair Credit Reporting Act, Section 609, I am exercising my right to request information about an item listed on my consumer credit report. The item in question is SEARS/CBNA XXXX. Section 609 grants me the right to examine the source of this information, which is the original contract containing my signature. If you are unable to verify the account with the original contract, I kindly request that the information be removed from my credit report within 30 days. \n",
            "\n",
            "To validate my identity, I have attached a copy of my driver's license.\n",
            "\n",
            "Yours faithfully, \n",
            "\n"
          ]
        }
      ]
    },
    {
      "cell_type": "code",
      "source": [
        "text= f\"\"\"I have two recent inquires one from XX/XX/2021 and one from XX/XX/2021 from a place called CBNA. This was not done nor authorized by me. When I XXXX this place, its states this place is in New York, I'm in XXXX XXXX, there's nothing this company can do for me. Also, when I called XXXX when I noticed the first inquiry they said this was a credit card inquiry. I have a bank as well as a bank card, if I wanted a credit card I would just go through my bank, I wouldn't even go through the trouble of going somewhere else, let alone applying twice within 2 weeks of the first time. That's just nonsense. A few years ago I filed a police report for identity thief and if needed I can do it again for this. I have been working really hard on my credit and the last thing I need is false / fraudulent information on my report. I would've contacted CBNA but honestly I don't even know where to start, or what to say. What do you say to a company you've never spoke too? However, I will do what needs to be done to get this removed.\"\"\"\n",
        "prompt = f\"\"\"\n",
        "    Your task is to generate a short synthesized customer \\\n",
        "    complaints from banks.\n",
        "\n",
        "    Generate synthesized complaints by rearranging words and sentence structures \\\n",
        "    while maintaining the same meaning and intensity as the original \\\n",
        "    complaints in at most 50 words.\n",
        "\n",
        "    Focus on maintaining equality in the sentiment. \\\n",
        "\n",
        "\n",
        "    Make your response as short as possible.\n",
        "\n",
        "    Complaints: ```{text}```\n",
        "    \"\"\"\n",
        "\n",
        "response = get_completion(prompt)\n",
        "print(response)"
      ],
      "metadata": {
        "colab": {
          "base_uri": "https://localhost:8080/"
        },
        "id": "n7H39ZKWN-hU",
        "outputId": "088c710e-7dfb-4fef-9459-907842c0399c"
      },
      "execution_count": null,
      "outputs": [
        {
          "output_type": "stream",
          "name": "stdout",
          "text": [
            "I received unauthorized inquiries from CBNA on XX/XX/2021 and XX/XX/2021. They claim to be in New York, but I'm in XXXX XXXX. I already have a bank and a bank card, so I don't need a credit card. I filed a police report for identity theft before and will do it again if necessary. I don't know how to contact CBNA, but I'll take action to remove this.\n"
          ]
        }
      ]
    },
    {
      "cell_type": "markdown",
      "source": [
        "Prompt for Invariance Complaint Synthesis"
      ],
      "metadata": {
        "id": "fGIvxdxloEvH"
      }
    },
    {
      "cell_type": "code",
      "source": [
        "for i in range(len(random_samples[0:5])):\n",
        "    prompt = f\"\"\"\n",
        "    Your task is to generate a short synthesized customer \\\n",
        "    complaints from banks.\n",
        "\n",
        "    Create synthetic complaints that retain the core message \\\n",
        "    and sentiment of the original complaints but change some words \\\n",
        "    or phrases while ensuring there is no change in the overall meaning \\\n",
        "    in at most 50 words.\n",
        "\n",
        "    Complaints: ```{random_samples[i]}```\n",
        "    \"\"\"\n",
        "\n",
        "    response = get_completion(prompt)\n",
        "    print(i, response, \"\\n\")"
      ],
      "metadata": {
        "id": "FmOBeIGOf8zy",
        "colab": {
          "base_uri": "https://localhost:8080/"
        },
        "outputId": "1b9ef16a-2ecf-41e6-b4b0-503e817418e9"
      },
      "execution_count": null,
      "outputs": [
        {
          "output_type": "stream",
          "name": "stdout",
          "text": [
            "0 Citibank abruptly slashed my credit limit without any prior warning or notice, causing my utilization rate to skyrocket. Despite being a responsible borrower, I was never informed about this decrease. Even an identity theft protection service had to inform me. The customer service representative was unhelpful and blamed the credit agency. When I mentioned a late fee that was charged and refunded on the same day, she became irritated. She insisted that Citibank doesn't send notifications, but I never received any warning or letter. It's unfair and unacceptable. Additionally, the bank falsely claimed that I requested a cash advance, which never occurred. \n",
            "\n",
            "1 A few months ago, I reached out to the bank regarding an unauthorized debit transaction at a Jewelry Store. I never wear jewelry! The Merchant's name was something like XXXX XXXX. I requested the bank to investigate and refund my money. Despite the bank's reputation for fraud and scams, they failed to resolve the issue. They claimed I authorized the transaction, which is untrue. When I asked for evidence, the representative stuttered and promised to send the details by mail. I'm fed up with this bank and want my money back. I've been a customer since XX/XX/2009 and have a substantial amount in my account. I'll expose this bank online to warn others about their lack of security. Although the bank closed and reissued my card due to fraud, they refuse to refund my money. This is absurd. \n",
            "\n",
            "2 We are currently reaching out to the credit agencies to examine the queries. \n",
            "\n",
            "3 I have an issue with the Bank of America credit card, specifically the XXXX XXXX XXXX. It promises miles for purchases that can be redeemed on XXXX XXXX and hotels. However, whenever I try to use my earned miles for a hotel booking, I encounter a recurring \"technical error.\" I've followed all the instructions given by the company, such as clearing cookies, using a different credit card, and informing my bank about the online booking. Unfortunately, the company only suggests not using the benefit I paid for and doesn't offer a cash refund for the miles I've earned. \n",
            "\n",
            "4 To whom it may concern, I am writing in regards to the closed CFPB complaint: XXXX. I have received the mailed results, but the evidence provided is insufficient to confirm that this account belongs to me. I have not received the original agreement with my signature. \n",
            "\n",
            "I am exercising my rights under the Fair Credit Reporting Act, Section 609, to request information about an item listed on my credit report. SEARS/CBNA XXXX. According to section 609, I have the right to view the source of the information, which is the original agreement containing my signature. If you cannot verify the account with the ORIGINAL AGREEMENT, please remove the information from my credit report within 30 days. I have attached my driver's license as proof of identity. \n",
            "\n"
          ]
        }
      ]
    },
    {
      "cell_type": "markdown",
      "source": [
        "Prompt for Harshness Modification (Direction):"
      ],
      "metadata": {
        "id": "IKzfY299oTQ2"
      }
    },
    {
      "cell_type": "code",
      "source": [
        "for i in range(len(random_samples[0:5])):\n",
        "    prompt = f\"\"\"\n",
        "    Your task is to generate a short synthesized customer \\\n",
        "    complaints from banks.\n",
        "\n",
        "    Develop a method to make complaints more harsh or less harsh \\\n",
        "    while keeping the underlying issue intact in at most 50 words\\\n",
        "\n",
        "    Use a range of intensity levels (Less Harsh or More harsh)) to ensure diversity.\n",
        "\n",
        "    Complaints: ```{random_samples[i]}```\n",
        "    \"\"\"\n",
        "\n",
        "    response = get_completion(prompt)\n",
        "    print(i, response, \"\\n\")"
      ],
      "metadata": {
        "id": "z2xMLKxxX4cW",
        "colab": {
          "base_uri": "https://localhost:8080/"
        },
        "outputId": "a3ee4f5f-1de1-40cc-9d52-9d83434dea92"
      },
      "execution_count": null,
      "outputs": [
        {
          "output_type": "stream",
          "name": "stdout",
          "text": [
            "0 Less Harsh: Citibank reduced my credit limit without any warning or notice, causing my account to reach 99% utilization rate. I have a good payment history and never received any communication about the decrease. The customer service representative was unhelpful and hung up on me when I asked for an explanation.\n",
            "\n",
            "More Harsh: Citibank abruptly slashed my credit limit without any prior notice, pushing my account to 99% utilization rate. Despite my impeccable payment record, they failed to inform me about this change. The customer service representative was rude, dismissive, and even hung up on me when I questioned their lack of communication. This is a clear violation of the fair credit reporting act. \n",
            "\n",
            "1 Less Harsh: I contacted the bank a few months ago regarding an unauthorized debit transaction for a Jewelry Store. Despite being a loyal customer since XX/XX/2009, the bank failed to resolve the issue and claimed I authorized the transaction. I am disappointed and concerned about the security of my funds.\n",
            "\n",
            "More Harsh: I contacted the bank months ago about an unauthorized debit transaction for a Jewelry Store. The bank, known for fraud and scams, once again failed to resolve the issue. Their representative stuttered and lied about sending details. I demand my money back from this joke of a bank and will expose their incompetence and lack of security. \n",
            "\n",
            "2 Less Harsh: We are currently in the process of contacting the credit bureaus to investigate the inquiries, but it would be appreciated if the bank could expedite the resolution.\n",
            "\n",
            "More Harsh: Despite our repeated attempts, the bank has failed to promptly contact the credit bureaus to investigate the inquiries, causing unnecessary delays and frustration. \n",
            "\n",
            "3 Less Harsh: I am disappointed with the Bank of America credit card. I have encountered technical errors twice while trying to redeem my earned miles for hotel bookings. Despite following all the instructions given by the company, they have been unable to provide a satisfactory resolution. I am unable to receive a cash refund for the miles I have earned.\n",
            "\n",
            "More Harsh: The Bank of America credit card is a complete disappointment. Their so-called benefit of earning miles for purchases is a scam. Every time I try to use the miles for a hotel booking, I face \"technical errors.\" The company's resolution attempts are useless, and they refuse to provide a cash refund for the worthless miles. \n",
            "\n",
            "4 Less Harsh: Dear Sir/Madam, I am writing regarding the closed CFPB complaint: XXXX. Although I received the results by mail, I am unable to verify my ownership of the account as the original contract bearing my signature was not provided. As per the Fair Credit Reporting Act, Section 609, I kindly request the source of information to be furnished within 30 days. I have attached my driver's license for identity verification.\n",
            "\n",
            "More Harsh: To whom it may concern, I am extremely disappointed with the closed CFPB complaint: XXXX. The mailed results lack sufficient evidence to validate my ownership of the account, as the original contract with my signature was conveniently omitted. I demand immediate compliance with the Fair Credit Reporting Act, Section 609, and removal of this information from my credit report within 30 days. I have attached my driver's license as undeniable proof of my identity. \n",
            "\n"
          ]
        }
      ]
    },
    {
      "cell_type": "code",
      "source": [
        "text= f\"\"\"I have two recent inquires one from XX/XX/2021 and one from XX/XX/2021 from a place called CBNA. This was not done nor authorized by me. When I XXXX this place, its states this place is in New York, I'm in XXXX XXXX, there's nothing this company can do for me. Also, when I called XXXX when I noticed the first inquiry they said this was a credit card inquiry. I have a bank as well as a bank card, if I wanted a credit card I would just go through my bank, I wouldn't even go through the trouble of going somewhere else, let alone applying twice within 2 weeks of the first time. That's just nonsense. A few years ago I filed a police report for identity thief and if needed I can do it again for this. I have been working really hard on my credit and the last thing I need is false / fraudulent information on my report. I would've contacted CBNA but honestly I don't even know where to start, or what to say. What do you say to a company you've never spoke too? However, I will do what needs to be done to get this removed.\"\"\"\n",
        "prompt =  f\"\"\"\n",
        "    Your task is to generate a short synthesized customer \\\n",
        "    complaints from banks.\n",
        "\n",
        "    Develop a method to make complaints more harsh\\\n",
        "    while keeping the underlying issue intact in at most 50 words\\\n",
        "\n",
        "    Use a range of intensity levels to ensure diversity.\n",
        "\n",
        "\n",
        "    Make your response as short as possible.\n",
        "\n",
        "    Complaints: ```{text}```\n",
        "    \"\"\"\n",
        "\n",
        "response = get_completion(prompt)\n",
        "print(response)"
      ],
      "metadata": {
        "id": "wL4lpLXbo_ig",
        "colab": {
          "base_uri": "https://localhost:8080/"
        },
        "outputId": "5b3277d4-6f6d-49a1-e8d3-358619c80540"
      },
      "execution_count": null,
      "outputs": [
        {
          "output_type": "stream",
          "name": "stdout",
          "text": [
            "This unauthorized inquiry from CBNA on XX/XX/2021 is unacceptable. I have diligently worked on my credit, and false information like this is detrimental. I will not hesitate to take legal action against identity theft. Remove this immediately.\n"
          ]
        }
      ]
    },
    {
      "cell_type": "code",
      "source": [
        "text= f\"\"\"I have two recent inquires one from XX/XX/2021 and one from XX/XX/2021 from a place called CBNA. This was not done nor authorized by me. When I XXXX this place, its states this place is in New York, I'm in XXXX XXXX, there's nothing this company can do for me. Also, when I called XXXX when I noticed the first inquiry they said this was a credit card inquiry. I have a bank as well as a bank card, if I wanted a credit card I would just go through my bank, I wouldn't even go through the trouble of going somewhere else, let alone applying twice within 2 weeks of the first time. That's just nonsense. A few years ago I filed a police report for identity thief and if needed I can do it again for this. I have been working really hard on my credit and the last thing I need is false / fraudulent information on my report. I would've contacted CBNA but honestly I don't even know where to start, or what to say. What do you say to a company you've never spoke too? However, I will do what needs to be done to get this removed.\"\"\"\n",
        "prompt =  f\"\"\"\n",
        "    Your task is to generate a short synthesized customer \\\n",
        "    complaints from banks.\n",
        "\n",
        "    Develop a method to make complaints less harsh\\\n",
        "    while keeping the underlying issue intact in at most 50 words\\\n",
        "\n",
        "    Use a range of intensity levels to ensure diversity.\n",
        "\n",
        "\n",
        "    Make your response as short as possible.\n",
        "\n",
        "    Complaints: ```{text}```\n",
        "    \"\"\"\n",
        "\n",
        "response = get_completion(prompt)\n",
        "print(response)"
      ],
      "metadata": {
        "colab": {
          "base_uri": "https://localhost:8080/"
        },
        "id": "-8sOi5ZEOP5H",
        "outputId": "daee369d-3812-44fe-f2fc-006d03e9690e"
      },
      "execution_count": null,
      "outputs": [
        {
          "output_type": "stream",
          "name": "stdout",
          "text": [
            "I recently noticed two unauthorized inquiries on my credit report from CBNA on XX/XX/2021 and XX/XX/2021. I'm concerned about false information affecting my hard-earned credit. Unsure how to approach CBNA, but determined to resolve this issue promptly.\n"
          ]
        }
      ]
    },
    {
      "cell_type": "code",
      "source": [],
      "metadata": {
        "id": "wsZV7p2VOVe6"
      },
      "execution_count": null,
      "outputs": []
    }
  ]
}