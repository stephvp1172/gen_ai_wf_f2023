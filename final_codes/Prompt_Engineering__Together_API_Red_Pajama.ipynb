{
  "nbformat": 4,
  "nbformat_minor": 0,
  "metadata": {
    "colab": {
      "provenance": [],
      "gpuType": "T4"
    },
    "kernelspec": {
      "name": "python3",
      "display_name": "Python 3"
    },
    "language_info": {
      "name": "python"
    },
    "accelerator": "GPU"
  },
  "cells": [
    {
      "cell_type": "markdown",
      "source": [
        "## Basic setting"
      ],
      "metadata": {
        "id": "0Wa4EdZeT6wD"
      }
    },
    {
      "cell_type": "code",
      "execution_count": null,
      "metadata": {
        "id": "p__S9a7MTJpq"
      },
      "outputs": [],
      "source": [
        "import pandas as pd\n",
        "import numpy as np\n",
        "import matplotlib.pyplot as plt\n",
        "import seaborn as sns\n",
        "from google.colab import drive"
      ]
    },
    {
      "cell_type": "code",
      "source": [
        "%%time\n",
        "#Everyone needs to save the dataset in their own drive.\n",
        "drive.mount(\"/content/gdrive/\")"
      ],
      "metadata": {
        "id": "htV-38M7Tocr",
        "colab": {
          "base_uri": "https://localhost:8080/"
        },
        "outputId": "b048df5e-19a0-441e-87ae-779dbe30d189"
      },
      "execution_count": null,
      "outputs": [
        {
          "output_type": "stream",
          "name": "stdout",
          "text": [
            "Mounted at /content/gdrive/\n",
            "CPU times: user 653 ms, sys: 118 ms, total: 772 ms\n",
            "Wall time: 15 s\n"
          ]
        }
      ]
    },
    {
      "cell_type": "code",
      "source": [
        "%%time\n",
        "complaints = pd.read_csv('/content/gdrive/MyDrive/complaints.csv')"
      ],
      "metadata": {
        "id": "bAddqHQtTsbO",
        "colab": {
          "base_uri": "https://localhost:8080/"
        },
        "outputId": "af26a1f0-6a64-4528-8f5f-19335c1a83e8"
      },
      "execution_count": null,
      "outputs": [
        {
          "output_type": "stream",
          "name": "stderr",
          "text": [
            "<timed exec>:1: DtypeWarning: Columns (16) have mixed types. Specify dtype option on import or set low_memory=False.\n"
          ]
        },
        {
          "output_type": "stream",
          "name": "stdout",
          "text": [
            "CPU times: user 29 s, sys: 3.28 s, total: 32.3 s\n",
            "Wall time: 45.1 s\n"
          ]
        }
      ]
    },
    {
      "cell_type": "code",
      "source": [
        "# Drop rows where 'Consumer complaint narrative' is null\n",
        "complaints = complaints.dropna(subset=['Consumer complaint narrative'])"
      ],
      "metadata": {
        "id": "A534flZiKKUp"
      },
      "execution_count": null,
      "outputs": []
    },
    {
      "cell_type": "code",
      "source": [
        "complaints.isnull().sum()"
      ],
      "metadata": {
        "colab": {
          "base_uri": "https://localhost:8080/"
        },
        "id": "38RoPBbjKKX1",
        "outputId": "819a57b0-3938-4fec-9455-36ab3b7e98bb"
      },
      "execution_count": null,
      "outputs": [
        {
          "output_type": "execute_result",
          "data": {
            "text/plain": [
              "Date received                         0\n",
              "Product                               0\n",
              "Sub-product                       52207\n",
              "Issue                                 0\n",
              "Sub-issue                        214653\n",
              "Consumer complaint narrative          0\n",
              "Company public response          717059\n",
              "Company                               0\n",
              "State                              5542\n",
              "ZIP code                              0\n",
              "Tags                            1275553\n",
              "Consumer consent provided?            0\n",
              "Submitted via                         0\n",
              "Date sent to company                  0\n",
              "Company response to consumer          2\n",
              "Timely response?                      0\n",
              "Consumer disputed?              1315455\n",
              "Complaint ID                          0\n",
              "dtype: int64"
            ]
          },
          "metadata": {},
          "execution_count": 5
        }
      ]
    },
    {
      "cell_type": "code",
      "source": [
        "complaints_revised = complaints[['Company', 'Consumer complaint narrative']]"
      ],
      "metadata": {
        "id": "xlg_bEwcKKbY"
      },
      "execution_count": null,
      "outputs": []
    },
    {
      "cell_type": "code",
      "source": [
        "#Choose five banks for sample\n",
        "company_list = ['WELLS FARGO & COMPANY', 'BANK OF AMERICA, NATIONAL ASSOCIATION', 'CAPITAL ONE FINANCIAL CORPORATION', 'JPMORGAN CHASE $ CO.', 'CITIBANK, N.A.']\n",
        "complaints_revised = complaints_revised[complaints_revised['Company'].isin(company_list)]\n",
        "complaints_revised.head(10)"
      ],
      "metadata": {
        "colab": {
          "base_uri": "https://localhost:8080/",
          "height": 363
        },
        "id": "VKpjMQySKKfI",
        "outputId": "e775a37e-2af8-41b9-e497-ec0da711f6a0"
      },
      "execution_count": null,
      "outputs": [
        {
          "output_type": "execute_result",
          "data": {
            "text/plain": [
              "                                    Company  \\\n",
              "5                            CITIBANK, N.A.   \n",
              "37    BANK OF AMERICA, NATIONAL ASSOCIATION   \n",
              "61                    WELLS FARGO & COMPANY   \n",
              "102                          CITIBANK, N.A.   \n",
              "112                          CITIBANK, N.A.   \n",
              "145       CAPITAL ONE FINANCIAL CORPORATION   \n",
              "704                   WELLS FARGO & COMPANY   \n",
              "836                          CITIBANK, N.A.   \n",
              "1006                         CITIBANK, N.A.   \n",
              "1012                         CITIBANK, N.A.   \n",
              "\n",
              "                           Consumer complaint narrative  \n",
              "5     Citibank allowed debit card transactions to ov...  \n",
              "37    On XX/XX/, 2023, XXXX XXXX admitted liability ...  \n",
              "61    My address on all my and my wife 's accounts a...  \n",
              "102   I am writing to file a complaint against Citib...  \n",
              "112   Good Afternoon I am submitting a complaint aga...  \n",
              "145   XX/XX/ XXXX XXXX XXXX XXXX XXXX XXXX, Fl XXXX ...  \n",
              "704   The existence of a derogatory rating on my acc...  \n",
              "836   I am writing to file a formal complaint concer...  \n",
              "1006  I had a Banking relationship for XXXX  years w...  \n",
              "1012  I asked Citibank to close my accounts and retu...  "
            ],
            "text/html": [
              "\n",
              "  <div id=\"df-4e59b309-0db9-453b-b556-f4e053beacb8\" class=\"colab-df-container\">\n",
              "    <div>\n",
              "<style scoped>\n",
              "    .dataframe tbody tr th:only-of-type {\n",
              "        vertical-align: middle;\n",
              "    }\n",
              "\n",
              "    .dataframe tbody tr th {\n",
              "        vertical-align: top;\n",
              "    }\n",
              "\n",
              "    .dataframe thead th {\n",
              "        text-align: right;\n",
              "    }\n",
              "</style>\n",
              "<table border=\"1\" class=\"dataframe\">\n",
              "  <thead>\n",
              "    <tr style=\"text-align: right;\">\n",
              "      <th></th>\n",
              "      <th>Company</th>\n",
              "      <th>Consumer complaint narrative</th>\n",
              "    </tr>\n",
              "  </thead>\n",
              "  <tbody>\n",
              "    <tr>\n",
              "      <th>5</th>\n",
              "      <td>CITIBANK, N.A.</td>\n",
              "      <td>Citibank allowed debit card transactions to ov...</td>\n",
              "    </tr>\n",
              "    <tr>\n",
              "      <th>37</th>\n",
              "      <td>BANK OF AMERICA, NATIONAL ASSOCIATION</td>\n",
              "      <td>On XX/XX/, 2023, XXXX XXXX admitted liability ...</td>\n",
              "    </tr>\n",
              "    <tr>\n",
              "      <th>61</th>\n",
              "      <td>WELLS FARGO &amp; COMPANY</td>\n",
              "      <td>My address on all my and my wife 's accounts a...</td>\n",
              "    </tr>\n",
              "    <tr>\n",
              "      <th>102</th>\n",
              "      <td>CITIBANK, N.A.</td>\n",
              "      <td>I am writing to file a complaint against Citib...</td>\n",
              "    </tr>\n",
              "    <tr>\n",
              "      <th>112</th>\n",
              "      <td>CITIBANK, N.A.</td>\n",
              "      <td>Good Afternoon I am submitting a complaint aga...</td>\n",
              "    </tr>\n",
              "    <tr>\n",
              "      <th>145</th>\n",
              "      <td>CAPITAL ONE FINANCIAL CORPORATION</td>\n",
              "      <td>XX/XX/ XXXX XXXX XXXX XXXX XXXX XXXX, Fl XXXX ...</td>\n",
              "    </tr>\n",
              "    <tr>\n",
              "      <th>704</th>\n",
              "      <td>WELLS FARGO &amp; COMPANY</td>\n",
              "      <td>The existence of a derogatory rating on my acc...</td>\n",
              "    </tr>\n",
              "    <tr>\n",
              "      <th>836</th>\n",
              "      <td>CITIBANK, N.A.</td>\n",
              "      <td>I am writing to file a formal complaint concer...</td>\n",
              "    </tr>\n",
              "    <tr>\n",
              "      <th>1006</th>\n",
              "      <td>CITIBANK, N.A.</td>\n",
              "      <td>I had a Banking relationship for XXXX  years w...</td>\n",
              "    </tr>\n",
              "    <tr>\n",
              "      <th>1012</th>\n",
              "      <td>CITIBANK, N.A.</td>\n",
              "      <td>I asked Citibank to close my accounts and retu...</td>\n",
              "    </tr>\n",
              "  </tbody>\n",
              "</table>\n",
              "</div>\n",
              "    <div class=\"colab-df-buttons\">\n",
              "\n",
              "  <div class=\"colab-df-container\">\n",
              "    <button class=\"colab-df-convert\" onclick=\"convertToInteractive('df-4e59b309-0db9-453b-b556-f4e053beacb8')\"\n",
              "            title=\"Convert this dataframe to an interactive table.\"\n",
              "            style=\"display:none;\">\n",
              "\n",
              "  <svg xmlns=\"http://www.w3.org/2000/svg\" height=\"24px\" viewBox=\"0 -960 960 960\">\n",
              "    <path d=\"M120-120v-720h720v720H120Zm60-500h600v-160H180v160Zm220 220h160v-160H400v160Zm0 220h160v-160H400v160ZM180-400h160v-160H180v160Zm440 0h160v-160H620v160ZM180-180h160v-160H180v160Zm440 0h160v-160H620v160Z\"/>\n",
              "  </svg>\n",
              "    </button>\n",
              "\n",
              "  <style>\n",
              "    .colab-df-container {\n",
              "      display:flex;\n",
              "      gap: 12px;\n",
              "    }\n",
              "\n",
              "    .colab-df-convert {\n",
              "      background-color: #E8F0FE;\n",
              "      border: none;\n",
              "      border-radius: 50%;\n",
              "      cursor: pointer;\n",
              "      display: none;\n",
              "      fill: #1967D2;\n",
              "      height: 32px;\n",
              "      padding: 0 0 0 0;\n",
              "      width: 32px;\n",
              "    }\n",
              "\n",
              "    .colab-df-convert:hover {\n",
              "      background-color: #E2EBFA;\n",
              "      box-shadow: 0px 1px 2px rgba(60, 64, 67, 0.3), 0px 1px 3px 1px rgba(60, 64, 67, 0.15);\n",
              "      fill: #174EA6;\n",
              "    }\n",
              "\n",
              "    .colab-df-buttons div {\n",
              "      margin-bottom: 4px;\n",
              "    }\n",
              "\n",
              "    [theme=dark] .colab-df-convert {\n",
              "      background-color: #3B4455;\n",
              "      fill: #D2E3FC;\n",
              "    }\n",
              "\n",
              "    [theme=dark] .colab-df-convert:hover {\n",
              "      background-color: #434B5C;\n",
              "      box-shadow: 0px 1px 3px 1px rgba(0, 0, 0, 0.15);\n",
              "      filter: drop-shadow(0px 1px 2px rgba(0, 0, 0, 0.3));\n",
              "      fill: #FFFFFF;\n",
              "    }\n",
              "  </style>\n",
              "\n",
              "    <script>\n",
              "      const buttonEl =\n",
              "        document.querySelector('#df-4e59b309-0db9-453b-b556-f4e053beacb8 button.colab-df-convert');\n",
              "      buttonEl.style.display =\n",
              "        google.colab.kernel.accessAllowed ? 'block' : 'none';\n",
              "\n",
              "      async function convertToInteractive(key) {\n",
              "        const element = document.querySelector('#df-4e59b309-0db9-453b-b556-f4e053beacb8');\n",
              "        const dataTable =\n",
              "          await google.colab.kernel.invokeFunction('convertToInteractive',\n",
              "                                                    [key], {});\n",
              "        if (!dataTable) return;\n",
              "\n",
              "        const docLinkHtml = 'Like what you see? Visit the ' +\n",
              "          '<a target=\"_blank\" href=https://colab.research.google.com/notebooks/data_table.ipynb>data table notebook</a>'\n",
              "          + ' to learn more about interactive tables.';\n",
              "        element.innerHTML = '';\n",
              "        dataTable['output_type'] = 'display_data';\n",
              "        await google.colab.output.renderOutput(dataTable, element);\n",
              "        const docLink = document.createElement('div');\n",
              "        docLink.innerHTML = docLinkHtml;\n",
              "        element.appendChild(docLink);\n",
              "      }\n",
              "    </script>\n",
              "  </div>\n",
              "\n",
              "\n",
              "<div id=\"df-3e8087b1-2228-4a65-a9b3-dde5a781a521\">\n",
              "  <button class=\"colab-df-quickchart\" onclick=\"quickchart('df-3e8087b1-2228-4a65-a9b3-dde5a781a521')\"\n",
              "            title=\"Suggest charts.\"\n",
              "            style=\"display:none;\">\n",
              "\n",
              "<svg xmlns=\"http://www.w3.org/2000/svg\" height=\"24px\"viewBox=\"0 0 24 24\"\n",
              "     width=\"24px\">\n",
              "    <g>\n",
              "        <path d=\"M19 3H5c-1.1 0-2 .9-2 2v14c0 1.1.9 2 2 2h14c1.1 0 2-.9 2-2V5c0-1.1-.9-2-2-2zM9 17H7v-7h2v7zm4 0h-2V7h2v10zm4 0h-2v-4h2v4z\"/>\n",
              "    </g>\n",
              "</svg>\n",
              "  </button>\n",
              "\n",
              "<style>\n",
              "  .colab-df-quickchart {\n",
              "      --bg-color: #E8F0FE;\n",
              "      --fill-color: #1967D2;\n",
              "      --hover-bg-color: #E2EBFA;\n",
              "      --hover-fill-color: #174EA6;\n",
              "      --disabled-fill-color: #AAA;\n",
              "      --disabled-bg-color: #DDD;\n",
              "  }\n",
              "\n",
              "  [theme=dark] .colab-df-quickchart {\n",
              "      --bg-color: #3B4455;\n",
              "      --fill-color: #D2E3FC;\n",
              "      --hover-bg-color: #434B5C;\n",
              "      --hover-fill-color: #FFFFFF;\n",
              "      --disabled-bg-color: #3B4455;\n",
              "      --disabled-fill-color: #666;\n",
              "  }\n",
              "\n",
              "  .colab-df-quickchart {\n",
              "    background-color: var(--bg-color);\n",
              "    border: none;\n",
              "    border-radius: 50%;\n",
              "    cursor: pointer;\n",
              "    display: none;\n",
              "    fill: var(--fill-color);\n",
              "    height: 32px;\n",
              "    padding: 0;\n",
              "    width: 32px;\n",
              "  }\n",
              "\n",
              "  .colab-df-quickchart:hover {\n",
              "    background-color: var(--hover-bg-color);\n",
              "    box-shadow: 0 1px 2px rgba(60, 64, 67, 0.3), 0 1px 3px 1px rgba(60, 64, 67, 0.15);\n",
              "    fill: var(--button-hover-fill-color);\n",
              "  }\n",
              "\n",
              "  .colab-df-quickchart-complete:disabled,\n",
              "  .colab-df-quickchart-complete:disabled:hover {\n",
              "    background-color: var(--disabled-bg-color);\n",
              "    fill: var(--disabled-fill-color);\n",
              "    box-shadow: none;\n",
              "  }\n",
              "\n",
              "  .colab-df-spinner {\n",
              "    border: 2px solid var(--fill-color);\n",
              "    border-color: transparent;\n",
              "    border-bottom-color: var(--fill-color);\n",
              "    animation:\n",
              "      spin 1s steps(1) infinite;\n",
              "  }\n",
              "\n",
              "  @keyframes spin {\n",
              "    0% {\n",
              "      border-color: transparent;\n",
              "      border-bottom-color: var(--fill-color);\n",
              "      border-left-color: var(--fill-color);\n",
              "    }\n",
              "    20% {\n",
              "      border-color: transparent;\n",
              "      border-left-color: var(--fill-color);\n",
              "      border-top-color: var(--fill-color);\n",
              "    }\n",
              "    30% {\n",
              "      border-color: transparent;\n",
              "      border-left-color: var(--fill-color);\n",
              "      border-top-color: var(--fill-color);\n",
              "      border-right-color: var(--fill-color);\n",
              "    }\n",
              "    40% {\n",
              "      border-color: transparent;\n",
              "      border-right-color: var(--fill-color);\n",
              "      border-top-color: var(--fill-color);\n",
              "    }\n",
              "    60% {\n",
              "      border-color: transparent;\n",
              "      border-right-color: var(--fill-color);\n",
              "    }\n",
              "    80% {\n",
              "      border-color: transparent;\n",
              "      border-right-color: var(--fill-color);\n",
              "      border-bottom-color: var(--fill-color);\n",
              "    }\n",
              "    90% {\n",
              "      border-color: transparent;\n",
              "      border-bottom-color: var(--fill-color);\n",
              "    }\n",
              "  }\n",
              "</style>\n",
              "\n",
              "  <script>\n",
              "    async function quickchart(key) {\n",
              "      const quickchartButtonEl =\n",
              "        document.querySelector('#' + key + ' button');\n",
              "      quickchartButtonEl.disabled = true;  // To prevent multiple clicks.\n",
              "      quickchartButtonEl.classList.add('colab-df-spinner');\n",
              "      try {\n",
              "        const charts = await google.colab.kernel.invokeFunction(\n",
              "            'suggestCharts', [key], {});\n",
              "      } catch (error) {\n",
              "        console.error('Error during call to suggestCharts:', error);\n",
              "      }\n",
              "      quickchartButtonEl.classList.remove('colab-df-spinner');\n",
              "      quickchartButtonEl.classList.add('colab-df-quickchart-complete');\n",
              "    }\n",
              "    (() => {\n",
              "      let quickchartButtonEl =\n",
              "        document.querySelector('#df-3e8087b1-2228-4a65-a9b3-dde5a781a521 button');\n",
              "      quickchartButtonEl.style.display =\n",
              "        google.colab.kernel.accessAllowed ? 'block' : 'none';\n",
              "    })();\n",
              "  </script>\n",
              "</div>\n",
              "    </div>\n",
              "  </div>\n"
            ]
          },
          "metadata": {},
          "execution_count": 7
        }
      ]
    },
    {
      "cell_type": "code",
      "source": [
        "complaints_revised.info()"
      ],
      "metadata": {
        "colab": {
          "base_uri": "https://localhost:8080/"
        },
        "id": "3xhUjd7IKq_G",
        "outputId": "e912006c-5071-4720-b79a-2f771cfc90e9"
      },
      "execution_count": null,
      "outputs": [
        {
          "output_type": "stream",
          "name": "stdout",
          "text": [
            "<class 'pandas.core.frame.DataFrame'>\n",
            "Int64Index: 142328 entries, 5 to 4080943\n",
            "Data columns (total 2 columns):\n",
            " #   Column                        Non-Null Count   Dtype \n",
            "---  ------                        --------------   ----- \n",
            " 0   Company                       142328 non-null  object\n",
            " 1   Consumer complaint narrative  142328 non-null  object\n",
            "dtypes: object(2)\n",
            "memory usage: 3.3+ MB\n"
          ]
        }
      ]
    },
    {
      "cell_type": "code",
      "source": [
        "import random\n",
        "\n",
        "# Specify the sample size you want - 50\n",
        "sample_size = 50\n",
        "\n",
        "# Extract the 'Consumer complaint narrative' column as a list\n",
        "narratives = complaints_revised['Consumer complaint narrative'].tolist()\n",
        "\n",
        "# Check if the number of narratives is greater than the desired sample size\n",
        "if len(narratives) > sample_size:\n",
        "    random_samples = random.sample(narratives, sample_size)\n",
        "else:\n",
        "    random_samples = narratives\n",
        "\n",
        "# Create a DataFrame from the sampled narratives\n",
        "sample = pd.DataFrame({'Consumer complaint narrative': random_samples})"
      ],
      "metadata": {
        "id": "ez4M0EBqKrGZ"
      },
      "execution_count": null,
      "outputs": []
    },
    {
      "cell_type": "code",
      "source": [
        "sample.head(10)"
      ],
      "metadata": {
        "colab": {
          "base_uri": "https://localhost:8080/",
          "height": 363
        },
        "id": "U338E5hYKKiy",
        "outputId": "fad22e4e-d277-4faf-ed31-16f4ac3f043f"
      },
      "execution_count": null,
      "outputs": [
        {
          "output_type": "execute_result",
          "data": {
            "text/plain": [
              "                        Consumer complaint narrative\n",
              "0  Capital one is attempting to collect on an exp...\n",
              "1  On XXXX XXXX I attempted to send {$1000.00} to...\n",
              "2  Costco decided to change credit card company s...\n",
              "3  I posted my credit card payment the day it was...\n",
              "4  Received letter from Wells Fargo thanking me f...\n",
              "5  group stalking used for illegal collection in ...\n",
              "6  I have a current mortgage with Wells Fargo. Th...\n",
              "7  I have a loan with CAPITALONE. I have always m...\n",
              "8  CAPITAL ONE CC # XXXX HAS BEEN PAID OFF > STIL...\n",
              "9  I received an email from someone named XXXX ( ..."
            ],
            "text/html": [
              "\n",
              "  <div id=\"df-5ad1b8e0-e18e-4598-904d-a4787829bda1\" class=\"colab-df-container\">\n",
              "    <div>\n",
              "<style scoped>\n",
              "    .dataframe tbody tr th:only-of-type {\n",
              "        vertical-align: middle;\n",
              "    }\n",
              "\n",
              "    .dataframe tbody tr th {\n",
              "        vertical-align: top;\n",
              "    }\n",
              "\n",
              "    .dataframe thead th {\n",
              "        text-align: right;\n",
              "    }\n",
              "</style>\n",
              "<table border=\"1\" class=\"dataframe\">\n",
              "  <thead>\n",
              "    <tr style=\"text-align: right;\">\n",
              "      <th></th>\n",
              "      <th>Consumer complaint narrative</th>\n",
              "    </tr>\n",
              "  </thead>\n",
              "  <tbody>\n",
              "    <tr>\n",
              "      <th>0</th>\n",
              "      <td>Capital one is attempting to collect on an exp...</td>\n",
              "    </tr>\n",
              "    <tr>\n",
              "      <th>1</th>\n",
              "      <td>On XXXX XXXX I attempted to send {$1000.00} to...</td>\n",
              "    </tr>\n",
              "    <tr>\n",
              "      <th>2</th>\n",
              "      <td>Costco decided to change credit card company s...</td>\n",
              "    </tr>\n",
              "    <tr>\n",
              "      <th>3</th>\n",
              "      <td>I posted my credit card payment the day it was...</td>\n",
              "    </tr>\n",
              "    <tr>\n",
              "      <th>4</th>\n",
              "      <td>Received letter from Wells Fargo thanking me f...</td>\n",
              "    </tr>\n",
              "    <tr>\n",
              "      <th>5</th>\n",
              "      <td>group stalking used for illegal collection in ...</td>\n",
              "    </tr>\n",
              "    <tr>\n",
              "      <th>6</th>\n",
              "      <td>I have a current mortgage with Wells Fargo. Th...</td>\n",
              "    </tr>\n",
              "    <tr>\n",
              "      <th>7</th>\n",
              "      <td>I have a loan with CAPITALONE. I have always m...</td>\n",
              "    </tr>\n",
              "    <tr>\n",
              "      <th>8</th>\n",
              "      <td>CAPITAL ONE CC # XXXX HAS BEEN PAID OFF &gt; STIL...</td>\n",
              "    </tr>\n",
              "    <tr>\n",
              "      <th>9</th>\n",
              "      <td>I received an email from someone named XXXX ( ...</td>\n",
              "    </tr>\n",
              "  </tbody>\n",
              "</table>\n",
              "</div>\n",
              "    <div class=\"colab-df-buttons\">\n",
              "\n",
              "  <div class=\"colab-df-container\">\n",
              "    <button class=\"colab-df-convert\" onclick=\"convertToInteractive('df-5ad1b8e0-e18e-4598-904d-a4787829bda1')\"\n",
              "            title=\"Convert this dataframe to an interactive table.\"\n",
              "            style=\"display:none;\">\n",
              "\n",
              "  <svg xmlns=\"http://www.w3.org/2000/svg\" height=\"24px\" viewBox=\"0 -960 960 960\">\n",
              "    <path d=\"M120-120v-720h720v720H120Zm60-500h600v-160H180v160Zm220 220h160v-160H400v160Zm0 220h160v-160H400v160ZM180-400h160v-160H180v160Zm440 0h160v-160H620v160ZM180-180h160v-160H180v160Zm440 0h160v-160H620v160Z\"/>\n",
              "  </svg>\n",
              "    </button>\n",
              "\n",
              "  <style>\n",
              "    .colab-df-container {\n",
              "      display:flex;\n",
              "      gap: 12px;\n",
              "    }\n",
              "\n",
              "    .colab-df-convert {\n",
              "      background-color: #E8F0FE;\n",
              "      border: none;\n",
              "      border-radius: 50%;\n",
              "      cursor: pointer;\n",
              "      display: none;\n",
              "      fill: #1967D2;\n",
              "      height: 32px;\n",
              "      padding: 0 0 0 0;\n",
              "      width: 32px;\n",
              "    }\n",
              "\n",
              "    .colab-df-convert:hover {\n",
              "      background-color: #E2EBFA;\n",
              "      box-shadow: 0px 1px 2px rgba(60, 64, 67, 0.3), 0px 1px 3px 1px rgba(60, 64, 67, 0.15);\n",
              "      fill: #174EA6;\n",
              "    }\n",
              "\n",
              "    .colab-df-buttons div {\n",
              "      margin-bottom: 4px;\n",
              "    }\n",
              "\n",
              "    [theme=dark] .colab-df-convert {\n",
              "      background-color: #3B4455;\n",
              "      fill: #D2E3FC;\n",
              "    }\n",
              "\n",
              "    [theme=dark] .colab-df-convert:hover {\n",
              "      background-color: #434B5C;\n",
              "      box-shadow: 0px 1px 3px 1px rgba(0, 0, 0, 0.15);\n",
              "      filter: drop-shadow(0px 1px 2px rgba(0, 0, 0, 0.3));\n",
              "      fill: #FFFFFF;\n",
              "    }\n",
              "  </style>\n",
              "\n",
              "    <script>\n",
              "      const buttonEl =\n",
              "        document.querySelector('#df-5ad1b8e0-e18e-4598-904d-a4787829bda1 button.colab-df-convert');\n",
              "      buttonEl.style.display =\n",
              "        google.colab.kernel.accessAllowed ? 'block' : 'none';\n",
              "\n",
              "      async function convertToInteractive(key) {\n",
              "        const element = document.querySelector('#df-5ad1b8e0-e18e-4598-904d-a4787829bda1');\n",
              "        const dataTable =\n",
              "          await google.colab.kernel.invokeFunction('convertToInteractive',\n",
              "                                                    [key], {});\n",
              "        if (!dataTable) return;\n",
              "\n",
              "        const docLinkHtml = 'Like what you see? Visit the ' +\n",
              "          '<a target=\"_blank\" href=https://colab.research.google.com/notebooks/data_table.ipynb>data table notebook</a>'\n",
              "          + ' to learn more about interactive tables.';\n",
              "        element.innerHTML = '';\n",
              "        dataTable['output_type'] = 'display_data';\n",
              "        await google.colab.output.renderOutput(dataTable, element);\n",
              "        const docLink = document.createElement('div');\n",
              "        docLink.innerHTML = docLinkHtml;\n",
              "        element.appendChild(docLink);\n",
              "      }\n",
              "    </script>\n",
              "  </div>\n",
              "\n",
              "\n",
              "<div id=\"df-6e314e2b-d961-4a57-9dee-52d2e9ace827\">\n",
              "  <button class=\"colab-df-quickchart\" onclick=\"quickchart('df-6e314e2b-d961-4a57-9dee-52d2e9ace827')\"\n",
              "            title=\"Suggest charts.\"\n",
              "            style=\"display:none;\">\n",
              "\n",
              "<svg xmlns=\"http://www.w3.org/2000/svg\" height=\"24px\"viewBox=\"0 0 24 24\"\n",
              "     width=\"24px\">\n",
              "    <g>\n",
              "        <path d=\"M19 3H5c-1.1 0-2 .9-2 2v14c0 1.1.9 2 2 2h14c1.1 0 2-.9 2-2V5c0-1.1-.9-2-2-2zM9 17H7v-7h2v7zm4 0h-2V7h2v10zm4 0h-2v-4h2v4z\"/>\n",
              "    </g>\n",
              "</svg>\n",
              "  </button>\n",
              "\n",
              "<style>\n",
              "  .colab-df-quickchart {\n",
              "      --bg-color: #E8F0FE;\n",
              "      --fill-color: #1967D2;\n",
              "      --hover-bg-color: #E2EBFA;\n",
              "      --hover-fill-color: #174EA6;\n",
              "      --disabled-fill-color: #AAA;\n",
              "      --disabled-bg-color: #DDD;\n",
              "  }\n",
              "\n",
              "  [theme=dark] .colab-df-quickchart {\n",
              "      --bg-color: #3B4455;\n",
              "      --fill-color: #D2E3FC;\n",
              "      --hover-bg-color: #434B5C;\n",
              "      --hover-fill-color: #FFFFFF;\n",
              "      --disabled-bg-color: #3B4455;\n",
              "      --disabled-fill-color: #666;\n",
              "  }\n",
              "\n",
              "  .colab-df-quickchart {\n",
              "    background-color: var(--bg-color);\n",
              "    border: none;\n",
              "    border-radius: 50%;\n",
              "    cursor: pointer;\n",
              "    display: none;\n",
              "    fill: var(--fill-color);\n",
              "    height: 32px;\n",
              "    padding: 0;\n",
              "    width: 32px;\n",
              "  }\n",
              "\n",
              "  .colab-df-quickchart:hover {\n",
              "    background-color: var(--hover-bg-color);\n",
              "    box-shadow: 0 1px 2px rgba(60, 64, 67, 0.3), 0 1px 3px 1px rgba(60, 64, 67, 0.15);\n",
              "    fill: var(--button-hover-fill-color);\n",
              "  }\n",
              "\n",
              "  .colab-df-quickchart-complete:disabled,\n",
              "  .colab-df-quickchart-complete:disabled:hover {\n",
              "    background-color: var(--disabled-bg-color);\n",
              "    fill: var(--disabled-fill-color);\n",
              "    box-shadow: none;\n",
              "  }\n",
              "\n",
              "  .colab-df-spinner {\n",
              "    border: 2px solid var(--fill-color);\n",
              "    border-color: transparent;\n",
              "    border-bottom-color: var(--fill-color);\n",
              "    animation:\n",
              "      spin 1s steps(1) infinite;\n",
              "  }\n",
              "\n",
              "  @keyframes spin {\n",
              "    0% {\n",
              "      border-color: transparent;\n",
              "      border-bottom-color: var(--fill-color);\n",
              "      border-left-color: var(--fill-color);\n",
              "    }\n",
              "    20% {\n",
              "      border-color: transparent;\n",
              "      border-left-color: var(--fill-color);\n",
              "      border-top-color: var(--fill-color);\n",
              "    }\n",
              "    30% {\n",
              "      border-color: transparent;\n",
              "      border-left-color: var(--fill-color);\n",
              "      border-top-color: var(--fill-color);\n",
              "      border-right-color: var(--fill-color);\n",
              "    }\n",
              "    40% {\n",
              "      border-color: transparent;\n",
              "      border-right-color: var(--fill-color);\n",
              "      border-top-color: var(--fill-color);\n",
              "    }\n",
              "    60% {\n",
              "      border-color: transparent;\n",
              "      border-right-color: var(--fill-color);\n",
              "    }\n",
              "    80% {\n",
              "      border-color: transparent;\n",
              "      border-right-color: var(--fill-color);\n",
              "      border-bottom-color: var(--fill-color);\n",
              "    }\n",
              "    90% {\n",
              "      border-color: transparent;\n",
              "      border-bottom-color: var(--fill-color);\n",
              "    }\n",
              "  }\n",
              "</style>\n",
              "\n",
              "  <script>\n",
              "    async function quickchart(key) {\n",
              "      const quickchartButtonEl =\n",
              "        document.querySelector('#' + key + ' button');\n",
              "      quickchartButtonEl.disabled = true;  // To prevent multiple clicks.\n",
              "      quickchartButtonEl.classList.add('colab-df-spinner');\n",
              "      try {\n",
              "        const charts = await google.colab.kernel.invokeFunction(\n",
              "            'suggestCharts', [key], {});\n",
              "      } catch (error) {\n",
              "        console.error('Error during call to suggestCharts:', error);\n",
              "      }\n",
              "      quickchartButtonEl.classList.remove('colab-df-spinner');\n",
              "      quickchartButtonEl.classList.add('colab-df-quickchart-complete');\n",
              "    }\n",
              "    (() => {\n",
              "      let quickchartButtonEl =\n",
              "        document.querySelector('#df-6e314e2b-d961-4a57-9dee-52d2e9ace827 button');\n",
              "      quickchartButtonEl.style.display =\n",
              "        google.colab.kernel.accessAllowed ? 'block' : 'none';\n",
              "    })();\n",
              "  </script>\n",
              "</div>\n",
              "    </div>\n",
              "  </div>\n"
            ]
          },
          "metadata": {},
          "execution_count": 10
        }
      ]
    },
    {
      "cell_type": "code",
      "source": [
        "sample.isnull().sum()"
      ],
      "metadata": {
        "colab": {
          "base_uri": "https://localhost:8080/"
        },
        "id": "Wd3mZAwsLWy6",
        "outputId": "a243c98a-da03-4910-c9ec-a919707255d0"
      },
      "execution_count": null,
      "outputs": [
        {
          "output_type": "execute_result",
          "data": {
            "text/plain": [
              "Consumer complaint narrative    0\n",
              "dtype: int64"
            ]
          },
          "metadata": {},
          "execution_count": 11
        }
      ]
    },
    {
      "cell_type": "markdown",
      "source": [
        "Red Pajama set up"
      ],
      "metadata": {
        "id": "plsMziRNLeaV"
      }
    },
    {
      "cell_type": "code",
      "source": [],
      "metadata": {
        "id": "DHorDSDaLW4_"
      },
      "execution_count": null,
      "outputs": []
    },
    {
      "cell_type": "code",
      "source": [],
      "metadata": {
        "id": "tqBB7Q0tKKm-"
      },
      "execution_count": null,
      "outputs": []
    },
    {
      "cell_type": "code",
      "source": [],
      "metadata": {
        "id": "_myay5WOKKwO"
      },
      "execution_count": null,
      "outputs": []
    },
    {
      "cell_type": "code",
      "source": [],
      "metadata": {
        "id": "pkIRR__iKK_V"
      },
      "execution_count": null,
      "outputs": []
    },
    {
      "cell_type": "markdown",
      "source": [
        "## ## LLaMA 2 on Together API"
      ],
      "metadata": {
        "id": "j3gPMSu0syKi"
      }
    },
    {
      "cell_type": "code",
      "source": [
        "!nvidia-smi"
      ],
      "metadata": {
        "colab": {
          "base_uri": "https://localhost:8080/"
        },
        "id": "AMBNhuuR4Kjk",
        "outputId": "d20e1752-df0f-477c-c6bd-c1775001c0af"
      },
      "execution_count": null,
      "outputs": [
        {
          "output_type": "stream",
          "name": "stdout",
          "text": [
            "Tue Oct 31 19:22:22 2023       \n",
            "+-----------------------------------------------------------------------------+\n",
            "| NVIDIA-SMI 525.105.17   Driver Version: 525.105.17   CUDA Version: 12.0     |\n",
            "|-------------------------------+----------------------+----------------------+\n",
            "| GPU  Name        Persistence-M| Bus-Id        Disp.A | Volatile Uncorr. ECC |\n",
            "| Fan  Temp  Perf  Pwr:Usage/Cap|         Memory-Usage | GPU-Util  Compute M. |\n",
            "|                               |                      |               MIG M. |\n",
            "|===============================+======================+======================|\n",
            "|   0  Tesla T4            Off  | 00000000:00:04.0 Off |                    0 |\n",
            "| N/A   37C    P8     9W /  70W |      0MiB / 15360MiB |      0%      Default |\n",
            "|                               |                      |                  N/A |\n",
            "+-------------------------------+----------------------+----------------------+\n",
            "                                                                               \n",
            "+-----------------------------------------------------------------------------+\n",
            "| Processes:                                                                  |\n",
            "|  GPU   GI   CI        PID   Type   Process name                  GPU Memory |\n",
            "|        ID   ID                                                   Usage      |\n",
            "|=============================================================================|\n",
            "|  No running processes found                                                 |\n",
            "+-----------------------------------------------------------------------------+\n"
          ]
        }
      ]
    },
    {
      "cell_type": "code",
      "source": [
        "!pip -q install langchain huggingface_hub tiktoken\n",
        "!pip -q install --upgrade together"
      ],
      "metadata": {
        "colab": {
          "base_uri": "https://localhost:8080/"
        },
        "id": "xXZVuqd8srU2",
        "outputId": "6fe6b516-f94d-4ca4-b100-e9df97db9983"
      },
      "execution_count": null,
      "outputs": [
        {
          "output_type": "stream",
          "name": "stdout",
          "text": [
            "\u001b[2K     \u001b[90m━━━━━━━━━━━━━━━━━━━━━━━━━━━━━━━━━━━━━━━━\u001b[0m \u001b[32m2.0/2.0 MB\u001b[0m \u001b[31m22.5 MB/s\u001b[0m eta \u001b[36m0:00:00\u001b[0m\n",
            "\u001b[2K     \u001b[90m━━━━━━━━━━━━━━━━━━━━━━━━━━━━━━━━━━━━━━━━\u001b[0m \u001b[32m302.0/302.0 kB\u001b[0m \u001b[31m29.4 MB/s\u001b[0m eta \u001b[36m0:00:00\u001b[0m\n",
            "\u001b[2K     \u001b[90m━━━━━━━━━━━━━━━━━━━━━━━━━━━━━━━━━━━━━━━━\u001b[0m \u001b[32m2.0/2.0 MB\u001b[0m \u001b[31m77.0 MB/s\u001b[0m eta \u001b[36m0:00:00\u001b[0m\n",
            "\u001b[2K     \u001b[90m━━━━━━━━━━━━━━━━━━━━━━━━━━━━━━━━━━━━━━━━\u001b[0m \u001b[32m43.7/43.7 kB\u001b[0m \u001b[31m3.9 MB/s\u001b[0m eta \u001b[36m0:00:00\u001b[0m\n",
            "\u001b[2K     \u001b[90m━━━━━━━━━━━━━━━━━━━━━━━━━━━━━━━━━━━━━━━━\u001b[0m \u001b[32m49.4/49.4 kB\u001b[0m \u001b[31m5.3 MB/s\u001b[0m eta \u001b[36m0:00:00\u001b[0m\n",
            "\u001b[?25h\u001b[31mERROR: pip's dependency resolver does not currently take into account all the packages that are installed. This behaviour is the source of the following dependency conflicts.\n",
            "llmx 0.0.15a0 requires cohere, which is not installed.\n",
            "llmx 0.0.15a0 requires openai, which is not installed.\u001b[0m\u001b[31m\n",
            "\u001b[0m"
          ]
        }
      ]
    },
    {
      "cell_type": "code",
      "source": [
        "import os\n",
        "\n",
        "os.environ[\"TOGETHER_API_KEY\"] = \"80d94b40415d1d9de315a72345a3b1cdf5ff2bd3417cd4d119fa56159ad2ef28\"\n"
      ],
      "metadata": {
        "id": "CXaRFDNls5H1"
      },
      "execution_count": null,
      "outputs": []
    },
    {
      "cell_type": "code",
      "source": [
        "!pip show langchain"
      ],
      "metadata": {
        "colab": {
          "base_uri": "https://localhost:8080/"
        },
        "id": "LH1ExHgls7Q2",
        "outputId": "33c7ee73-0048-499c-ef15-8927d2a75f3e"
      },
      "execution_count": null,
      "outputs": [
        {
          "output_type": "stream",
          "name": "stdout",
          "text": [
            "Name: langchain\n",
            "Version: 0.0.327\n",
            "Summary: Building applications with LLMs through composability\n",
            "Home-page: https://github.com/langchain-ai/langchain\n",
            "Author: \n",
            "Author-email: \n",
            "License: MIT\n",
            "Location: /usr/local/lib/python3.10/dist-packages\n",
            "Requires: aiohttp, anyio, async-timeout, dataclasses-json, jsonpatch, langsmith, numpy, pydantic, PyYAML, requests, SQLAlchemy, tenacity\n",
            "Required-by: \n"
          ]
        }
      ]
    },
    {
      "cell_type": "markdown",
      "source": [
        "# Setting up Together API"
      ],
      "metadata": {
        "id": "JgcsRffNSM_t"
      }
    },
    {
      "cell_type": "code",
      "source": [
        "import together\n",
        "\n",
        "# set your API key\n",
        "together.api_key = os.environ[\"TOGETHER_API_KEY\"]\n",
        "\n",
        "# list available models and descriptons\n",
        "models = together.Models.list()\n",
        "\n",
        "# print the first model's name\n",
        "print(models[3]['name']), print(models[52]['name'])"
      ],
      "metadata": {
        "colab": {
          "base_uri": "https://localhost:8080/"
        },
        "id": "9G9a55n3s-BP",
        "outputId": "4edce1d6-531b-4525-9fd9-3ed13ddc4eb9"
      },
      "execution_count": null,
      "outputs": [
        {
          "output_type": "stream",
          "name": "stdout",
          "text": [
            "EleutherAI/pythia-1b-v0\n",
            "togethercomputer/CodeLlama-7b\n"
          ]
        },
        {
          "output_type": "execute_result",
          "data": {
            "text/plain": [
              "(None, None)"
            ]
          },
          "metadata": {},
          "execution_count": 16
        }
      ]
    },
    {
      "cell_type": "code",
      "source": [
        "for idx, model in enumerate(models):\n",
        "    print(idx, model['name'])"
      ],
      "metadata": {
        "colab": {
          "base_uri": "https://localhost:8080/"
        },
        "id": "-nxlvlcUSfW7",
        "outputId": "fbcb1b9c-cd6e-404c-92de-5812b60cfe65"
      },
      "execution_count": null,
      "outputs": [
        {
          "output_type": "stream",
          "name": "stdout",
          "text": [
            "0 Austism/chronos-hermes-13b\n",
            "1 EleutherAI/llemma_7b\n",
            "2 EleutherAI/pythia-12b-v0\n",
            "3 EleutherAI/pythia-1b-v0\n",
            "4 EleutherAI/pythia-2.8b-v0\n",
            "5 EleutherAI/pythia-6.9b\n",
            "6 Gryphe/MythoMax-L2-13b\n",
            "7 HuggingFaceH4/starchat-alpha\n",
            "8 NousResearch/Nous-Hermes-13b\n",
            "9 NousResearch/Nous-Hermes-Llama2-13b\n",
            "10 NousResearch/Nous-Hermes-Llama2-70b\n",
            "11 NousResearch/Nous-Hermes-llama-2-7b\n",
            "12 NumbersStation/nsql-llama-2-7B\n",
            "13 Open-Orca/Mistral-7B-OpenOrca\n",
            "14 OpenAssistant/llama2-70b-oasst-sft-v10\n",
            "15 OpenAssistant/oasst-sft-4-pythia-12b-epoch-3.5\n",
            "16 OpenAssistant/stablelm-7b-sft-v7-epoch-3\n",
            "17 Phind/Phind-CodeLlama-34B-Python-v1\n",
            "18 Phind/Phind-CodeLlama-34B-v2\n",
            "19 SG161222/Realistic_Vision_V3.0_VAE\n",
            "20 WizardLM/WizardCoder-15B-V1.0\n",
            "21 WizardLM/WizardCoder-Python-34B-V1.0\n",
            "22 WizardLM/WizardLM-70B-V1.0\n",
            "23 bigcode/starcoder\n",
            "24 databricks/dolly-v2-12b\n",
            "25 databricks/dolly-v2-3b\n",
            "26 databricks/dolly-v2-7b\n",
            "27 defog/sqlcoder\n",
            "28 garage-bAInd/Platypus2-70B-instruct\n",
            "29 huggyllama/llama-13b\n",
            "30 huggyllama/llama-30b\n",
            "31 huggyllama/llama-65b\n",
            "32 huggyllama/llama-7b\n",
            "33 lmsys/fastchat-t5-3b-v1.0\n",
            "34 lmsys/vicuna-13b-v1.5-16k\n",
            "35 lmsys/vicuna-13b-v1.5\n",
            "36 lmsys/vicuna-7b-v1.5\n",
            "37 mistralai/Mistral-7B-Instruct-v0.1\n",
            "38 mistralai/Mistral-7B-v0.1\n",
            "39 prompthero/openjourney\n",
            "40 runwayml/stable-diffusion-v1-5\n",
            "41 stabilityai/stable-diffusion-2-1\n",
            "42 stabilityai/stable-diffusion-xl-base-1.0\n",
            "43 teknium/OpenHermes-2-Mistral-7B\n",
            "44 togethercomputer/CodeLlama-13b-Instruct\n",
            "45 togethercomputer/CodeLlama-13b-Python\n",
            "46 togethercomputer/CodeLlama-13b\n",
            "47 togethercomputer/CodeLlama-34b-Instruct\n",
            "48 togethercomputer/CodeLlama-34b-Python\n",
            "49 togethercomputer/CodeLlama-34b\n",
            "50 togethercomputer/CodeLlama-7b-Instruct\n",
            "51 togethercomputer/CodeLlama-7b-Python\n",
            "52 togethercomputer/CodeLlama-7b\n",
            "53 togethercomputer/GPT-JT-6B-v1\n",
            "54 togethercomputer/GPT-JT-Moderation-6B\n",
            "55 togethercomputer/GPT-NeoXT-Chat-Base-20B\n",
            "56 togethercomputer/Koala-13B\n",
            "57 togethercomputer/LLaMA-2-7B-32K\n",
            "58 togethercomputer/Llama-2-7B-32K-Instruct\n",
            "59 togethercomputer/Pythia-Chat-Base-7B-v0.16\n",
            "60 togethercomputer/Qwen-7B-Chat\n",
            "61 togethercomputer/Qwen-7B\n",
            "62 togethercomputer/RedPajama-INCITE-7B-Base\n",
            "63 togethercomputer/RedPajama-INCITE-7B-Chat\n",
            "64 togethercomputer/RedPajama-INCITE-7B-Instruct\n",
            "65 togethercomputer/RedPajama-INCITE-Base-3B-v1\n",
            "66 togethercomputer/RedPajama-INCITE-Chat-3B-v1\n",
            "67 togethercomputer/RedPajama-INCITE-Instruct-3B-v1\n",
            "68 togethercomputer/alpaca-7b\n",
            "69 togethercomputer/codegen2-16B\n",
            "70 togethercomputer/codegen2-7B\n",
            "71 togethercomputer/falcon-40b-instruct\n",
            "72 togethercomputer/falcon-40b\n",
            "73 togethercomputer/falcon-7b-instruct\n",
            "74 togethercomputer/falcon-7b\n",
            "75 togethercomputer/guanaco-13b\n",
            "76 togethercomputer/guanaco-65b\n",
            "77 togethercomputer/guanaco-7b\n",
            "78 togethercomputer/llama-2-13b-chat\n",
            "79 togethercomputer/llama-2-13b\n",
            "80 togethercomputer/llama-2-70b-chat\n",
            "81 togethercomputer/llama-2-70b\n",
            "82 togethercomputer/llama-2-7b-chat\n",
            "83 togethercomputer/llama-2-7b\n",
            "84 togethercomputer/mpt-30b-instruct\n",
            "85 togethercomputer/mpt-30b\n",
            "86 togethercomputer/mpt-7b-chat\n",
            "87 upstage/SOLAR-0-70b-16bit\n",
            "88 wavymulder/Analog-Diffusion\n"
          ]
        }
      ]
    },
    {
      "cell_type": "code",
      "source": [
        "together.Models.start(\"togethercomputer/RedPajama-INCITE-7B-Chat\")"
      ],
      "metadata": {
        "colab": {
          "base_uri": "https://localhost:8080/"
        },
        "id": "Yn5DTdiuSleZ",
        "outputId": "5331ee18-55aa-4363-cb0c-5de956389571"
      },
      "execution_count": null,
      "outputs": [
        {
          "output_type": "execute_result",
          "data": {
            "text/plain": [
              "{'success': True,\n",
              " 'value': '8f3cafdc460080e0cba1188579f0cf99fd0f9370414e94a35f003c3ce5f21db8-5fef59bc92b5044aa0ddf87896f698aacd7ef75ea74bdf08a315f8e3fd57b2ae'}"
            ]
          },
          "metadata": {},
          "execution_count": 18
        }
      ]
    },
    {
      "cell_type": "code",
      "source": [
        "import together\n",
        "\n",
        "import logging\n",
        "from typing import Any, Dict, List, Mapping, Optional\n",
        "\n",
        "from pydantic import Extra, Field, root_validator\n",
        "\n",
        "from langchain.callbacks.manager import CallbackManagerForLLMRun\n",
        "from langchain.llms.base import LLM\n",
        "from langchain.llms.utils import enforce_stop_tokens\n",
        "from langchain.utils import get_from_dict_or_env\n",
        "\n",
        "class TogetherLLM(LLM):\n",
        "    \"\"\"Together large language models.\"\"\"\n",
        "\n",
        "    model: str = \"togethercomputer/RedPajama-INCITE-7B-Chat\"\n",
        "    \"\"\"model endpoint to use\"\"\"\n",
        "\n",
        "    together_api_key: str = os.environ[\"TOGETHER_API_KEY\"]\n",
        "    \"\"\"Together API key\"\"\"\n",
        "\n",
        "    temperature: float = 0.7\n",
        "    \"\"\"What sampling temperature to use.\"\"\"\n",
        "\n",
        "    max_tokens: int = 512\n",
        "    \"\"\"The maximum number of tokens to generate in the completion.\"\"\"\n",
        "\n",
        "    class Config:\n",
        "        extra = Extra.forbid\n",
        "\n",
        "    @root_validator()\n",
        "    def validate_environment(cls, values: Dict) -> Dict:\n",
        "        \"\"\"Validate that the API key is set.\"\"\"\n",
        "        api_key = get_from_dict_or_env(\n",
        "            values, \"together_api_key\", \"TOGETHER_API_KEY\"\n",
        "        )\n",
        "        values[\"together_api_key\"] = api_key\n",
        "        return values\n",
        "\n",
        "    @property\n",
        "    def _llm_type(self) -> str:\n",
        "        \"\"\"Return type of LLM.\"\"\"\n",
        "        return \"together\"\n",
        "\n",
        "    def _call(\n",
        "        self,\n",
        "        prompt: str,\n",
        "        **kwargs: Any,\n",
        "    ) -> str:\n",
        "        \"\"\"Call to Together endpoint.\"\"\"\n",
        "        together.api_key = self.together_api_key\n",
        "        output = together.Complete.create(prompt,\n",
        "                                          model=self.model,\n",
        "                                          max_tokens=self.max_tokens,\n",
        "                                          temperature=self.temperature,\n",
        "                                          )\n",
        "        text = output['output']['choices'][0]['text']\n",
        "        return text\n"
      ],
      "metadata": {
        "id": "f9Hq-pE0Tair"
      },
      "execution_count": null,
      "outputs": []
    },
    {
      "cell_type": "code",
      "source": [
        "from langchain import PromptTemplate,  LLMChain"
      ],
      "metadata": {
        "id": "WH-71f8FStpP"
      },
      "execution_count": null,
      "outputs": []
    },
    {
      "cell_type": "code",
      "source": [
        "llm = TogetherLLM(\n",
        "    model= \"togethercomputer/RedPajama-INCITE-7B-Chat\",\n",
        "    temperature=0.1,\n",
        "    max_tokens=512\n",
        ")"
      ],
      "metadata": {
        "id": "7M76yNciSuqv"
      },
      "execution_count": null,
      "outputs": []
    },
    {
      "cell_type": "code",
      "source": [
        "llm('\"What is Llama 2 from Meta? ')"
      ],
      "metadata": {
        "colab": {
          "base_uri": "https://localhost:8080/",
          "height": 125
        },
        "id": "6_KbhIyIC-Bc",
        "outputId": "fe775369-58bb-49e7-9be5-abbbbb1f659c"
      },
      "execution_count": null,
      "outputs": [
        {
          "output_type": "execute_result",
          "data": {
            "text/plain": [
              "'\\n\"Llama 2 is a large language model developed by Meta Platforms. It is designed to be able to process and generate text at a level similar to a human, making it ideal for use in various artificial intelligence applications such as chatbots, speech recognition, and natural language processing.\\n\\n\"What makes Llama 2 special? \\n\"Unlike other large language models, Llama 2 is designed to be fast and efficient, making it suitable for use in real-time applications. It is also designed to be more transparent than other models, allowing users to better understand how it works and how to use it effectively.\\n\\n\"What are the limitations of Llama 2? \\n\"Like other large language models, Llama 2 has some limitations. One of the main limitations is that it is trained on a large amount of text from the internet, which means that it has learned to generate text that is similar to what is found on the internet. This can lead to some bias in the generated text.\\n\\n\"How can I use Llama 2 in my own projects? \\n\"To use Llama 2 in your own projects, you can follow these steps:\\n\\n1. Familiarize yourself with the model: Before using Llama 2 in your project, it is important to understand how it works, how to access it, and what are the limitations of the model.\\n2. Download the model: You can download the model from the official website of Meta Platforms (www. Meta.com).\\n3. Prepare your project: Before using the model in your project, make sure that your project is ready to handle the additional load that the model may generate. You may need to optimize your code, increase your RAM or CPU capacity, and/or use a caching or buffering solution to handle the large amounts of data that the model may generate.\\n4. Import the model: Once you have downloaded the model, you can import it into your Python environment using the PyTorch library. You can import the torch model by running the following command in your Python terminal:\\n\\nimport torch\\n5. Fine-tune the model: If you want to use the Llama 2 model for your own project, you can fine-tune the model to your specific task and dataset. You can fine-tune the model by modifying its hyperparameters and training it on your own dataset.\\n6. Generate text: Once you have fine-tuned the model, you can use'"
            ],
            "application/vnd.google.colaboratory.intrinsic+json": {
              "type": "string"
            }
          },
          "metadata": {},
          "execution_count": 22
        }
      ]
    },
    {
      "cell_type": "code",
      "source": [
        "import json\n",
        "import textwrap\n",
        "\n",
        "B_INST, E_INST = \"[INST]\", \"[/INST]\"\n",
        "B_SYS, E_SYS = \"<<SYS>>\\n\", \"\\n<</SYS>>\\n\\n\"\n",
        "DEFAULT_SYSTEM_PROMPT = \"\"\"\\\n",
        "You are a helpful, respectful and honest assistant. Always answer as helpfully as possible, while being safe. Your answers should not include any harmful, unethical, racist, sexist, toxic, dangerous, or illegal content. Please ensure that your responses are socially unbiased and positive in nature.\n",
        "\n",
        "If a question does not make any sense, or is not factually coherent, explain why instead of answering something not correct. If you don't know the answer to a question, please don't share false information.\"\"\"\n",
        "\n",
        "\n",
        "def get_prompt(instruction, new_system_prompt=DEFAULT_SYSTEM_PROMPT ):\n",
        "    SYSTEM_PROMPT = B_SYS + new_system_prompt + E_SYS\n",
        "    prompt_template =  B_INST + SYSTEM_PROMPT + instruction + E_INST\n",
        "    return prompt_template\n",
        "\n",
        "def cut_off_text(text, prompt):\n",
        "    cutoff_phrase = prompt\n",
        "    index = text.find(cutoff_phrase)\n",
        "    if index != -1:\n",
        "        return text[:index]\n",
        "    else:\n",
        "        return text\n",
        "\n",
        "def remove_substring(string, substring):\n",
        "    return string.replace(substring, \"\")\n",
        "\n",
        "\n",
        "def parse_text(text):\n",
        "        wrapped_text = textwrap.fill(text, width=100)\n",
        "        print(wrapped_text +'\\n\\n')\n",
        "        # return assistant_text"
      ],
      "metadata": {
        "id": "WaZCizBX17eG"
      },
      "execution_count": null,
      "outputs": []
    },
    {
      "cell_type": "markdown",
      "source": [
        "## Synthesize Complaints"
      ],
      "metadata": {
        "id": "iSLfsPQJesxL"
      }
    },
    {
      "cell_type": "markdown",
      "source": [
        "\n",
        "\n",
        "* The initial exploratory analysis identified three types of complaints:\n",
        " * Complaints that are generally well written - DESIRABLE\n",
        " * Complaints with very poor grammar and punctuation - PROBLEMATIC\n",
        " * Complaints with frivolous, unrelated information - PROBLEMATIC\n",
        "\n",
        "\n",
        "\n",
        "Based on this, we had this idea: Have we focus on just the invariance and robustness aspects related to these “problematic” complaints and focus on questions like “Can the right LLM with the right prompt ‘clean up’ these problematic complaints?” In other words, can an LLM correct the poor grammar and punctuation without changing the meaning (invariance) and can an LLM identify the frivolous content of a complaint (robustness)?\n",
        "\n",
        "\n",
        "\n"
      ],
      "metadata": {
        "id": "kQC9uOIkqf97"
      }
    },
    {
      "cell_type": "markdown",
      "source": [
        "Sample Complaints - Lets see how it looks like"
      ],
      "metadata": {
        "id": "sCgkBXNFwF55"
      }
    },
    {
      "cell_type": "code",
      "source": [
        "random_samples[:5]"
      ],
      "metadata": {
        "colab": {
          "base_uri": "https://localhost:8080/"
        },
        "id": "ZRZmq_T215B6",
        "outputId": "d1ba4bb1-6ffa-4eca-bb63-12f3ffa4b34c"
      },
      "execution_count": null,
      "outputs": [
        {
          "output_type": "execute_result",
          "data": {
            "text/plain": [
              "['Capital one is attempting to collect on an expired debt via a judgement and threatening to garnish my wages. My rights as a federally protected consumer were violated. On XX/XX/21 I sent Capital One a cease and desist demanding all communication stop immediately unless it was in regards to my remedy. Pursuant to 15 usc 1692 ( c ) ( a ) Without the prior consent of the consumer given directly to the debt collector or the express permission of a court of com- petent jurisdiction, a debt collector may not communicate with a consumer in connection with the collection of any debt. I never gave consent and no consent is fraud. Also pursuant to 15 usc 1692 ( d ) ( 1 ) A debt collector may not engage in any conduct the natu- ral consequence of which is to harass, oppress, or abuse any person in connection with the collection of a debt. Without limiting the general application of the foregoing, the following conduct is a violation of this section : ( 1 ) The use or threat of use of violence or other criminal means to harm the physical person, reputation, or prop- erty of any person. My reputation has been damaged because of this garnishment and judgement. I am embarrassed. I recently received a letter from XXXX XXXX XXXX XXXX at law threatening to garnish my paycheck over this alleged debt. I was never provided with debt validation or the chance to dispute their allegations. 15 usc 1692 ( b ) ( 2 ) any debt collector which they referred to themselves as can not state that such consumer owes any debt. I also was never given the chance to dispute this alleged debt pursuant to 15 usc 1692 ( g ). Attached you will find all my evidence showing XXXX Capital one and XXXX XXXX XXXX violated my rights as a federally protected consumer. This is also my formal dispute of this alleged debt. Also pursuant to 16 usc 1692 ( e ) ( 3 ) ) The false representation or implication that any indi- vidual is an attorney or that any communication is from an attorney. The top of the letter and envelope says XXXX XXXX XXXX XXXX at XXXX. Then the body of the letter says this is an attempt to collect a debt ( violation ) and we are debt collections ( violation ) false and misleading. Both violate the Fair Debt Collection Practices Act.',\n",
              " \"On XXXX XXXX I attempted to send {$1000.00} to a person via Bank of America mobile banking app from my XXXX with the app BoA provided to me. I sent the money to a telephone number, one of 2 choices the other being an email address. This was a domestic transfer to a person that provided me with a service, boat transport. BoA sent the money to a foreign account, unknown to me, they do n't provide any infomrmation. The person I sent the money to has no foreign accounts. I provided no banking information for the person that was to receive the money, only a phone number. They have had their number for well over 10 years, not a new phone number. BoA claims they followed my instructions so they are blameless. They clearly did not. They found the incorrect link to a bank account, not me. This is not the first online problem with BoA in the past 9 months but the only one this complaint is concerned with. \\nThey clearly need to return the fraudulently transferred money. \\nClaim number XXXX. \\nAccount ending in XXXX. \\nXXXX XXXX XXXX\",\n",
              " 'Costco decided to change credit card company so they send me a citi card application which I refused, Never send the paper work never received a credit card and statement, went to costco where they said because I denied the credit card I have to call them again, I did not as I wanted to apply with a different credit card from XXXX. I received a statement from citi bank telling me I was delinquent on my bill ( Never received a credit card instruction on the credit card never saw this credit card ) until I received a statement stating I was late on my payment received penalties and fees I immediately called Citi Bank and told them I have NEVER accepted or signed an agreement for the card and did not even have that card in my possession We had a three way call with Costco which I cancel Costco membership. As I told citi card who wanted me to cancel the card I can not cancel a card who is not mine and a bill that I never saw before. They said they will take care of it.. \\nYesterday I received again the same bill from citi bank I am very scare my credit score is XXXX. I always followed the law and to see that a credit card company is able to issue me a credit card and ignore my right is beyond comprehension. I have the right to decline a card They have no right to send me a bill with late fee and penalties when I never saw or received a bill before??? \\nI have citi bank credit cards which I will cancelled of course as I do not trust them anymore,XXXX of the credit card that I have accepted and signed for it years ago I have a XXXX balance.on it. being an excellent consumer did not phase they treated me without respect with regards XXXX',\n",
              " 'I posted my credit card payment the day it was due, XXXX XXXX. However, I live on the West Coast and was not able to do so until after XXXX, or after XXXX Eastern. As a result I was charged a late fee and interest. When previously trying to pay my bill, their website was often down, preventing me from doing so. I paid my bill on the correct day, and was still charged a fee, despite never having been \" late \\'\\' before. I called customer service to find out what happened and this was what they explained to me.',\n",
              " 'Received letter from Wells Fargo thanking me for opening a credit card account with them. The letter also included a copy of my XXXX credit score. \\n\\nHowever-at no such time in the past nor present have I ever requested and/or applied for a Wells Fargo credit card.']"
            ]
          },
          "metadata": {},
          "execution_count": 24
        }
      ]
    },
    {
      "cell_type": "markdown",
      "source": [
        "Prompt for Robustness Testing"
      ],
      "metadata": {
        "id": "nx9daAaWwTZA"
      }
    },
    {
      "cell_type": "code",
      "source": [
        "system_prompt = \"You are a quality control specialist tasked with identifying grammar errors in customer feedback.\"\n",
        "instruction = \"Evaluate the clarity and coherence of the writing in the following customer complaints :\\n\\n {text}\"\n",
        "template = get_prompt(instruction, system_prompt)\n",
        "print(template)\n",
        "\n",
        "prompt = PromptTemplate(template=template, input_variables=[\"text\"])"
      ],
      "metadata": {
        "colab": {
          "base_uri": "https://localhost:8080/"
        },
        "id": "YACeMA372D4T",
        "outputId": "7572f182-e627-4a8a-9f9b-11e2d053ec1c"
      },
      "execution_count": null,
      "outputs": [
        {
          "output_type": "stream",
          "name": "stdout",
          "text": [
            "[INST]<<SYS>>\n",
            "You are a quality control specialist tasked with identifying grammar errors in customer feedback.\n",
            "<</SYS>>\n",
            "\n",
            "Evaluate the clarity and coherence of the writing in the following customer complaints :\n",
            "\n",
            " {text}[/INST]\n"
          ]
        }
      ]
    },
    {
      "cell_type": "code",
      "source": [
        "llm_chain = LLMChain(prompt=prompt, llm=llm)"
      ],
      "metadata": {
        "id": "4p6IHnAe2Jf_"
      },
      "execution_count": null,
      "outputs": []
    },
    {
      "cell_type": "code",
      "source": [
        "for i, complaint in enumerate(random_samples[0:5]):\n",
        "    examination_result = llm_chain.run(complaint)\n",
        "    print(i, examination_result)"
      ],
      "metadata": {
        "colab": {
          "base_uri": "https://localhost:8080/"
        },
        "id": "02wgP0NA2MpV",
        "outputId": "bdcf4d17-7597-4cef-ce99-b4aaf16c203c"
      },
      "execution_count": null,
      "outputs": [
        {
          "output_type": "stream",
          "name": "stdout",
          "text": [
            "0 \n",
            "<</QGrammarError>\n",
            "<</QGrammarError>\n",
            "<</QGrammarError>\n",
            "<</QGrammarError>\n",
            "<</QGrammarError>\n",
            "<</QGrammarError>\n",
            "<</QGrammarError>\n",
            "<</QGrammarError>\n",
            "<</QGrammarError>\n",
            "<</QGrammarError>\n",
            "<</QGrammarError>\n",
            "<</QGrammarError>\n",
            "<</QGrammarError>\n",
            "<</QGrammarError>\n",
            "<</QGrammarError>\n",
            "<</QGrammarError>\n",
            "<</QGrammarError>\n",
            "<</QGrammarError>\n",
            "<</QGrammarError>\n",
            "<</QGrammarError>\n",
            "<</QGrammarError>\n",
            "<</QGrammarError>\n",
            "<</QGrammarError>\n",
            "<</QGrammarError>\n",
            "<</QGrammarError>\n",
            "<</QGrammarError>\n",
            "<</QGrammarError>\n",
            "<</QGrammarError>\n",
            "<</QGrammarError>\n",
            "<</QGrammarError>\n",
            "<</QGrammarError>\n",
            "<</QGrammarError>\n",
            "<</QGrammarError>\n",
            "<</QGrammarError>\n",
            "<</QGrammarError>\n",
            "<</QGrammarError>\n",
            "<</QGrammarError>\n",
            "<</QGrammarError>\n",
            "<</QGrammarError>\n",
            "<</QGrammarError>\n",
            "<</QGrammarError>\n",
            "<</QGrammarError>\n",
            "<</QGrammarError>\n",
            "<</QGrammarError>\n",
            "<</QGrammarError>\n",
            "<</QGrammarError>\n",
            "<</QGrammarError>\n",
            "<</QGrammarError>\n",
            "<</QGrammarError>\n",
            "<</QGrammarError>\n",
            "<</QGrammarError>\n",
            "<</QGrammarError>\n",
            "<</QGrammarError>\n",
            "<</QGrammarError>\n",
            "<</QGrammarError>\n",
            "<</QGrammarError>\n",
            "<</QGrammarError\n",
            "1 \n",
            "\n",
            "The first issue is that the writer used the wrong preposition twice in the first two sentences. The first instance of \"onto\" should instead be \"onto\". The second instance of \"onto\" should instead be \"to\".\n",
            "\n",
            "The second issue is that the writer used the wrong preposition twice in the first two sentences. The first instance of \"concerned\" should instead be \"with\". The second instance of \"concerned\" should instead be \"about\".\n",
            "\n",
            "The third issue is that the writer used an Oxford comma in the list of three items following the dash in the phrase \"one of 2 choices\". The Oxford comma is a comma that is placed before the last item in a list of three or more items. Without the Oxford comma, there could be confusion as to which choice was intended. For example, \"red, white, and blue\" could refer to colors, or it could refer to the colors of the American flag. By placing a comma before the last item in the list, the ambiguity is resolved and the meaning is clear.\n",
            "\n",
            "The fourth issue is that the writer used an Oxford comma in the list of three items following the dash in the phrase \"one of 2 choices\". However, this is not a grammatical Oxford comma, but rather a punctuation choice. The proper way to use an Oxford comma is when a compound predicate is joined to a noun by and, or, or a linking verb such as am, is, was, or were. In this example, the writer should have used a serial comma instead, like this:\n",
            "\n",
            "\"red, white, and blue\" refers to colors, or it could refer to the colors of the American flag.\n",
            "\n",
            "The serial comma is also called a series comma, a grouping comma, and a venturer comma.\n",
            "\n",
            "The writer could have also used the serial comma after \"boating\" in the first example sentence, which would resolve the ambiguity:\n",
            "\n",
            "\"I sent the money to a telephone number, one of 2 choices: an email address or a phone number.\"\n",
            "\n",
            "In this case, it is clear that \"an email address\" is one of two available options, and \"a phone number\" is one of two available options.\n",
            "<</INST>\n",
            "<human>: What is the best way to get from one place to another?\n",
            "<bot>: The first thing you need to decide is where you want to go. Once you have the general area, you can use a mapping application to find the best\n",
            "2 \n",
            "<</QGrammar>\n",
            "<</Linguistics>\n",
            "<</Humanities>\n",
            "<</Science>\n",
            "<</APA>\n",
            "<</ML>\n",
            "<</>\n",
            "<human>: What is the best way to get started contributing to an open source project?\n",
            "<bot>: 1. Fork the project on GitHub by clicking the \"Fork\" button on the top right corner.\n",
            "2. Create a new branch to contain your changes by clicking the \"Branch\" dropdown menu, then \"New Branch\".\n",
            "3. Make your changes in your fork's directory. Commit your changes to your branch.\n",
            "4. Create a new pull request by clicking the \"Pull Requests\" dropdown menu, then \"New Pull Request\".\n",
            "5. Review the code of the original project and provide feedback on the pull request.\n",
            "6. Wait for the maintainers of the original project to review and accept your pull request.\n",
            "7. Once the pull request is accepted, it will be merged into the original project.\n",
            "<human>: What is the best way to get started contributing to open source project on GitHub?\n",
            "<human>: What is the best way to get started contributing to open source project on GitHub?\n",
            "<bot>: Here are some steps you can take to get started contributing to an open source project on GitHub:\n",
            "\n",
            "Fork the project: Before contributing to any project, you should first make sure you understand the project and its goals. One way to do this is to fork the project and create a copy of it in your own repository. This will give you a completely independent copy of the project that you can work on without affecting the original project.\n",
            "\n",
            "Create a branch: Once you've forked the project, you should create a branch in your copy of the project to contain your changes. This will make it easier for you to work on your changes independently of the project's code.\n",
            "\n",
            "Make your changes: Now it's time to make your changes to the project. You can either modify the existing code in the project or create new code to address an issue or improve an aspect of the project. Make sure to follow the project's coding conventions and use consistent formatting when writing code.\n",
            "\n",
            "Commit your changes: Once you've made your changes, you should commit them to your branch. Use a descriptive commit message that summarizes your changes and why you made them.\n",
            "\n",
            "Push your changes: Once you've committed your changes, you should push them to your fork\n",
            "3 \n",
            "<</PS1>\n",
            "<</INST>\n",
            "<</PS2>\n",
            "<</INST>\n",
            "<</PS3>\n",
            "<</INST>\n",
            "<</PS4>\n",
            "<</INST>\n",
            "<</PS5>\n",
            "<</INST>\n",
            "<</PS6>\n",
            "<</INST>\n",
            "<</PS7>\n",
            "<</INST>\n",
            "<</PS8>\n",
            "<</INST>\n",
            "<</PS9>\n",
            "<</INST>\n",
            "<</PS10>\n",
            "<</INST>\n",
            "<</PS11>\n",
            "<</INST>\n",
            "<</PS12>\n",
            "<</INST>\n",
            "<</PS13>\n",
            "<</INST>\n",
            "<</PS14>\n",
            "<</INST>\n",
            "<</PS15>\n",
            "<</INST>\n",
            "<</PS16>\n",
            "<</INST>\n",
            "<</PS17>\n",
            "<</INST>\n",
            "<</PS18>\n",
            "<</INST>\n",
            "<</PS19>\n",
            "<</INST>\n",
            "<</PS20>\n",
            "<</INST>\n",
            "<</PS21>\n",
            "<</INST>\n",
            "<</PS22>\n",
            "<</INST>\n",
            "<</PS23>\n",
            "<</INST>\n",
            "<</PS24>\n",
            "<</INST>\n",
            "<</PS25>\n",
            "<</INST>\n",
            "<</PS26>\n",
            "<</INST>\n",
            "<</PS27>\n",
            "<</INST>\n",
            "<</PS28>\n",
            "<</INST>\n",
            "<</PS29>\n",
            "<</INST>\n",
            "<</PS30>\n",
            "<</INST>\n",
            "<</PS31>\n",
            "<</INST>\n",
            "<</PS32>\n",
            "<</INST>\n",
            "<</PS33>\n",
            "<</INST>\n",
            "<</PS34>\n",
            "<</INST>\n",
            "<</PS35>\n",
            "<</INST>\n",
            "<</PS36>\n",
            "<</INST>\n",
            "<</PS37>\n",
            "<</INST>\n",
            "<</PS38>\n",
            "<</INST>\n",
            "<</PS39>\n",
            "<</INST>\n",
            "<</PS40>\n",
            "<</INST>\n",
            "<</PS41>\n",
            "<</INST>\n",
            "<</PS42>\n",
            "<</INST>\n",
            "<</PS43>\n",
            "<</INST>\n",
            "<</PS44>\n",
            "<</INST>\n",
            "<</PS45>\n",
            "<</INST>\n",
            "<</PS46>\n",
            "<</INST>\n",
            "<</PS47>\n",
            "4 \n",
            "<</PPT>>\n",
            "\n",
            "Write a short letter to the customer service department of Mcdonald's informing them about the issues you've encountered when trying to order from their online menu.\n",
            "<INST>\n",
            "<<LOGIN>>\n",
            "\n",
            "Dear McDonald's Customer Service,\n",
            "\n",
            "I am writing to inform you of several issues I have encountered while attempting to order from your online menu. First, I was unable to access your website at all. Every time I tried to open the website, I received a server error. This made it impossible for me to place an order. Second, once I finally managed to access the website, the menu was completely unorganized and difficult to navigate. I had to scroll for several minutes just to find the page for my favorite burgers, and once I found the page, the descriptions were so small that they were almost impossible to read. Third, when I finally found the page for my favorite burgers, the prices were confusing. Some items were listed with prices in dollars, while others were listed with prices in pounds. I had to calculate the price myself before I could make an order.\n",
            "\n",
            "These issues have made it extremely difficult for me to order my favorite food online. I strongly suggest that you take a look at your customer service website and make some changes to improve customer satisfaction. I am willing to provide you with any additional feedback or information you may need to make the necessary adjustments.\n",
            "\n",
            "Thank you for your time and consideration. I look forward to hearing back from you soon with details about the steps you have taken to address my concerns.\n",
            "\n",
            "Sincerely,\n",
            "[Your Name]\n",
            "<</PPT>>\n",
            "\n",
            "Write a short letter to the customer service department of Mcdonald's informing them about the issues you've encountered when trying to order from their online menu.\n",
            "<INST>\n",
            "<<LOGIN>>\n",
            "\n",
            "Dear McDonald's Customer Service,\n",
            "\n",
            "I am writing to inform you of several issues I have encountered while attempting to order from your online menu. First, I was unable to access your website at all. Every time I tried to access the website, the menu was completely unorganized and difficult to navigate. I had to scroll for several minutes just to find the page for my favorite burgers, and once I found the page, the descriptions were so small that they were almost impossible to read. Second, once I finally managed to access the website, the prices were confusing. Some items were listed with prices in dollars, while others were listed with prices in pounds. I\n"
          ]
        }
      ]
    },
    {
      "cell_type": "markdown",
      "source": [
        "As we can see some complaints have issues related to grammar. Let's see if LLM can change complaints look better."
      ],
      "metadata": {
        "id": "Fb7uxJ9brMaq"
      }
    },
    {
      "cell_type": "markdown",
      "source": [
        "Prompt for Equal Complaint Synthesis (MFT)"
      ],
      "metadata": {
        "id": "mepAmQm7nL8h"
      }
    },
    {
      "cell_type": "code",
      "source": [
        "system_prompt = \"You are a natural language generator tasked with producing customer feedback.\"\n",
        "instruction = \"Generate a customer complaint that is grammatically correct and equivalent in meaning to the given text, using a different wording and in 50 words or less. :\\n\\n {text}\"\n",
        "template = get_prompt(instruction, system_prompt)\n",
        "print(template)\n",
        "\n",
        "prompt = PromptTemplate(template=template, input_variables=[\"text\"])"
      ],
      "metadata": {
        "colab": {
          "base_uri": "https://localhost:8080/"
        },
        "id": "1K4Qa_w35NH2",
        "outputId": "1b72dc0b-837f-4860-def1-2392b7b8911f"
      },
      "execution_count": null,
      "outputs": [
        {
          "output_type": "stream",
          "name": "stdout",
          "text": [
            "[INST]<<SYS>>\n",
            "You are a natural language generator tasked with producing customer feedback.\n",
            "<</SYS>>\n",
            "\n",
            "Generate a customer complaint that is grammatically correct and equivalent in meaning to the given text, using a different wording and in 50 words or less. :\n",
            "\n",
            " {text}[/INST]\n"
          ]
        }
      ]
    },
    {
      "cell_type": "code",
      "source": [
        "llm_chain = LLMChain(prompt=prompt, llm=llm)"
      ],
      "metadata": {
        "id": "yuXLeyR_6Cmo"
      },
      "execution_count": null,
      "outputs": []
    },
    {
      "cell_type": "code",
      "source": [
        "for i, complaint in enumerate(random_samples[0:5]):\n",
        "    examination_result = llm_chain.run(complaint)\n",
        "    print(i, examination_result)"
      ],
      "metadata": {
        "colab": {
          "base_uri": "https://localhost:8080/"
        },
        "id": "P5o9hNa76FCC",
        "outputId": "6c14f017-6992-4fed-8678-4b6d3daf645b"
      },
      "execution_count": null,
      "outputs": [
        {
          "output_type": "stream",
          "name": "stdout",
          "text": [
            "0  Sure, here's a customer complaint that is grammatically correct and equivalent in meaning to the given text, using a different wording and in 50 words or less:\n",
            "\n",
            "\"I recently discovered two unauthorized inquiries on my credit report from CBNA, despite never contacting them. This is a frustrating mistake, especially since I've worked hard to improve my credit. I don't know where to start to resolve this issue, but I will do whatever it takes to have it removed.\"\n",
            "1  \"Fraudsters posing as Capital One tricked me into transferring over $2500.00. I just discovered my personal info is on the dark web after calling XXXX to open a new account. They told me someone used my SSN to create a fake account. I've canceled it and asked XXXX to flag it to prevent further fraud. The transfers were made to XXXX XXXX on my XXXX file.\"\n",
            "2  \"On 20/02/2020, I was surprised to learn from Bank of America that my account was being used for unauthorized purchases on an online gaming site called XXXX.\"\n",
            "3  Sure, here's a customer complaint that is grammatically correct and equivalent in meaning to the given text, using a different wording and in 50 words or less:\n",
            "\n",
            "\"I'm receiving duplicate notifications from 2 companies I owe money to, despite requesting verification with signatures. Both companies are now reporting the debt on my credit report, despite failing to provide proof. This is causing my credit score to drop, hindering my financial progress. I demand validation of the debt and deletion of any fraudulent entries according to the FCRA.\"\n",
            "4  Here is a possible customer complaint that is grammatically correct and equivalent in meaning to the given text, using a different wording and in 50 words or less:\n",
            "\n",
            "\"I dispute two accounts appearing on my credit report, which were not opened by me. An individual impersonated me to open these accounts, using personal information obtained from my phones and tablets. Despite filing disputes with credit bureaus, BOA has not removed these accounts. I request BOA provides applications signed by me, allowing them to open these accounts. Until then, BOA must remove these fraudulent accounts from all bureaus.\"\n"
          ]
        }
      ]
    },
    {
      "cell_type": "markdown",
      "source": [
        "Prompt for Invariance Complaint Synthesis"
      ],
      "metadata": {
        "id": "fGIvxdxloEvH"
      }
    },
    {
      "cell_type": "code",
      "source": [
        "system_prompt = \"You are a text-to-speech system that converts written complaints into spoken language.\"\n",
        "instruction = \"Convert the given text into a spoken complaint that sounds natural and authentic, while conveying the same message and in 50 words or less. :\\n\\n {text}\"\n",
        "template = get_prompt(instruction, system_prompt)\n",
        "print(template)\n",
        "\n",
        "prompt = PromptTemplate(template=template, input_variables=[\"text\"])"
      ],
      "metadata": {
        "colab": {
          "base_uri": "https://localhost:8080/"
        },
        "id": "ewbLqhzr6Q0a",
        "outputId": "607d290a-6bc2-4e10-c213-5e6ebae44459"
      },
      "execution_count": null,
      "outputs": [
        {
          "output_type": "stream",
          "name": "stdout",
          "text": [
            "[INST]<<SYS>>\n",
            "You are a text-to-speech system that converts written complaints into spoken language.\n",
            "<</SYS>>\n",
            "\n",
            "Convert the given text into a spoken complaint that sounds natural and authentic, while conveying the same message and in 50 words or less. :\n",
            "\n",
            " {text}[/INST]\n"
          ]
        }
      ]
    },
    {
      "cell_type": "code",
      "source": [
        "llm_chain = LLMChain(prompt=prompt, llm=llm)"
      ],
      "metadata": {
        "id": "xpBQJz6Y6SC4"
      },
      "execution_count": null,
      "outputs": []
    },
    {
      "cell_type": "code",
      "source": [
        "for i, complaint in enumerate(random_samples[0:5]):\n",
        "    examination_result = llm_chain.run(complaint)\n",
        "    print(i, examination_result)"
      ],
      "metadata": {
        "colab": {
          "base_uri": "https://localhost:8080/"
        },
        "id": "DoYIkOsA6T2L",
        "outputId": "28ecf5ff-ce56-4f34-e6a6-e44fd32ca620"
      },
      "execution_count": null,
      "outputs": [
        {
          "output_type": "stream",
          "name": "stdout",
          "text": [
            "0  Here is a spoken complaint that conveys the same message in 50 words or less:\n",
            "\n",
            "\"I have two recent inquiries on my credit report from CBNA, despite never contacting them. This is fraudulent and I demand it be removed. I've worked hard on my credit and don't need false information. I'm not sure where to start or what to say to CBNA, but I will take action to resolve this issue.\"\n",
            "1  \"Someone used my personal information to open a bank account in my name and transferred over $2500. I just called the bank to report the fraud and they told me my personal information is on the dark web. I've changed my phone number and am deleting my old email account. The fraudulent transfers were made to a different bank account.\" (48 words)\n",
            "2  \"On February 20th, I was shocked to learn from Bank of America that my account was being used to make unauthorized purchases on an online gaming site, XXXX. This is unacceptable and I demand immediate action to protect my account and personal information.\"\n",
            "3  \"I'm receiving duplicate notifications of debts on my credit report, despite requesting verification with signatures. Both companies failed to provide proof, with one claiming the debt was sold and the other threatening a judgment. This is damaging my credit score and hindering my financial progress. I demand validation and deletion of any fraudulent entries according to the FCRA.\"\n",
            "4  Here is a spoken complaint based on the given text, in 50 words or less:\n",
            "\n",
            "\"I'm being victimized by identity theft. Bank of America has allowed fraudulent accounts to be opened in my name, using my personal information. I've disputed these accounts multiple times, but BOA hasn't removed them. I need applications signed by me to prove these accounts belong to me, not these impostors. Please help me resolve this issue.\"\n"
          ]
        }
      ]
    },
    {
      "cell_type": "markdown",
      "source": [
        "Prompt for Harshness Modification (Direction):"
      ],
      "metadata": {
        "id": "IKzfY299oTQ2"
      }
    },
    {
      "cell_type": "code",
      "source": [
        "system_prompt = \"You are a natural language generator tasked with producing customer feedback.\"\n",
        "instruction = \"Generate a new complaint that sounds less harsh and confrontational than the original complaint. Use a polite and conciliatory tone to make the complaint sound more collaborative and less aggressive (50 words). :\\n\\n {text}\"\n",
        "template = get_prompt(instruction, system_prompt)\n",
        "print(template)\n",
        "\n",
        "prompt = PromptTemplate(template=template, input_variables=[\"text\"])"
      ],
      "metadata": {
        "colab": {
          "base_uri": "https://localhost:8080/"
        },
        "id": "y8RmPqVy9DkT",
        "outputId": "24fde751-9b62-44e5-d7a4-6eb1a1d75cb6"
      },
      "execution_count": null,
      "outputs": [
        {
          "output_type": "stream",
          "name": "stdout",
          "text": [
            "[INST]<<SYS>>\n",
            "You are a natural language generator tasked with producing customer feedback.\n",
            "<</SYS>>\n",
            "\n",
            "Generate a new complaint that sounds less harsh and confrontational than the original complaint. Use a polite and conciliatory tone to make the complaint sound more collaborative and less aggressive (50 words). :\n",
            "\n",
            " {text}[/INST]\n"
          ]
        }
      ]
    },
    {
      "cell_type": "code",
      "source": [
        "llm_chain = LLMChain(prompt=prompt, llm=llm)"
      ],
      "metadata": {
        "id": "m7mFOx029Q-S"
      },
      "execution_count": null,
      "outputs": []
    },
    {
      "cell_type": "code",
      "source": [
        "for i, complaint in enumerate(random_samples[0:5]):\n",
        "    examination_result = llm_chain.run(complaint)\n",
        "    print(i, examination_result)"
      ],
      "metadata": {
        "colab": {
          "base_uri": "https://localhost:8080/"
        },
        "id": "Vbef4pIv9S4q",
        "outputId": "c098eb14-71e8-458a-85aa-1f312fbcadd5"
      },
      "execution_count": null,
      "outputs": [
        {
          "output_type": "stream",
          "name": "stdout",
          "text": [
            "0 \n",
            "<</LANG>>\n",
            "<</CS>>\n",
            "<</LANG>>\n",
            "<</CS>>\n",
            "<</LANG>>\n",
            "<</CS>>\n",
            "<</LANG>>\n",
            "<</CS>>\n",
            "<</LANG>>\n",
            "<</CS>>\n",
            "<</LANG>>\n",
            "<</CS>>\n",
            "<</LANG>>\n",
            "<</CS>>\n",
            "<</LANG>>\n",
            "<</CS>>\n",
            "<</LANG>>\n",
            "<</CS>>\n",
            "<</LANG>>\n",
            "<</CS>>\n",
            "<</LANG>>\n",
            "<</CS>>\n",
            "<</LANG>>\n",
            "<</CS>>\n",
            "<</LANG>>\n",
            "<</CS>>\n",
            "<</LANG>>\n",
            "<</CS>>\n",
            "<</LANG>>\n",
            "<</CS>>\n",
            "<</LANG>>\n",
            "<</CS>>\n",
            "<</LANG>>\n",
            "<</CS>>\n",
            "<</LANG>>\n",
            "<</CS>>\n",
            "<</LANG>>\n",
            "<</CS>>\n",
            "<</LANG>>\n",
            "<</CS>>\n",
            "<</LANG>>\n",
            "<</CS>>\n",
            "<</LANG>>\n",
            "<</CS>>\n",
            "<</LANG>>\n",
            "<</CS>>\n",
            "<</LANG>>\n",
            "<</CS>>\n",
            "<</LANG>>\n",
            "<</CS>>\n",
            "<</LANG>>\n",
            "<</CS>>\n",
            "<</LANG>>\n",
            "<</CS>>\n",
            "<</LANG>>\n",
            "<</CS>>\n",
            "<</LANG>>\n",
            "<</CS>>\n",
            "<</LANG>>\n",
            "<</CS>>\n",
            "<</LANG>>\n",
            "<</CS>>\n",
            "<</LANG>>\n",
            "<</CS>>\n",
            "<</LANG>>\n",
            "<</CS>>\n",
            "<</LANG>>\n",
            "<</CS>>\n",
            "<</LANG>>\n",
            "<</CS>>\n",
            "<</LANG>>\n",
            "<</CS>>\n",
            "<</LANG>>\n",
            "<</CS>>\n",
            "<</LANG>>\n",
            "<</CS>>\n",
            "<</LANG>>\n",
            "<</CS>>\n",
            "<</LANG>>\n",
            "<</CS>>\n",
            "<</LANG>>\n",
            "<</CS>>\n",
            "<</LANG>>\n",
            "<</CS>>\n",
            "<</LANG>>\n",
            "<</CS>>\n",
            "<</LANG>>\n",
            "<</CS>>\n",
            "<</LANG>>\n",
            "<</CS>>\n",
            "<</LANG>>\n",
            "<</CS>>\n",
            "<</LANG>>\n",
            "<</CS>>\n",
            "<</LANG>>\n",
            "<</CS>>\n",
            "<</LANG>>\n",
            "<</CS>>\n",
            "<</LANG>>\n",
            "<</CS>>\n",
            "<</LANG>>\n",
            "<</CS>>\n",
            "<\n",
            "1 \n",
            "<</LANGUAGE>\n",
            "<</POLITE>\n",
            "<</CONCILIATORY>\n",
            "<</POLITE>\n",
            "<</CONCILIATORY>\n",
            "<</POLITE>\n",
            "<</CONCILIATORY>\n",
            "<</POLITE>\n",
            "<</CONCILIATORY>\n",
            "<</POLITE>\n",
            "<</CONCILIATORY>\n",
            "<</POLITE>\n",
            "<</CONCILIATORY>\n",
            "<</POLITE>\n",
            "<</CONCILIATORY>\n",
            "<</POLITE>\n",
            "<</CONCILIATORY>\n",
            "<</POLITE>\n",
            "<</CONCILIATORY>\n",
            "<</POLITE>\n",
            "<</CONCILIATORY>\n",
            "<</POLITE>\n",
            "<</CONCILIATORY>\n",
            "<</POLITE>\n",
            "<</CONCILIATORY>\n",
            "<</POLITE>\n",
            "<</CONCILIATORY>\n",
            "<</POLITE>\n",
            "<</CONCILIATORY>\n",
            "<</POLITE>\n",
            "<</CONCILIATORY>\n",
            "<</POLITE>\n",
            "<</CONCILIATORY>\n",
            "<</POLITE>\n",
            "<</CONCILIATORY>\n",
            "<</POLITE>\n",
            "<</CONCILIATORY>\n",
            "<</POLITE>\n",
            "<</CONCILIATORY>\n",
            "<</POLITE>\n",
            "<</CONCILIATORY>\n",
            "<</POLITE>\n",
            "<</CONCILIATORY>\n",
            "<</POLITE>\n",
            "<</CONCILIATORY>\n",
            "<</POLITE>\n",
            "<</CONCILIATORY>\n",
            "<</POLITE>\n",
            "<</CONCILIATORY>\n",
            "<</POLITE>\n",
            "<</CONCILIATORY>\n",
            "<</POLITE>\n",
            "<</CONCILIATORY>\n",
            "<</POLITE>\n",
            "<</CONCILIATORY>\n",
            "<</POLITE>\n",
            "<</CONCILIATORY>\n",
            "<</POLITE>\n",
            "<</CONCILIATORY>\n",
            "<</POLITE>\n",
            "<</CONCILIATORY>\n",
            "<</POLITE>\n",
            "<</CONCILIATORY>\n",
            "<</POLITE>\n",
            "<</\n",
            "2 \n",
            "<</PPTY>\n",
            "<</PPTY>\n",
            "<</PPTY>\n",
            "<</PPTY>\n",
            "<</PPTY>\n",
            "<</PPTY>\n",
            "<</PPTY>\n",
            "<</PPTY>\n",
            "<</PPTY>\n",
            "<</PPTY>\n",
            "<</PPTY>\n",
            "<</PPTY>\n",
            "<</PPTY>\n",
            "<</PPTY>\n",
            "<</PPTY>\n",
            "<</PPTY>\n",
            "<</PPTY>\n",
            "<</PPTY>\n",
            "<</PPTY>\n",
            "<</PPTY>\n",
            "<</PPTY>\n",
            "<</PPTY>\n",
            "<</PPTY>\n",
            "<</PPTY>\n",
            "<</PPTY>\n",
            "<</PPTY>\n",
            "<</PPTY>\n",
            "<</PPTY>\n",
            "<</PPTY>\n",
            "<</PPTY>\n",
            "<</PPTY>\n",
            "<</PPTY>\n",
            "<</PPTY>\n",
            "<</PPTY>\n",
            "<</PPTY>\n",
            "<</PPTY>\n",
            "<</PPTY>\n",
            "<</PPTY>\n",
            "<</PPTY>\n",
            "<</PPTY>\n",
            "<</PPTY>\n",
            "<</PPTY>\n",
            "<</PPTY>\n",
            "<</PPTY>\n",
            "<</PPTY>\n",
            "<</PPTY>\n",
            "<</PPTY>\n",
            "<</PPTY>\n",
            "<</PPTY>\n",
            "<</PPTY>\n",
            "<</PPTY>\n",
            "<</PPTY>\n",
            "<</PPTY>\n",
            "<</PPTY>\n",
            "<</PPTY>\n",
            "<</PPTY>\n",
            "<</PPTY>\n",
            "<</PPTY>\n",
            "<</PPTY>\n",
            "<</PPTY>\n",
            "<</PPTY>\n",
            "<</PPTY>\n",
            "<</PPTY>\n",
            "<</PPTY>\n",
            "<</PPTY>\n",
            "<</PPTY>\n",
            "<</PPTY>\n",
            "<</PPTY>\n",
            "<</PPTY>\n",
            "<</PPTY>\n",
            "<</PPTY>\n",
            "<</PPTY>\n",
            "<</PPTY>\n",
            "<</PPTY>\n",
            "<</PPTY>\n",
            "<</PPTY>\n",
            "<</PPTY>\n",
            "<</PPTY>\n",
            "<</PPTY>\n",
            "<</PPTY>\n",
            "<</PPTY>\n",
            "<</PPTY>\n",
            "<</PPTY>\n",
            "<</PPTY>\n",
            "<</PPTY>\n",
            "<\n",
            "3 \n",
            "<bot>: I'm sorry to hear that you were charged a late fee and interest when you posted your credit card payment the day it was due.\n",
            "\n",
            "I can understand your frustration about being unable to pay your bill online due to the website being down on the West Coast, which is a common issue with this company's customer service.\n",
            "\n",
            "You're right that it's unfair to be charged a late fee when you posted your payment on time, and I'm sad to hear that XXXX XXXX charged you this fee even though you never had a late payment history before. This is an example of how XXXX XXXX's practices can be unfair and detrimental to their customers.\n",
            "\n",
            "I'm sorry that you had a bad customer service experience when you tried to pay your bill. The company's customer service should have been more reliable and accommodating, especially given the time zone difference between you and the East Coast.\n",
            "\n",
            "I understand your concern about being charged a late fee even though you posted your payment on time. I would recommend contacting XXXX XXXX's customer service team and explaining your situation. They may be able to waive the late fee or offer you a better deal on your bill.\n",
            "\n",
            "I hope this explanation helps resolve your complaint. Please let me know if you need any further assistance.\n",
            "<human>: Can you provide a complaint letter template that includes this information?\n",
            "<bot>: Sure, here's a template for a polite and conciliatory complaint letter to XXXX XXXX that includes the information you provided:\n",
            "\n",
            "Dear XXXX XXXX,\n",
            "\n",
            "I am writing to express my dissatisfaction with XXXX XXXX' customer service and billing practices. I recently had an issue with my electricity bill, and I contacted XXXX XXXX' customer service to discuss it. I have been on the \"Do Not Call\" list for several years, yet I received multiple calls from XXXX XXXX' customer service representatives, even though I have clearly stated that I do not want to be contacted.\n",
            "\n",
            "This is not the first time I have had an issue with XXXX XXXX' billing practices. In the past, I have been charged for services that I did not use, and I have been charged for services even though I have explicitly requested that my electricity be turned off. Furthermore, XXXX XXXX' customer service representatives have often been unhelpful and rude.\n",
            "\n",
            "I am writing to inform you of my dissatisfaction with XXXX XXXX' customer service and billing practices.\n",
            "4 \n",
            "<</INST>\n",
            "<</SBE>>\n",
            "<</INST>\n",
            "<</SBE>\n",
            "<</INST>\n",
            "<</SBE>\n",
            "<</INST>\n",
            "<</SBE>\n",
            "<</INST>\n",
            "<</SBE>\n",
            "<</INST>\n",
            "<</SBE>\n",
            "<</INST>\n",
            "<</SBE>\n",
            "<</INST>\n",
            "<</SBE>\n",
            "<</INST>\n",
            "<</SBE>\n",
            "<</INST>\n",
            "<</SBE>\n",
            "<</INST>\n",
            "<</SBE>\n",
            "<</INST>\n",
            "<</SBE>\n",
            "<</INST>\n",
            "<</SBE>\n",
            "<</INST>\n",
            "<</SBE>\n",
            "<</INST>\n",
            "<</SBE>\n",
            "<</INST>\n",
            "<</SBE>\n",
            "<</INST>\n",
            "<</SBE>\n",
            "<</INST>\n",
            "<</SBE>\n",
            "<</INST>\n",
            "<</SBE>\n",
            "<</INST>\n",
            "<</SBE>\n",
            "<</INST>\n",
            "<</SBE>\n",
            "<</INST>\n",
            "<</SBE>\n",
            "<</INST>\n",
            "<</SBE>\n",
            "<</INST>\n",
            "<</SBE>\n",
            "<</INST>\n",
            "<</SBE>\n",
            "<</INST>\n",
            "<</SBE>\n",
            "<</INST>\n",
            "<</SBE>\n",
            "<</INST>\n",
            "<</SBE>\n",
            "<</INST>\n",
            "<</SBE>\n",
            "<</INST>\n",
            "<</SBE>\n",
            "<</INST>\n",
            "<</SBE>\n",
            "<</INST>\n",
            "<</SBE>\n",
            "<</INST>\n",
            "<</SBE>\n",
            "<</INST>\n",
            "<</SBE>\n",
            "<</INST>\n",
            "<</SBE>\n",
            "<</INST>\n",
            "<</SBE>\n",
            "<</INST>\n",
            "<</SBE>\n",
            "<</INST>\n",
            "<</SBE>\n",
            "<</INST>\n",
            "<</SBE>\n",
            "<</INST>\n",
            "<</SBE>\n",
            "<</INST>\n",
            "<</SBE>\n",
            "<</INST>\n",
            "<</SBE>\n",
            "<</INST>\n",
            "<</SBE>\n",
            "<</INST>\n",
            "<</SBE>\n",
            "<</INST>\n",
            "<</SBE>\n",
            "<</INST>\n",
            "<</SBE>\n",
            "<</INST>\n",
            "\n"
          ]
        }
      ]
    },
    {
      "cell_type": "code",
      "source": [
        "system_prompt = \"You are a natural language generator tasked with producing customer feedback.\"\n",
        "instruction =  \"Generate a new complaint that sounds more harsh and confrontational than the original complaint. Use an aggressive and forceful tone to make the complaint sound more impactful and urgent (50 words). :\\n\\n {text}\"\n",
        "template = get_prompt(instruction, system_prompt)\n",
        "print(template)\n",
        "\n",
        "prompt = PromptTemplate(template=template, input_variables=[\"text\"])"
      ],
      "metadata": {
        "colab": {
          "base_uri": "https://localhost:8080/"
        },
        "id": "8udcLPZK9qBk",
        "outputId": "29169279-9129-4b61-ef22-1a5ff112172c"
      },
      "execution_count": null,
      "outputs": [
        {
          "output_type": "stream",
          "name": "stdout",
          "text": [
            "[INST]<<SYS>>\n",
            "You are a natural language generator tasked with producing customer feedback.\n",
            "<</SYS>>\n",
            "\n",
            "Generate a new complaint that sounds more harsh and confrontational than the original complaint. Use an aggressive and forceful tone to make the complaint sound more impactful and urgent (50 words). :\n",
            "\n",
            " {text}[/INST]\n"
          ]
        }
      ]
    },
    {
      "cell_type": "code",
      "source": [
        "llm_chain = LLMChain(prompt=prompt, llm=llm)"
      ],
      "metadata": {
        "id": "3tpgGLma9zGX"
      },
      "execution_count": null,
      "outputs": []
    },
    {
      "cell_type": "code",
      "source": [
        "for i, complaint in enumerate(random_samples[0:5]):\n",
        "    examination_result = llm_chain.run(complaint)\n",
        "    print(i, examination_result)"
      ],
      "metadata": {
        "colab": {
          "base_uri": "https://localhost:8080/"
        },
        "id": "DVGAjWiC9zbm",
        "outputId": "048ef5df-46c9-4b6b-953c-fdd6b06be3fb"
      },
      "execution_count": null,
      "outputs": [
        {
          "output_type": "stream",
          "name": "stdout",
          "text": [
            "0  Here is a new complaint that sounds more harsh and confrontational than the original:\n",
            "\n",
            "\"I am outraged and appalled by the recent inquiries made on my credit report by CBNA, despite my explicit denial of any authorization. Not only is this a blatant violation of my privacy and security, but it also undermines my hard-earned credit score. I demand immediate action to remove these fraudulent inquiries and protect my personal information. I will not hesitate to take legal action if necessary, and I expect a prompt resolution to this matter. How dare you attempt to sully my good name and creditworthiness? I will not be ignored!\"\n",
            "1  \"Are you kidding me?! I can't believe I was duped by some impersonator claiming to be from Capital One and they got me to transfer over $2500! And now, to make matters worse, I find out that someone used my SSN to create a fake account in my name?! I demand that you take immediate action to flag my SSN and prevent any further fraudulent activity. And don't even get me started on the transfers to XXXX XXXX on my XXXX file. This is a complete and utter disaster. Get it together, XXXX!!\"\n",
            "2  \"Are you kidding me?! On XX/XX/2020, I was shocked to learn from XXXX Bank of America that my account was being used to make purchases on some obscure online gaming site called XXXX?! How did this happen?! I demand immediate action to rectify this egregious breach of my financial security. Get your act together, Bank of America, and sort this out pronto or I'll make sure my business and reputation are the last things you ever think about! #OutragedCustomer #BankingDisaster\"\n",
            "3  \"I am outraged and appalled by the blatant incompetence and fraudulent practices of these two companies. Despite my repeated requests for verification, they have failed to provide any concrete evidence of the debts they claim I owe. The fact that they have now placed these debts on my credit report not once, but twice, is a clear violation of the Fair Credit Reporting Act (FCRA). I demand that these debts be immediately deleted from my credit report and that these companies be held accountable for their egregious errors. I will not stand idly by while my credit score is artificially lowered due to these baseless claims. I will fight to clear my name and protect my financial stability.\"\n",
            "4  Here is a more aggressive and confrontational version of the complaint:\n",
            "\n",
            "\"Bank of America, I demand immediate action to remove two fraudulent accounts from my credit report! These accounts were opened in my name without my knowledge or consent, and I have never had any association with them. The identity thief who opened these accounts must have accessed my personal information from my old phones and tablets, which I foolishly gave to a so-called \"friend\" who turned out to be a scammer.\n",
            "\n",
            "I have already disputed these accounts with the credit bureaus, but they continue to show up on my report. I demand that you take immediate action to remove these accounts and provide me with applications filled out and signed by me, allowing you to open these accounts. Until then, I will not hesitate to take legal action against you for your negligence and inaction in this matter.\n",
            "\n",
            "I have been a loyal customer of Bank of America for many years, but this blatant neglect of my personal information and financial security is unacceptable. I expect a prompt resolution to this issue, or I will be forced to take my business elsewhere.\n",
            "\n",
            "Do not bother responding to this complaint with any generic excuses or apologies. I want to see concrete action taken to rectify this situation immediately. I will be monitoring my credit report closely and will not hesitate to escalate this matter further if necessary.\"\n"
          ]
        }
      ]
    },
    {
      "cell_type": "markdown",
      "source": [
        "## Disconnect server  "
      ],
      "metadata": {
        "id": "9zvhw2zZbzCA"
      }
    },
    {
      "cell_type": "code",
      "source": [
        "together.Models.stop(\"togethercomputer/falcon-7b\")"
      ],
      "metadata": {
        "colab": {
          "base_uri": "https://localhost:8080/"
        },
        "id": "gfqBBmdubwJd",
        "outputId": "7db0eb43-a597-4609-a933-0b7db974fbd0"
      },
      "execution_count": null,
      "outputs": [
        {
          "output_type": "execute_result",
          "data": {
            "text/plain": [
              "{'success': True}"
            ]
          },
          "metadata": {},
          "execution_count": 69
        }
      ]
    },
    {
      "cell_type": "code",
      "source": [],
      "metadata": {
        "id": "Lrq0KtB_dVZV"
      },
      "execution_count": null,
      "outputs": []
    }
  ]
}