{
  "nbformat": 4,
  "nbformat_minor": 0,
  "metadata": {
    "colab": {
      "provenance": [],
      "gpuType": "T4"
    },
    "kernelspec": {
      "name": "python3",
      "display_name": "Python 3"
    },
    "language_info": {
      "name": "python"
    },
    "accelerator": "GPU"
  },
  "cells": [
    {
      "cell_type": "markdown",
      "source": [
        "## Basic setting"
      ],
      "metadata": {
        "id": "0Wa4EdZeT6wD"
      }
    },
    {
      "cell_type": "code",
      "execution_count": null,
      "metadata": {
        "id": "p__S9a7MTJpq"
      },
      "outputs": [],
      "source": [
        "import pandas as pd\n",
        "import numpy as np\n",
        "import matplotlib.pyplot as plt\n",
        "import seaborn as sns\n",
        "from google.colab import drive"
      ]
    },
    {
      "cell_type": "code",
      "source": [
        "%%time\n",
        "#Everyone needs to save the dataset in their own drive.\n",
        "drive.mount(\"/content/gdrive/\")"
      ],
      "metadata": {
        "id": "htV-38M7Tocr",
        "colab": {
          "base_uri": "https://localhost:8080/"
        },
        "outputId": "bc712020-c47a-4dad-937f-21b005a13639"
      },
      "execution_count": null,
      "outputs": [
        {
          "output_type": "stream",
          "name": "stdout",
          "text": [
            "Mounted at /content/gdrive/\n",
            "CPU times: user 750 ms, sys: 185 ms, total: 935 ms\n",
            "Wall time: 18.5 s\n"
          ]
        }
      ]
    },
    {
      "cell_type": "code",
      "source": [
        "%%time\n",
        "complaints = pd.read_csv('/content/gdrive/MyDrive/sampled_complaints.csv')"
      ],
      "metadata": {
        "id": "bAddqHQtTsbO",
        "colab": {
          "base_uri": "https://localhost:8080/"
        },
        "outputId": "649bf8f3-a2e3-44f3-dea5-932c75d6eb63"
      },
      "execution_count": null,
      "outputs": [
        {
          "output_type": "stream",
          "name": "stdout",
          "text": [
            "CPU times: user 6.38 ms, sys: 3.29 ms, total: 9.67 ms\n",
            "Wall time: 474 ms\n"
          ]
        }
      ]
    },
    {
      "cell_type": "code",
      "source": [
        "random_samples = complaints['Consumer complaint narrative'].tolist()"
      ],
      "metadata": {
        "id": "0bFbeoXIzeFw"
      },
      "execution_count": null,
      "outputs": []
    },
    {
      "cell_type": "code",
      "source": [
        "random_samples[:5]"
      ],
      "metadata": {
        "colab": {
          "base_uri": "https://localhost:8080/"
        },
        "id": "9_GT9rKqz4iy",
        "outputId": "3a0edfd1-e69f-4873-f87a-dd74cbbbb943"
      },
      "execution_count": null,
      "outputs": [
        {
          "output_type": "execute_result",
          "data": {
            "text/plain": [
              "[\"I have two recent inquires one from XX/XX/2021 and one from XX/XX/2021 from a place called CBNA. This was not done nor authorized by me. When I XXXX  this place, its states this place is in New York, I'm in XXXX XXXX, there's nothing this company can do for me. Also, when I called XXXX when I noticed the first inquiry they said this was a credit card inquiry. I have a bank as well as a bank card, if I wanted a credit card I would just go through my bank, I wouldn't even go through the trouble of going somewhere else, let alone applying twice within 2 weeks of the first time. That's just nonsense. A few years ago I filed a police report for identity thief and if needed I can do it again for this. I have been working really hard on my credit and the last thing I need is false / fraudulent information on my report. I would've contacted CBNA but honestly I don't even know where to start, or what to say. What do you say to a company you've never spoke too? However, I will do what needs to be done to get this removed.\",\n",
              " 'Impersonators contacted me claiming to be Capital One then got me to transfer money. I lost over {$2500.00}. \\nToday I called XXXX to see about starting an account and was told I already had an active account. Someone used my SSN to create it. I got that cancelled and asked XXXX to flag it so they can not re-open it. \\nMy old gmail, old phone number and SSN are on the dark web, I am told. I changed to a new phone number yesterday and I am deleting my gmail account. \\nThe transfers to XXXX XXXX on my XXXX file are the fraudulent transfers.',\n",
              " 'on XX/XX/2020 i was informed by XXXX Bank of america that my account was makin purchases in an online gaming cite called XXXX',\n",
              " 'So I am receiving a 2 letters from 2 different companies that I Owe a debt, that are now placed on my credit report TWICE. So I requested both companies to send me Verification with some type of signature which they BOTH failed to do. One company sent me a letter saying the debt was sold to them, the other one saying they are placing a judgment against me, garnishing wages from a place i am not even employed at,. Over all this is bringing my credit score down which is hindering my progress and financial stability. No proof of any debt WITH a signature was sent to me so I wouldnt even know who to pay or whos fraudulent. Im not admitting to the debt, Im seeing if any is valid, and if its not, then it should be deleted according The the FCRA!',\n",
              " \"There are two Bank of America Accounts that appeared on all 4 credit bureaus in mid to late XXXX. I only have partial account numbers provided by all four credit reporting agencies as these accounts were not opened by me. \\n\\nI noticed them after ordering my free annual credit reports and started disputes to all the bureaus, however, I was not able to get all documentation to them in a timely manner as I had to be treated for XXXX XXXX. Bank of America continues to reinsert these two accounts that were opened in my name on line by people impersonating me. These two accounts look to be accounts that were opened online after I gave XXXX XXXX who I worked with and was a friend of the family and had been in and out of my house on a regular basis and whom I had given three used phones and a tablet along with other used items in XXXX not knowing we he actually lived in XXXX, XXXX XXXX XXXX on the XXXX XXXX and was in the US on a work permit. \\n\\nOne account says it was opened in XXXX yet I had no accounts accept a checking account which he was closed in XX/XX/XXXX in XXXX, Texas due to my purse being stole and all my personal information being stolen. If this is a typo it is still not my account and was opened by an XXXX scammer. details below. XXXX, XXXX, XXXX and XXXX partial account number XXXX and BOA partial account number XXXX. \\n\\nThe only accounts I have ever had with Bank of America are a checking accounts. One that was closed and a new account opened in XX/XX/XXXX in XXXX, Texas after my purse was stolen and all my ID stolen including my phone and about XX/XX/XXXX checks which were used in the XXXX XXXX area. I provided a police to BOA and all credit Bureaus at that time due to fraud and Identity theft.. I had a mortgage with Countrywide opend in XX/XX/XXXX mortgage which transfered to Bank of America when they bought out Countrywide. Bank of America sold that mortgage in a bundle of mortgages in roughly XXXX and closed that account out. I had a money market account which was closed and the money used to open an investment account with Merrill Lynch owned by BOA which I closed out and transfered in early XX/XX/XXXX. I closed out my checking account in XXXX because BOA was never able to stop all the fraud/identity theft on my checking accounts and consistently shutting down my debit card without notifying me and sending a new card because of fraudulent activity by other people who had stolen and used to be card number. There was always money missing from my account and BOA could not tell me why. \\n\\nOn XX/XX/XXXX I once again disputed these two accounts as being identity theft and provided a XXXX County Sheriff 's Department Police report ( attached ) regarding a harassment/scam incident I had been in experiencing with a the XXXX XXXX man who I met and worked with beginning XXXX, XXXX and until I resigned in XX/XX/XXXX. I did not know at the time he was only here on a work permit and travels back and forth from XXXX go the US collecting used items to take back and sell. He misleads people when he is here and tell them the used items are for the needy in XXXX. I found out in XXXX per the first attached Sheriff 's Report which is Harassment and where he and his family were trying to scam me out of money. Each and every time I told them NO the harassment would escalate until there was Sheriff at my door in XX/XX/XXXX the date of the first report. \\n\\nIn XX/XX/XXXX XXXX XXXX approached me at XXXX XXXX and requested used clothing and electronics ( i.e, used unlocked phones and tablets. I gave him clothes and other items and also a XXXX phone, an XXXX XXXX XXXX phone, an XXXX phone and a tablet. I don't remember the brand of the tablet, but they were all unlocked and reset to factory settings. I thought resetting the to factory settings would make them safe but was later advised it DOES NOT clear the memory and your personal information can still be obtained. I found later in a conversation with XXXX XXXX he shipped these things back to XXXX in XXXX in a container that contained cars, and other things but also included the used clothes and electronic items. Once he took these things back the phones memory were broken into and all my personal information was taken which included all banking information, including passwords, verbal passwords as well, all my email addresses, were taken, phone contacts, everything that I stored on my phone in my XXXX password directory. He had access to my XXXX account and set up 3 accounts in my name which I have since had taken down. I have reported him to the Department of Immigration and sent emails to XXXX XXXX as they were allowing him not only to work there but to solicit customers and employees for used items and especially electronics as being distributed as items for the needy but he was actually selling them. \\n\\nDuring the early to mid day on XX/XX/XXXX, I had two strange calls one to my home phone and one to my cell phone both were the same XXXX man asking questions. I didn't answer any questions, I just hung up. in the early evening I received emails from my home phone account provider that my password had been changed. I called to find out what was going on and to correct it yet someone changed it again. The same evening at about XXXX I received a call from BOA Fraud  Department who told me there was suspicious activity had been taking place on my account. XXXX XXXX had been put on my checking account and a spoof card had been bought using my checking account in the amount of XXXX. I was also advised that this same XXXX man or maybe a woman had called in impersonating me and spoke directly with BOA employees about my accounts a day or so earlier. \\n\\nAttached is a section of my most recent XXXX credit report which shows partial account numbers. This is all I have to identify these two accounts as I have never had an account number or a credit card. These accounts were either opened up in line or by phone by people impersonating me and using my personal information. \\n\\nXX/XX/XXXX I filed a dispute with all bureaus again only to be told I needed a different report and that BOA would not remove them. OF COURSE BANK OF AMERICA WOULD HAVE MY INFORMATION AS THEY HAVE SPOKEN DIRECTLY WITH THE PEOPLE WHO STOLE MY PERSONAL INFORMATION BY IMPERSONATING ME ONLINE OR BY PHONE USING INFORMATION TAKEN FROM THESE ELECTRIC DEVICES. \\n\\nOn XX/XX/XXXX, I again disputed these two accounts and sent all bureaus a new report ( attached ) Fraudulent Use of Identification and Impersonation as regarvi g these same XXXX  who impersonated me and who spoke directly to BOA when to hey called in to BOA number and spoke with ith BOAs personnel and opened up and used these accounts using my information obtained from these phones and tablets. As of this writing BOA has not responded to the disputes to all the bureaus. All bureaus have suggested that I file this complaint directly to you. \\n\\nI do not have complete account numbers only partial numbers from the credit reports as I have never had these cards/accounts. \\n\\nBOA needs to provide me with applications filled out and signed by me allowing BOA to open up these accounts/cards. Unless this can be provided BOA must remove these from all bureaus. Simply saying these accounts belong to me when others have all my personal information at their disposal and are using is not enough since BOA allowed these fraudulent accounts to opened up by people impersonating me online or over the phone without contacting me first before opening them yet this is what happened. It appears these accounts were dumped as soon as to hear people realized my checking account had been closed and moved and when I changed all my personal information including my XXXX account containing my personal information.\"]"
            ]
          },
          "metadata": {},
          "execution_count": 10
        }
      ]
    },
    {
      "cell_type": "markdown",
      "source": [
        "## ## LLaMA 2 on Together API"
      ],
      "metadata": {
        "id": "j3gPMSu0syKi"
      }
    },
    {
      "cell_type": "code",
      "source": [
        "!nvidia-smi"
      ],
      "metadata": {
        "colab": {
          "base_uri": "https://localhost:8080/"
        },
        "id": "AMBNhuuR4Kjk",
        "outputId": "7b3e8f60-21a5-41cd-fa2e-4575c01fc562"
      },
      "execution_count": null,
      "outputs": [
        {
          "output_type": "stream",
          "name": "stdout",
          "text": [
            "Thu Oct 19 02:42:20 2023       \n",
            "+-----------------------------------------------------------------------------+\n",
            "| NVIDIA-SMI 525.105.17   Driver Version: 525.105.17   CUDA Version: 12.0     |\n",
            "|-------------------------------+----------------------+----------------------+\n",
            "| GPU  Name        Persistence-M| Bus-Id        Disp.A | Volatile Uncorr. ECC |\n",
            "| Fan  Temp  Perf  Pwr:Usage/Cap|         Memory-Usage | GPU-Util  Compute M. |\n",
            "|                               |                      |               MIG M. |\n",
            "|===============================+======================+======================|\n",
            "|   0  Tesla T4            Off  | 00000000:00:04.0 Off |                    0 |\n",
            "| N/A   49C    P8     9W /  70W |      0MiB / 15360MiB |      0%      Default |\n",
            "|                               |                      |                  N/A |\n",
            "+-------------------------------+----------------------+----------------------+\n",
            "                                                                               \n",
            "+-----------------------------------------------------------------------------+\n",
            "| Processes:                                                                  |\n",
            "|  GPU   GI   CI        PID   Type   Process name                  GPU Memory |\n",
            "|        ID   ID                                                   Usage      |\n",
            "|=============================================================================|\n",
            "|  No running processes found                                                 |\n",
            "+-----------------------------------------------------------------------------+\n"
          ]
        }
      ]
    },
    {
      "cell_type": "code",
      "source": [
        "!pip -q install langchain huggingface_hub tiktoken\n",
        "!pip -q install --upgrade together"
      ],
      "metadata": {
        "colab": {
          "base_uri": "https://localhost:8080/"
        },
        "id": "xXZVuqd8srU2",
        "outputId": "4c8000ec-0f01-488b-88a1-12c6f11832ed"
      },
      "execution_count": null,
      "outputs": [
        {
          "output_type": "stream",
          "name": "stdout",
          "text": [
            "\u001b[2K     \u001b[90m━━━━━━━━━━━━━━━━━━━━━━━━━━━━━━━━━━━━━━━━\u001b[0m \u001b[32m1.9/1.9 MB\u001b[0m \u001b[31m13.5 MB/s\u001b[0m eta \u001b[36m0:00:00\u001b[0m\n",
            "\u001b[2K     \u001b[90m━━━━━━━━━━━━━━━━━━━━━━━━━━━━━━━━━━━━━━━━\u001b[0m \u001b[32m302.0/302.0 kB\u001b[0m \u001b[31m20.8 MB/s\u001b[0m eta \u001b[36m0:00:00\u001b[0m\n",
            "\u001b[2K     \u001b[90m━━━━━━━━━━━━━━━━━━━━━━━━━━━━━━━━━━━━━━━━\u001b[0m \u001b[32m2.0/2.0 MB\u001b[0m \u001b[31m32.9 MB/s\u001b[0m eta \u001b[36m0:00:00\u001b[0m\n",
            "\u001b[2K     \u001b[90m━━━━━━━━━━━━━━━━━━━━━━━━━━━━━━━━━━━━━━━━\u001b[0m \u001b[32m40.8/40.8 kB\u001b[0m \u001b[31m4.2 MB/s\u001b[0m eta \u001b[36m0:00:00\u001b[0m\n",
            "\u001b[2K     \u001b[90m━━━━━━━━━━━━━━━━━━━━━━━━━━━━━━━━━━━━━━━━\u001b[0m \u001b[32m49.4/49.4 kB\u001b[0m \u001b[31m5.5 MB/s\u001b[0m eta \u001b[36m0:00:00\u001b[0m\n",
            "\u001b[?25h\u001b[31mERROR: pip's dependency resolver does not currently take into account all the packages that are installed. This behaviour is the source of the following dependency conflicts.\n",
            "llmx 0.0.15a0 requires cohere, which is not installed.\n",
            "llmx 0.0.15a0 requires openai, which is not installed.\u001b[0m\u001b[31m\n",
            "\u001b[2K     \u001b[90m━━━━━━━━━━━━━━━━━━━━━━━━━━━━━━━━━━━━━━━━\u001b[0m \u001b[32m41.8/41.8 kB\u001b[0m \u001b[31m1.4 MB/s\u001b[0m eta \u001b[36m0:00:00\u001b[0m\n",
            "\u001b[?25h"
          ]
        }
      ]
    },
    {
      "cell_type": "code",
      "source": [
        "import os\n",
        "\n",
        "os.environ[\"TOGETHER_API_KEY\"] = \"**\"\n"
      ],
      "metadata": {
        "id": "CXaRFDNls5H1"
      },
      "execution_count": null,
      "outputs": []
    },
    {
      "cell_type": "code",
      "source": [
        "!pip show langchain"
      ],
      "metadata": {
        "colab": {
          "base_uri": "https://localhost:8080/"
        },
        "id": "LH1ExHgls7Q2",
        "outputId": "79aaa77d-0042-48fd-bbc3-c82fe24a4b30"
      },
      "execution_count": null,
      "outputs": [
        {
          "output_type": "stream",
          "name": "stdout",
          "text": [
            "Name: langchain\n",
            "Version: 0.0.317\n",
            "Summary: Building applications with LLMs through composability\n",
            "Home-page: https://github.com/langchain-ai/langchain\n",
            "Author: \n",
            "Author-email: \n",
            "License: MIT\n",
            "Location: /usr/local/lib/python3.10/dist-packages\n",
            "Requires: aiohttp, anyio, async-timeout, dataclasses-json, jsonpatch, langsmith, numpy, pydantic, PyYAML, requests, SQLAlchemy, tenacity\n",
            "Required-by: \n"
          ]
        }
      ]
    },
    {
      "cell_type": "markdown",
      "source": [
        "# Setting up Together API"
      ],
      "metadata": {
        "id": "JgcsRffNSM_t"
      }
    },
    {
      "cell_type": "code",
      "source": [
        "import together\n",
        "\n",
        "# set your API key\n",
        "together.api_key = os.environ[\"TOGETHER_API_KEY\"]\n",
        "\n",
        "# list available models and descriptons\n",
        "models = together.Models.list()\n",
        "\n",
        "# print the first model's name\n",
        "print(models[3]['name']), print(models[52]['name'])"
      ],
      "metadata": {
        "colab": {
          "base_uri": "https://localhost:8080/"
        },
        "id": "9G9a55n3s-BP",
        "outputId": "5bda04cc-dc8c-404b-d7dd-c46c85711026"
      },
      "execution_count": null,
      "outputs": [
        {
          "output_type": "stream",
          "name": "stdout",
          "text": [
            "EleutherAI/pythia-2.8b-v0\n",
            "togethercomputer/LLaMA-2-7B-32K\n"
          ]
        },
        {
          "output_type": "execute_result",
          "data": {
            "text/plain": [
              "(None, None)"
            ]
          },
          "metadata": {},
          "execution_count": 20
        }
      ]
    },
    {
      "cell_type": "code",
      "source": [
        "for idx, model in enumerate(models):\n",
        "    print(idx, model['name'])"
      ],
      "metadata": {
        "colab": {
          "base_uri": "https://localhost:8080/"
        },
        "id": "-nxlvlcUSfW7",
        "outputId": "2cc9440d-9509-4dff-d97a-ef952a5f8803"
      },
      "execution_count": null,
      "outputs": [
        {
          "output_type": "stream",
          "name": "stdout",
          "text": [
            "0 Austism/chronos-hermes-13b\n",
            "1 EleutherAI/pythia-12b-v0\n",
            "2 EleutherAI/pythia-1b-v0\n",
            "3 EleutherAI/pythia-2.8b-v0\n",
            "4 EleutherAI/pythia-6.9b\n",
            "5 Gryphe/MythoMax-L2-13b\n",
            "6 HuggingFaceH4/starchat-alpha\n",
            "7 NousResearch/Nous-Hermes-13b\n",
            "8 NousResearch/Nous-Hermes-Llama2-13b\n",
            "9 NumbersStation/nsql-llama-2-7B\n",
            "10 OpenAssistant/llama2-70b-oasst-sft-v10\n",
            "11 OpenAssistant/oasst-sft-4-pythia-12b-epoch-3.5\n",
            "12 OpenAssistant/stablelm-7b-sft-v7-epoch-3\n",
            "13 Phind/Phind-CodeLlama-34B-Python-v1\n",
            "14 Phind/Phind-CodeLlama-34B-v2\n",
            "15 SG161222/Realistic_Vision_V3.0_VAE\n",
            "16 WizardLM/WizardCoder-15B-V1.0\n",
            "17 WizardLM/WizardCoder-Python-34B-V1.0\n",
            "18 WizardLM/WizardLM-70B-V1.0\n",
            "19 bigcode/starcoder\n",
            "20 databricks/dolly-v2-12b\n",
            "21 databricks/dolly-v2-3b\n",
            "22 databricks/dolly-v2-7b\n",
            "23 defog/sqlcoder\n",
            "24 garage-bAInd/Platypus2-70B-instruct\n",
            "25 huggyllama/llama-13b\n",
            "26 huggyllama/llama-30b\n",
            "27 huggyllama/llama-65b\n",
            "28 huggyllama/llama-7b\n",
            "29 lmsys/fastchat-t5-3b-v1.0\n",
            "30 lmsys/vicuna-13b-v1.5-16k\n",
            "31 lmsys/vicuna-13b-v1.5\n",
            "32 lmsys/vicuna-7b-v1.5\n",
            "33 mistralai/Mistral-7B-Instruct-v0.1\n",
            "34 mistralai/Mistral-7B-v0.1\n",
            "35 prompthero/openjourney\n",
            "36 runwayml/stable-diffusion-v1-5\n",
            "37 stabilityai/stable-diffusion-2-1\n",
            "38 stabilityai/stable-diffusion-xl-base-1.0\n",
            "39 togethercomputer/CodeLlama-13b-Instruct\n",
            "40 togethercomputer/CodeLlama-13b-Python\n",
            "41 togethercomputer/CodeLlama-13b\n",
            "42 togethercomputer/CodeLlama-34b-Instruct\n",
            "43 togethercomputer/CodeLlama-34b-Python\n",
            "44 togethercomputer/CodeLlama-34b\n",
            "45 togethercomputer/CodeLlama-7b-Instruct\n",
            "46 togethercomputer/CodeLlama-7b-Python\n",
            "47 togethercomputer/CodeLlama-7b\n",
            "48 togethercomputer/GPT-JT-6B-v1\n",
            "49 togethercomputer/GPT-JT-Moderation-6B\n",
            "50 togethercomputer/GPT-NeoXT-Chat-Base-20B\n",
            "51 togethercomputer/Koala-13B\n",
            "52 togethercomputer/LLaMA-2-7B-32K\n",
            "53 togethercomputer/Llama-2-7B-32K-Instruct\n",
            "54 togethercomputer/Pythia-Chat-Base-7B-v0.16\n",
            "55 togethercomputer/Qwen-7B-Chat\n",
            "56 togethercomputer/Qwen-7B\n",
            "57 togethercomputer/RedPajama-INCITE-7B-Base\n",
            "58 togethercomputer/RedPajama-INCITE-7B-Chat\n",
            "59 togethercomputer/RedPajama-INCITE-7B-Instruct\n",
            "60 togethercomputer/RedPajama-INCITE-Base-3B-v1\n",
            "61 togethercomputer/RedPajama-INCITE-Chat-3B-v1\n",
            "62 togethercomputer/RedPajama-INCITE-Instruct-3B-v1\n",
            "63 togethercomputer/alpaca-7b\n",
            "64 togethercomputer/codegen2-16B\n",
            "65 togethercomputer/codegen2-7B\n",
            "66 togethercomputer/falcon-40b-instruct\n",
            "67 togethercomputer/falcon-40b\n",
            "68 togethercomputer/falcon-7b-instruct\n",
            "69 togethercomputer/falcon-7b\n",
            "70 togethercomputer/guanaco-13b\n",
            "71 togethercomputer/guanaco-33b\n",
            "72 togethercomputer/guanaco-65b\n",
            "73 togethercomputer/guanaco-7b\n",
            "74 togethercomputer/llama-2-13b-chat\n",
            "75 togethercomputer/llama-2-13b\n",
            "76 togethercomputer/llama-2-70b-chat\n",
            "77 togethercomputer/llama-2-70b\n",
            "78 togethercomputer/llama-2-7b-chat\n",
            "79 togethercomputer/llama-2-7b\n",
            "80 togethercomputer/mpt-30b-chat\n",
            "81 togethercomputer/mpt-30b-instruct\n",
            "82 togethercomputer/mpt-30b\n",
            "83 togethercomputer/mpt-7b-chat\n",
            "84 upstage/SOLAR-0-70b-16bit\n",
            "85 wavymulder/Analog-Diffusion\n"
          ]
        }
      ]
    },
    {
      "cell_type": "code",
      "source": [
        "together.Models.start(\"togethercomputer/llama-2-7b-chat\")"
      ],
      "metadata": {
        "colab": {
          "base_uri": "https://localhost:8080/"
        },
        "id": "Yn5DTdiuSleZ",
        "outputId": "dcb52e6e-d156-421c-d8c0-487a4f2f619a"
      },
      "execution_count": null,
      "outputs": [
        {
          "output_type": "execute_result",
          "data": {
            "text/plain": [
              "{'success': True,\n",
              " 'value': '2d862a059eaff6a6371b3510926cb0c6b04c6bcf6fce70f05966d552b06e3474-4189d07dc8279ecfd110a11e3917521815c26c3c0dcccf80fb6b5b7acde170aa'}"
            ]
          },
          "metadata": {},
          "execution_count": 24
        }
      ]
    },
    {
      "cell_type": "code",
      "source": [
        "import together\n",
        "\n",
        "import logging\n",
        "from typing import Any, Dict, List, Mapping, Optional\n",
        "\n",
        "from pydantic import Extra, Field, root_validator\n",
        "\n",
        "from langchain.callbacks.manager import CallbackManagerForLLMRun\n",
        "from langchain.llms.base import LLM\n",
        "from langchain.llms.utils import enforce_stop_tokens\n",
        "from langchain.utils import get_from_dict_or_env\n",
        "\n",
        "class TogetherLLM(LLM):\n",
        "    \"\"\"Together large language models.\"\"\"\n",
        "\n",
        "    model: str = \"togethercomputer/llama-2-7b-chat\"\n",
        "    \"\"\"model endpoint to use\"\"\"\n",
        "\n",
        "    together_api_key: str = os.environ[\"TOGETHER_API_KEY\"]\n",
        "    \"\"\"Together API key\"\"\"\n",
        "\n",
        "    temperature: float = 0.7\n",
        "    \"\"\"What sampling temperature to use.\"\"\"\n",
        "\n",
        "    max_tokens: int = 512\n",
        "    \"\"\"The maximum number of tokens to generate in the completion.\"\"\"\n",
        "\n",
        "    class Config:\n",
        "        extra = Extra.forbid\n",
        "\n",
        "    @root_validator()\n",
        "    def validate_environment(cls, values: Dict) -> Dict:\n",
        "        \"\"\"Validate that the API key is set.\"\"\"\n",
        "        api_key = get_from_dict_or_env(\n",
        "            values, \"together_api_key\", \"TOGETHER_API_KEY\"\n",
        "        )\n",
        "        values[\"together_api_key\"] = api_key\n",
        "        return values\n",
        "\n",
        "    @property\n",
        "    def _llm_type(self) -> str:\n",
        "        \"\"\"Return type of LLM.\"\"\"\n",
        "        return \"together\"\n",
        "\n",
        "    def _call(\n",
        "        self,\n",
        "        prompt: str,\n",
        "        **kwargs: Any,\n",
        "    ) -> str:\n",
        "        \"\"\"Call to Together endpoint.\"\"\"\n",
        "        together.api_key = self.together_api_key\n",
        "        output = together.Complete.create(prompt,\n",
        "                                          model=self.model,\n",
        "                                          max_tokens=self.max_tokens,\n",
        "                                          temperature=self.temperature,\n",
        "                                          )\n",
        "        text = output['output']['choices'][0]['text']\n",
        "        return text\n"
      ],
      "metadata": {
        "id": "f9Hq-pE0Tair"
      },
      "execution_count": null,
      "outputs": []
    },
    {
      "cell_type": "code",
      "source": [
        "from langchain import PromptTemplate,  LLMChain"
      ],
      "metadata": {
        "id": "WH-71f8FStpP"
      },
      "execution_count": null,
      "outputs": []
    },
    {
      "cell_type": "code",
      "source": [
        "llm = TogetherLLM(\n",
        "    model= \"togethercomputer/llama-2-7b-chat\",\n",
        "    temperature=0.1,\n",
        "    max_tokens=512\n",
        ")"
      ],
      "metadata": {
        "id": "7M76yNciSuqv"
      },
      "execution_count": null,
      "outputs": []
    },
    {
      "cell_type": "code",
      "source": [
        "llm('\"What is Llama 2 from Meta? ')"
      ],
      "metadata": {
        "colab": {
          "base_uri": "https://localhost:8080/",
          "height": 71
        },
        "id": "6_KbhIyIC-Bc",
        "outputId": "a0732a76-3f52-4306-b883-93e0ed2aae92"
      },
      "execution_count": null,
      "outputs": [
        {
          "output_type": "execute_result",
          "data": {
            "text/plain": [
              "'🐑💻\"\\n\\nLlama 2 is a new feature from Meta that allows users to create and manage their own custom avatars for use in Meta\\'s virtual reality (VR) and augmented reality (AR) experiences. With Llama 2, users can create their own unique avatars using a variety of customization options, including clothing, accessories, and animations.\\n\\nLlama 2 is part of Meta\\'s ongoing efforts to improve the user experience in its VR and AR platforms, and to give users more control over their virtual identities. The feature is currently available on Meta\\'s Quest headsets, and will be coming to other platforms in the future. 🚀'"
            ],
            "application/vnd.google.colaboratory.intrinsic+json": {
              "type": "string"
            }
          },
          "metadata": {},
          "execution_count": 28
        }
      ]
    },
    {
      "cell_type": "code",
      "source": [
        "import json\n",
        "import textwrap\n",
        "\n",
        "B_INST, E_INST = \"[INST]\", \"[/INST]\"\n",
        "B_SYS, E_SYS = \"<<SYS>>\\n\", \"\\n<</SYS>>\\n\\n\"\n",
        "DEFAULT_SYSTEM_PROMPT = \"\"\"\\\n",
        "You are a helpful, respectful and honest assistant. Always answer as helpfully as possible, while being safe. Your answers should not include any harmful, unethical, racist, sexist, toxic, dangerous, or illegal content. Please ensure that your responses are socially unbiased and positive in nature.\n",
        "\n",
        "If a question does not make any sense, or is not factually coherent, explain why instead of answering something not correct. If you don't know the answer to a question, please don't share false information.\"\"\"\n",
        "\n",
        "\n",
        "def get_prompt(instruction, new_system_prompt=DEFAULT_SYSTEM_PROMPT ):\n",
        "    SYSTEM_PROMPT = B_SYS + new_system_prompt + E_SYS\n",
        "    prompt_template =  B_INST + SYSTEM_PROMPT + instruction + E_INST\n",
        "    return prompt_template\n",
        "\n",
        "def cut_off_text(text, prompt):\n",
        "    cutoff_phrase = prompt\n",
        "    index = text.find(cutoff_phrase)\n",
        "    if index != -1:\n",
        "        return text[:index]\n",
        "    else:\n",
        "        return text\n",
        "\n",
        "def remove_substring(string, substring):\n",
        "    return string.replace(substring, \"\")\n",
        "\n",
        "\n",
        "def parse_text(text):\n",
        "        wrapped_text = textwrap.fill(text, width=100)\n",
        "        print(wrapped_text +'\\n\\n')\n",
        "        # return assistant_text"
      ],
      "metadata": {
        "id": "WaZCizBX17eG"
      },
      "execution_count": null,
      "outputs": []
    },
    {
      "cell_type": "markdown",
      "source": [
        "## Synthesize Complaints"
      ],
      "metadata": {
        "id": "iSLfsPQJesxL"
      }
    },
    {
      "cell_type": "markdown",
      "source": [
        "\n",
        "\n",
        "* The initial exploratory analysis identified three types of complaints:\n",
        " * Complaints that are generally well written - DESIRABLE\n",
        " * Complaints with very poor grammar and punctuation - PROBLEMATIC\n",
        " * Complaints with frivolous, unrelated information - PROBLEMATIC\n",
        "\n",
        "\n",
        "\n",
        "Based on this, we had this idea: Have we focus on just the invariance and robustness aspects related to these “problematic” complaints and focus on questions like “Can the right LLM with the right prompt ‘clean up’ these problematic complaints?” In other words, can an LLM correct the poor grammar and punctuation without changing the meaning (invariance) and can an LLM identify the frivolous content of a complaint (robustness)?\n",
        "\n",
        "\n",
        "\n"
      ],
      "metadata": {
        "id": "kQC9uOIkqf97"
      }
    },
    {
      "cell_type": "markdown",
      "source": [
        "Sample Complaints - Lets see how it looks like"
      ],
      "metadata": {
        "id": "sCgkBXNFwF55"
      }
    },
    {
      "cell_type": "code",
      "source": [
        "random_samples[:5]"
      ],
      "metadata": {
        "colab": {
          "base_uri": "https://localhost:8080/"
        },
        "id": "ZRZmq_T215B6",
        "outputId": "42da59df-2f10-4ca9-9423-f7ea33d48e50"
      },
      "execution_count": null,
      "outputs": [
        {
          "output_type": "execute_result",
          "data": {
            "text/plain": [
              "[\"I have two recent inquires one from XX/XX/2021 and one from XX/XX/2021 from a place called CBNA. This was not done nor authorized by me. When I XXXX  this place, its states this place is in New York, I'm in XXXX XXXX, there's nothing this company can do for me. Also, when I called XXXX when I noticed the first inquiry they said this was a credit card inquiry. I have a bank as well as a bank card, if I wanted a credit card I would just go through my bank, I wouldn't even go through the trouble of going somewhere else, let alone applying twice within 2 weeks of the first time. That's just nonsense. A few years ago I filed a police report for identity thief and if needed I can do it again for this. I have been working really hard on my credit and the last thing I need is false / fraudulent information on my report. I would've contacted CBNA but honestly I don't even know where to start, or what to say. What do you say to a company you've never spoke too? However, I will do what needs to be done to get this removed.\",\n",
              " 'Impersonators contacted me claiming to be Capital One then got me to transfer money. I lost over {$2500.00}. \\nToday I called XXXX to see about starting an account and was told I already had an active account. Someone used my SSN to create it. I got that cancelled and asked XXXX to flag it so they can not re-open it. \\nMy old gmail, old phone number and SSN are on the dark web, I am told. I changed to a new phone number yesterday and I am deleting my gmail account. \\nThe transfers to XXXX XXXX on my XXXX file are the fraudulent transfers.',\n",
              " 'on XX/XX/2020 i was informed by XXXX Bank of america that my account was makin purchases in an online gaming cite called XXXX',\n",
              " 'So I am receiving a 2 letters from 2 different companies that I Owe a debt, that are now placed on my credit report TWICE. So I requested both companies to send me Verification with some type of signature which they BOTH failed to do. One company sent me a letter saying the debt was sold to them, the other one saying they are placing a judgment against me, garnishing wages from a place i am not even employed at,. Over all this is bringing my credit score down which is hindering my progress and financial stability. No proof of any debt WITH a signature was sent to me so I wouldnt even know who to pay or whos fraudulent. Im not admitting to the debt, Im seeing if any is valid, and if its not, then it should be deleted according The the FCRA!',\n",
              " \"There are two Bank of America Accounts that appeared on all 4 credit bureaus in mid to late XXXX. I only have partial account numbers provided by all four credit reporting agencies as these accounts were not opened by me. \\n\\nI noticed them after ordering my free annual credit reports and started disputes to all the bureaus, however, I was not able to get all documentation to them in a timely manner as I had to be treated for XXXX XXXX. Bank of America continues to reinsert these two accounts that were opened in my name on line by people impersonating me. These two accounts look to be accounts that were opened online after I gave XXXX XXXX who I worked with and was a friend of the family and had been in and out of my house on a regular basis and whom I had given three used phones and a tablet along with other used items in XXXX not knowing we he actually lived in XXXX, XXXX XXXX XXXX on the XXXX XXXX and was in the US on a work permit. \\n\\nOne account says it was opened in XXXX yet I had no accounts accept a checking account which he was closed in XX/XX/XXXX in XXXX, Texas due to my purse being stole and all my personal information being stolen. If this is a typo it is still not my account and was opened by an XXXX scammer. details below. XXXX, XXXX, XXXX and XXXX partial account number XXXX and BOA partial account number XXXX. \\n\\nThe only accounts I have ever had with Bank of America are a checking accounts. One that was closed and a new account opened in XX/XX/XXXX in XXXX, Texas after my purse was stolen and all my ID stolen including my phone and about XX/XX/XXXX checks which were used in the XXXX XXXX area. I provided a police to BOA and all credit Bureaus at that time due to fraud and Identity theft.. I had a mortgage with Countrywide opend in XX/XX/XXXX mortgage which transfered to Bank of America when they bought out Countrywide. Bank of America sold that mortgage in a bundle of mortgages in roughly XXXX and closed that account out. I had a money market account which was closed and the money used to open an investment account with Merrill Lynch owned by BOA which I closed out and transfered in early XX/XX/XXXX. I closed out my checking account in XXXX because BOA was never able to stop all the fraud/identity theft on my checking accounts and consistently shutting down my debit card without notifying me and sending a new card because of fraudulent activity by other people who had stolen and used to be card number. There was always money missing from my account and BOA could not tell me why. \\n\\nOn XX/XX/XXXX I once again disputed these two accounts as being identity theft and provided a XXXX County Sheriff 's Department Police report ( attached ) regarding a harassment/scam incident I had been in experiencing with a the XXXX XXXX man who I met and worked with beginning XXXX, XXXX and until I resigned in XX/XX/XXXX. I did not know at the time he was only here on a work permit and travels back and forth from XXXX go the US collecting used items to take back and sell. He misleads people when he is here and tell them the used items are for the needy in XXXX. I found out in XXXX per the first attached Sheriff 's Report which is Harassment and where he and his family were trying to scam me out of money. Each and every time I told them NO the harassment would escalate until there was Sheriff at my door in XX/XX/XXXX the date of the first report. \\n\\nIn XX/XX/XXXX XXXX XXXX approached me at XXXX XXXX and requested used clothing and electronics ( i.e, used unlocked phones and tablets. I gave him clothes and other items and also a XXXX phone, an XXXX XXXX XXXX phone, an XXXX phone and a tablet. I don't remember the brand of the tablet, but they were all unlocked and reset to factory settings. I thought resetting the to factory settings would make them safe but was later advised it DOES NOT clear the memory and your personal information can still be obtained. I found later in a conversation with XXXX XXXX he shipped these things back to XXXX in XXXX in a container that contained cars, and other things but also included the used clothes and electronic items. Once he took these things back the phones memory were broken into and all my personal information was taken which included all banking information, including passwords, verbal passwords as well, all my email addresses, were taken, phone contacts, everything that I stored on my phone in my XXXX password directory. He had access to my XXXX account and set up 3 accounts in my name which I have since had taken down. I have reported him to the Department of Immigration and sent emails to XXXX XXXX as they were allowing him not only to work there but to solicit customers and employees for used items and especially electronics as being distributed as items for the needy but he was actually selling them. \\n\\nDuring the early to mid day on XX/XX/XXXX, I had two strange calls one to my home phone and one to my cell phone both were the same XXXX man asking questions. I didn't answer any questions, I just hung up. in the early evening I received emails from my home phone account provider that my password had been changed. I called to find out what was going on and to correct it yet someone changed it again. The same evening at about XXXX I received a call from BOA Fraud  Department who told me there was suspicious activity had been taking place on my account. XXXX XXXX had been put on my checking account and a spoof card had been bought using my checking account in the amount of XXXX. I was also advised that this same XXXX man or maybe a woman had called in impersonating me and spoke directly with BOA employees about my accounts a day or so earlier. \\n\\nAttached is a section of my most recent XXXX credit report which shows partial account numbers. This is all I have to identify these two accounts as I have never had an account number or a credit card. These accounts were either opened up in line or by phone by people impersonating me and using my personal information. \\n\\nXX/XX/XXXX I filed a dispute with all bureaus again only to be told I needed a different report and that BOA would not remove them. OF COURSE BANK OF AMERICA WOULD HAVE MY INFORMATION AS THEY HAVE SPOKEN DIRECTLY WITH THE PEOPLE WHO STOLE MY PERSONAL INFORMATION BY IMPERSONATING ME ONLINE OR BY PHONE USING INFORMATION TAKEN FROM THESE ELECTRIC DEVICES. \\n\\nOn XX/XX/XXXX, I again disputed these two accounts and sent all bureaus a new report ( attached ) Fraudulent Use of Identification and Impersonation as regarvi g these same XXXX  who impersonated me and who spoke directly to BOA when to hey called in to BOA number and spoke with ith BOAs personnel and opened up and used these accounts using my information obtained from these phones and tablets. As of this writing BOA has not responded to the disputes to all the bureaus. All bureaus have suggested that I file this complaint directly to you. \\n\\nI do not have complete account numbers only partial numbers from the credit reports as I have never had these cards/accounts. \\n\\nBOA needs to provide me with applications filled out and signed by me allowing BOA to open up these accounts/cards. Unless this can be provided BOA must remove these from all bureaus. Simply saying these accounts belong to me when others have all my personal information at their disposal and are using is not enough since BOA allowed these fraudulent accounts to opened up by people impersonating me online or over the phone without contacting me first before opening them yet this is what happened. It appears these accounts were dumped as soon as to hear people realized my checking account had been closed and moved and when I changed all my personal information including my XXXX account containing my personal information.\"]"
            ]
          },
          "metadata": {},
          "execution_count": 34
        }
      ]
    },
    {
      "cell_type": "markdown",
      "source": [
        "Prompt for Robustness Testing"
      ],
      "metadata": {
        "id": "nx9daAaWwTZA"
      }
    },
    {
      "cell_type": "code",
      "source": [
        "system_prompt = \"You are a quality control specialist tasked with identifying grammar errors in customer feedback.\"\n",
        "instruction = \"Evaluate the clarity and coherence of the writing in the following customer complaints :\\n\\n {text}\"\n",
        "template = get_prompt(instruction, system_prompt)\n",
        "print(template)\n",
        "\n",
        "prompt = PromptTemplate(template=template, input_variables=[\"text\"])"
      ],
      "metadata": {
        "colab": {
          "base_uri": "https://localhost:8080/"
        },
        "id": "YACeMA372D4T",
        "outputId": "38153f75-08a2-478e-eca1-c2ee0d66b94f"
      },
      "execution_count": null,
      "outputs": [
        {
          "output_type": "stream",
          "name": "stdout",
          "text": [
            "[INST]<<SYS>>\n",
            "You are a quality control specialist tasked with identifying grammar errors in customer feedback.\n",
            "<</SYS>>\n",
            "\n",
            "Evaluate the clarity and coherence of the writing in the following customer complaints :\n",
            "\n",
            " {text}[/INST]\n"
          ]
        }
      ]
    },
    {
      "cell_type": "code",
      "source": [
        "llm_chain = LLMChain(prompt=prompt, llm=llm)"
      ],
      "metadata": {
        "id": "4p6IHnAe2Jf_"
      },
      "execution_count": null,
      "outputs": []
    },
    {
      "cell_type": "code",
      "source": [
        "for i, complaint in enumerate(random_samples[0:5]):\n",
        "    examination_result = llm_chain.run(complaint)\n",
        "    print(i, examination_result)"
      ],
      "metadata": {
        "colab": {
          "base_uri": "https://localhost:8080/"
        },
        "id": "02wgP0NA2MpV",
        "outputId": "8fee591c-956d-4018-ba36-fc6c4523da64"
      },
      "execution_count": null,
      "outputs": [
        {
          "output_type": "stream",
          "name": "stdout",
          "text": [
            "0  As a quality control specialist, I have evaluated the clarity and coherence of the writing in the customer complaint provided. Here are my findings:\n",
            "\n",
            "1. Clarity: The writing is generally clear, but there are some areas where the meaning is not entirely clear. For example, in the first sentence, \"I have two recent inquiries\" could be rephrased as \"I have two recent inquiries that I am concerned about.\"\n",
            "2. Coherence: The writing is somewhat disjointed, with several ideas presented without much connection between them. For example, the customer jumps from discussing their concerns about two recent inquiries to mentioning their credit report and identity theft without much explanation or connection.\n",
            "3. Grammar and spelling: There are several grammar and spelling errors throughout the writing, including incorrect use of punctuation, misspellings, and incorrect verb tenses. For example, \"When I XXXX this place\" should be \"When I visited this place.\"\n",
            "4. Organization: The writing lacks a clear structure or organization, with ideas presented in a disjointed and random manner. It would be helpful to break the writing into clear paragraphs or sections to make it easier to follow.\n",
            "\n",
            "Overall, while the customer's concerns are valid, the writing could benefit from greater clarity, coherence, and organization. Here are some suggestions for improving the writing:\n",
            "\n",
            "1. Start each sentence with a clear topic sentence that states the main idea of the sentence.\n",
            "2. Use transitional phrases to connect ideas and create a more cohesive flow.\n",
            "3. Break the writing into clear paragraphs or sections to make it easier to follow.\n",
            "4. Review and edit the writing for grammar and spelling errors.\n",
            "5. Consider rephrasing sentences to make them clearer and more concise.\n",
            "\n",
            "By implementing these suggestions, the customer can improve the clarity and coherence of their writing and more effectively communicate their concerns to the company.\n",
            "1  As a quality control specialist, I have evaluated the clarity and coherence of the writing in the customer complaints provided. Here are my findings:\n",
            "\n",
            "1. Impersonators contacted me claiming to be Capital One then got me to transfer money. I lost over {$2500.00}.\n",
            "\n",
            "Clarity: 7/10\n",
            "Coherence: 8/10\n",
            "\n",
            "The customer clearly states their issue, but the sentence structure is a bit complex. The use of \"then\" and \"got\" could be simplified for better clarity. Additionally, the amount lost is not explicitly stated until the end of the sentence, which could make it harder for the reader to understand the issue at first glance.\n",
            "\n",
            "2. Today I called XXXX to see about starting an account and was told I already had an active account. Someone used my SSN to create it. I got that cancelled and asked XXXX to flag it so they can not re-open it.\n",
            "\n",
            "Clarity: 8/10\n",
            "Coherence: 9/10\n",
            "\n",
            "The customer's issue is clearly stated, and the sentence structure is generally straightforward. However, the use of \"Someone used my SSN to create it\" could be simplified for better clarity. Additionally, the customer's request to flag the account and prevent re-opening is not explicitly stated until the end of the sentence.\n",
            "\n",
            "3. My old gmail, old phone number and SSN are on the dark web, I am told. I changed to a new phone number yesterday and I am deleting my gmail account.\n",
            "\n",
            "Clarity: 6/10\n",
            "Coherence: 7/10\n",
            "\n",
            "The customer's issue is somewhat clear, but the sentence structure is a bit confusing. The use of \"old gmail\" and \"old phone number\" could be simplified for better clarity. Additionally, the customer's request to delete their gmail account is not explicitly stated until the end of the sentence.\n",
            "\n",
            "4. The transfers to XXXX XXXX on my XXXX file are the fraudulent transfers.\n",
            "\n",
            "Clarity: 9/10\n",
            "Coherence: 8/10\n",
            "\n",
            "The customer's issue is clearly stated, and the sentence structure is generally straightforward. However, the use of \"XXXX\n",
            "2  As a quality control specialist, I would evaluate the clarity and coherence of the writing in the customer complaint as follows:\n",
            "\n",
            "\"On XX/XX/2020, I was informed by XXXX Bank of America that my account was making purchases in an online gaming site called XXXX.\"\n",
            "\n",
            "Clarity: 3/5\n",
            "The sentence is somewhat clear, but there are a few areas where the meaning is not entirely clear. For example, the use of \"makin\" instead of \"making\" is a spelling error that can make the sentence difficult to understand. Additionally, the phrase \"online gaming site called XXXX\" is a bit vague and could benefit from more specific information.\n",
            "\n",
            "Coherence: 3/5\n",
            "The sentence is somewhat coherent, but there are a few issues with the flow of the sentence. For example, the transition from \"I was informed\" to \"my account was making purchases\" is a bit abrupt and could be smoother. Additionally, the sentence could benefit from more context to help the reader understand the situation better.\n",
            "\n",
            "Overall, the clarity and coherence of the writing in this customer complaint are only moderate. To improve the clarity, the customer could proofread the sentence carefully to catch any spelling or grammar errors, and provide more specific information about the online gaming site. To improve the coherence, the customer could provide more context and use a smoother transition to connect the two clauses in the sentence.\n",
            "3  As a quality control specialist, I have evaluated the clarity and coherence of the writing in the customer complaint provided. Here are my findings:\n",
            "\n",
            "1. Clarity: The writing is generally clear and easy to understand. The customer clearly states their issue and provides specific details about the letters they received from the two companies.\n",
            "2. Coherence: The writing is well-organized and easy to follow. The customer logically presents their argument, starting with the issue they are facing, providing evidence of the problem, and ending with their request for resolution.\n",
            "3. Grammar and spelling: There are a few grammar and spelling errors throughout the complaint, but they do not significantly impact the overall clarity or coherence of the writing. For example, \"So I am receiving a 2 letters\" should be \"So I am receiving two letters,\" and \"Im not admitting to the debt\" should be \"I'm not admitting to the debt.\"\n",
            "4. Sentence structure: The writing uses a mix of simple and compound sentences, which helps to create a clear and concise narrative. However, some of the sentences could be improved by breaking them up into smaller, more manageable chunks. For example, the sentence \"One company sent me a letter saying the debt was sold to them, the other one saying they are placing a judgment against me, garnishing wages from a place i am not even employed at,\" could be broken up into two or three shorter sentences for easier comprehension.\n",
            "5. Tone: The tone of the writing is generally professional and assertive. The customer is clearly frustrated with the situation, but they present their argument in a calm and rational manner.\n",
            "\n",
            "Overall, the writing is clear and coherent, with a few minor errors that do not significantly impact the overall meaning. The customer presents their argument in a professional and assertive tone, which is important for effectively communicating their concerns and requesting resolution.\n",
            "4  The writing in the customer complaints is generally clear and coherent, but there are some areas where the grammar and syntax could be improved. Here are some specific observations:\n",
            "\n",
            "1. In the first sentence, \"There are two Bank of America Accounts that appeared on all 4 credit bureaus in mid to late XXXX.\" could be rephrased as \"Two Bank of America accounts appeared on all four credit bureaus in mid to late XXXX.\"\n",
            "2. In the second sentence, \"I noticed them after ordering my free annual credit reports and started disputes to all the bureaus, however, I was not able to get all documentation to them in a timely manner as I had to be treated for XXXX XXXX.\" could be rephrased as \"I discovered the accounts after ordering my free annual credit reports and started disputing them with the credit bureaus, but I was unable to provide all the necessary documentation in a timely manner due to my illness.\"\n",
            "3. In the third sentence, \"Bank of America continues to reinsert these two accounts that were opened in my name on line by people impersonating me.\" could be rephrased as \"Bank of America continues to reinsert the two accounts that were fraudulently opened in my name online.\"\n",
            "4. In the fourth sentence, \"One account says it was opened in XXXX yet I had no accounts accept a checking account which he was closed in XX/XX/XXXX in XXXX, Texas due to my purse being stole and all my personal information being stolen.\" could be rephrased as \"One of the accounts claims to have been opened in XXXX, but I have no record of any accounts other than a checking account that was closed in XX/XX/XXXX in XXXX, Texas after my purse was stolen and all my personal information was stolen.\"\n",
            "5. In the fifth sentence, \"The only accounts I have ever had with Bank of America are a checking accounts. One that was closed and a new account opened in XX/XX/XXXX in XXXX, Texas after my purse was stolen and all my personal information was stolen.\" could be rephrased as \"The only Bank of America accounts I have ever had are a checking account that was closed and a new account opened in XX/XX/XXXX in XXXX, Texas after my purse was stolen and all my personal information was stolen.\"\n"
          ]
        }
      ]
    },
    {
      "cell_type": "markdown",
      "source": [
        "As we can see some complaints have issues related to grammar. Let's see if LLM can change complaints look better."
      ],
      "metadata": {
        "id": "Fb7uxJ9brMaq"
      }
    },
    {
      "cell_type": "markdown",
      "source": [
        "Prompt for Equal Complaint Synthesis (MFT)"
      ],
      "metadata": {
        "id": "mepAmQm7nL8h"
      }
    },
    {
      "cell_type": "code",
      "source": [
        "system_prompt = \"You are a natural language generator tasked with producing customer feedback.\"\n",
        "instruction = \"Generate a customer complaint that is grammatically correct and equivalent in meaning to the given text, using a different wording and in 50 words or less. :\\n\\n {text}\"\n",
        "template = get_prompt(instruction, system_prompt)\n",
        "print(template)\n",
        "\n",
        "prompt = PromptTemplate(template=template, input_variables=[\"text\"])"
      ],
      "metadata": {
        "colab": {
          "base_uri": "https://localhost:8080/"
        },
        "id": "1K4Qa_w35NH2",
        "outputId": "1b72dc0b-837f-4860-def1-2392b7b8911f"
      },
      "execution_count": null,
      "outputs": [
        {
          "output_type": "stream",
          "name": "stdout",
          "text": [
            "[INST]<<SYS>>\n",
            "You are a natural language generator tasked with producing customer feedback.\n",
            "<</SYS>>\n",
            "\n",
            "Generate a customer complaint that is grammatically correct and equivalent in meaning to the given text, using a different wording and in 50 words or less. :\n",
            "\n",
            " {text}[/INST]\n"
          ]
        }
      ]
    },
    {
      "cell_type": "code",
      "source": [
        "llm_chain = LLMChain(prompt=prompt, llm=llm)"
      ],
      "metadata": {
        "id": "yuXLeyR_6Cmo"
      },
      "execution_count": null,
      "outputs": []
    },
    {
      "cell_type": "code",
      "source": [
        "for i, complaint in enumerate(random_samples[0:5]):\n",
        "    examination_result = llm_chain.run(complaint)\n",
        "    print(i, examination_result)"
      ],
      "metadata": {
        "colab": {
          "base_uri": "https://localhost:8080/"
        },
        "id": "P5o9hNa76FCC",
        "outputId": "6c14f017-6992-4fed-8678-4b6d3daf645b"
      },
      "execution_count": null,
      "outputs": [
        {
          "output_type": "stream",
          "name": "stdout",
          "text": [
            "0  Sure, here's a customer complaint that is grammatically correct and equivalent in meaning to the given text, using a different wording and in 50 words or less:\n",
            "\n",
            "\"I recently discovered two unauthorized inquiries on my credit report from CBNA, despite never contacting them. This is a frustrating mistake, especially since I've worked hard to improve my credit. I don't know where to start to resolve this issue, but I will do whatever it takes to have it removed.\"\n",
            "1  \"Fraudsters posing as Capital One tricked me into transferring over $2500.00. I just discovered my personal info is on the dark web after calling XXXX to open a new account. They told me someone used my SSN to create a fake account. I've canceled it and asked XXXX to flag it to prevent further fraud. The transfers were made to XXXX XXXX on my XXXX file.\"\n",
            "2  \"On 20/02/2020, I was surprised to learn from Bank of America that my account was being used for unauthorized purchases on an online gaming site called XXXX.\"\n",
            "3  Sure, here's a customer complaint that is grammatically correct and equivalent in meaning to the given text, using a different wording and in 50 words or less:\n",
            "\n",
            "\"I'm receiving duplicate notifications from 2 companies I owe money to, despite requesting verification with signatures. Both companies are now reporting the debt on my credit report, despite failing to provide proof. This is causing my credit score to drop, hindering my financial progress. I demand validation of the debt and deletion of any fraudulent entries according to the FCRA.\"\n",
            "4  Here is a possible customer complaint that is grammatically correct and equivalent in meaning to the given text, using a different wording and in 50 words or less:\n",
            "\n",
            "\"I dispute two accounts appearing on my credit report, which were not opened by me. An individual impersonated me to open these accounts, using personal information obtained from my phones and tablets. Despite filing disputes with credit bureaus, BOA has not removed these accounts. I request BOA provides applications signed by me, allowing them to open these accounts. Until then, BOA must remove these fraudulent accounts from all bureaus.\"\n"
          ]
        }
      ]
    },
    {
      "cell_type": "markdown",
      "source": [
        "Prompt for Invariance Complaint Synthesis"
      ],
      "metadata": {
        "id": "fGIvxdxloEvH"
      }
    },
    {
      "cell_type": "code",
      "source": [
        "system_prompt = \"You are a text-to-speech system that converts written complaints into spoken language.\"\n",
        "instruction = \"Convert the given text into a spoken complaint that sounds natural and authentic, while conveying the same message and in 50 words or less. :\\n\\n {text}\"\n",
        "template = get_prompt(instruction, system_prompt)\n",
        "print(template)\n",
        "\n",
        "prompt = PromptTemplate(template=template, input_variables=[\"text\"])"
      ],
      "metadata": {
        "colab": {
          "base_uri": "https://localhost:8080/"
        },
        "id": "ewbLqhzr6Q0a",
        "outputId": "607d290a-6bc2-4e10-c213-5e6ebae44459"
      },
      "execution_count": null,
      "outputs": [
        {
          "output_type": "stream",
          "name": "stdout",
          "text": [
            "[INST]<<SYS>>\n",
            "You are a text-to-speech system that converts written complaints into spoken language.\n",
            "<</SYS>>\n",
            "\n",
            "Convert the given text into a spoken complaint that sounds natural and authentic, while conveying the same message and in 50 words or less. :\n",
            "\n",
            " {text}[/INST]\n"
          ]
        }
      ]
    },
    {
      "cell_type": "code",
      "source": [
        "llm_chain = LLMChain(prompt=prompt, llm=llm)"
      ],
      "metadata": {
        "id": "xpBQJz6Y6SC4"
      },
      "execution_count": null,
      "outputs": []
    },
    {
      "cell_type": "code",
      "source": [
        "for i, complaint in enumerate(random_samples[0:5]):\n",
        "    examination_result = llm_chain.run(complaint)\n",
        "    print(i, examination_result)"
      ],
      "metadata": {
        "colab": {
          "base_uri": "https://localhost:8080/"
        },
        "id": "DoYIkOsA6T2L",
        "outputId": "28ecf5ff-ce56-4f34-e6a6-e44fd32ca620"
      },
      "execution_count": null,
      "outputs": [
        {
          "output_type": "stream",
          "name": "stdout",
          "text": [
            "0  Here is a spoken complaint that conveys the same message in 50 words or less:\n",
            "\n",
            "\"I have two recent inquiries on my credit report from CBNA, despite never contacting them. This is fraudulent and I demand it be removed. I've worked hard on my credit and don't need false information. I'm not sure where to start or what to say to CBNA, but I will take action to resolve this issue.\"\n",
            "1  \"Someone used my personal information to open a bank account in my name and transferred over $2500. I just called the bank to report the fraud and they told me my personal information is on the dark web. I've changed my phone number and am deleting my old email account. The fraudulent transfers were made to a different bank account.\" (48 words)\n",
            "2  \"On February 20th, I was shocked to learn from Bank of America that my account was being used to make unauthorized purchases on an online gaming site, XXXX. This is unacceptable and I demand immediate action to protect my account and personal information.\"\n",
            "3  \"I'm receiving duplicate notifications of debts on my credit report, despite requesting verification with signatures. Both companies failed to provide proof, with one claiming the debt was sold and the other threatening a judgment. This is damaging my credit score and hindering my financial progress. I demand validation and deletion of any fraudulent entries according to the FCRA.\"\n",
            "4  Here is a spoken complaint based on the given text, in 50 words or less:\n",
            "\n",
            "\"I'm being victimized by identity theft. Bank of America has allowed fraudulent accounts to be opened in my name, using my personal information. I've disputed these accounts multiple times, but BOA hasn't removed them. I need applications signed by me to prove these accounts belong to me, not these impostors. Please help me resolve this issue.\"\n"
          ]
        }
      ]
    },
    {
      "cell_type": "markdown",
      "source": [
        "Prompt for Harshness Modification (Direction):"
      ],
      "metadata": {
        "id": "IKzfY299oTQ2"
      }
    },
    {
      "cell_type": "code",
      "source": [
        "system_prompt = \"You are a natural language generator tasked with producing customer feedback.\"\n",
        "instruction = \"Generate a new complaint that sounds less harsh and confrontational than the original complaint. Use a polite and conciliatory tone to make the complaint sound more collaborative and less aggressive (50 words). :\\n\\n {text}\"\n",
        "template = get_prompt(instruction, system_prompt)\n",
        "print(template)\n",
        "\n",
        "prompt = PromptTemplate(template=template, input_variables=[\"text\"])"
      ],
      "metadata": {
        "colab": {
          "base_uri": "https://localhost:8080/"
        },
        "id": "y8RmPqVy9DkT",
        "outputId": "46757d75-9c6c-43d2-dae2-26ac19d8b1f4"
      },
      "execution_count": null,
      "outputs": [
        {
          "output_type": "stream",
          "name": "stdout",
          "text": [
            "[INST]<<SYS>>\n",
            "You are a natural language generator tasked with producing customer feedback.\n",
            "<</SYS>>\n",
            "\n",
            "Generate a new complaint that sounds less harsh and confrontational than the original complaint. Use a polite and conciliatory tone to make the complaint sound more collaborative and less aggressive (50 words). :\n",
            "\n",
            " {text}[/INST]\n"
          ]
        }
      ]
    },
    {
      "cell_type": "code",
      "source": [
        "llm_chain = LLMChain(prompt=prompt, llm=llm)"
      ],
      "metadata": {
        "id": "m7mFOx029Q-S"
      },
      "execution_count": null,
      "outputs": []
    },
    {
      "cell_type": "code",
      "source": [
        "for i, complaint in enumerate(random_samples[0:5]):\n",
        "    examination_result = llm_chain.run(complaint)\n",
        "    print(i, examination_result)"
      ],
      "metadata": {
        "colab": {
          "base_uri": "https://localhost:8080/"
        },
        "id": "Vbef4pIv9S4q",
        "outputId": "9b78013c-5700-46bd-b432-5260e55a2af1"
      },
      "execution_count": null,
      "outputs": [
        {
          "output_type": "stream",
          "name": "stdout",
          "text": [
            "0  Sure, here's a revised complaint that is less confrontational and more collaborative:\n",
            "\n",
            "\"I recently discovered two inquiries on my credit report from CBNA, which I did not authorize or initiate. I understand that this can be a frustrating experience, and I want to work with you to resolve this issue. I would appreciate your assistance in removing these inquiries from my report, as they are not accurate and may be affecting my credit score. Please let me know the steps I can take to resolve this matter.\"\n",
            "1  Dear Capital One,\n",
            "\n",
            "I recently encountered some unfortunate circumstances involving fraudulent activity on my account. I was contacted by impostors claiming to be from Capital One and they successfully convinced me to transfer money from my account. I regret to inform you that I lost a significant amount of money ($2500.00) as a result.\n",
            "\n",
            "I understand that this may have caused some inconvenience, and I would like to take steps to rectify the situation. When I called XXXX today, I was informed that someone had created an account using my personal information, including my Social Security number. I have since cancelled the account and requested that it be flagged to prevent any further unauthorized activity.\n",
            "\n",
            "I have also taken steps to protect my personal information, including changing my phone number and deleting my old email account. I would appreciate it if you could flag my account to prevent any further fraudulent transfers.\n",
            "\n",
            "Thank you for your attention to this matter, and I look forward to hearing from you soon.\n",
            "\n",
            "Sincerely,\n",
            "[Your Name]\n",
            "2  Sure, here's a revised complaint that sounds less harsh and confrontational:\n",
            "\n",
            "\"On XX/XX/2020, I was surprised to learn from XXXX Bank of America that my account had been used for purchases on an online gaming site called XXXX. While I understand the importance of protecting my account security, I would appreciate it if you could provide more detail on how this occurred and what steps can be taken to prevent it in the future. Thank you for your attention to this matter.\"\n",
            "3  Sure, here's a revised complaint that is less confrontational and more collaborative:\n",
            "\n",
            "\"I recently received two letters from different companies regarding debts that I allegedly owe. However, neither company provided me with the necessary verification or signature to confirm the debt. As a result, I'm unsure of how to proceed and am concerned that these debts may be fraudulent. In accordance with the Fair Credit Reporting Act (FCRA), I'm requesting that both companies provide me with valid proof of the debt and a signature to verify its authenticity. I'm eager to resolve this matter in a timely and amicable manner, and I appreciate your attention to this matter.\"\n",
            "4  Dear Sir/Madam,\n",
            "\n",
            "I am writing to express my dissatisfaction with the recent events that have occurred with my Bank of America accounts. I have been a loyal customer of the bank for several years, and I am extremely disappointed that my personal information has been compromised and used to open fraudulent accounts in my name.\n",
            "\n",
            "I have been a victim of identity theft, and I have been working closely with the bank to resolve the issue. However, despite my efforts, the fraudulent accounts continue to appear on my credit report, and I am finding it difficult to resolve the matter.\n",
            "\n",
            "I would like to request that the bank takes immediate action to remove these fraudulent accounts from my credit report. I have never had these accounts, and I do not have any account numbers or card numbers associated with them. I believe that the bank has a responsibility to protect its customers' personal information and to take swift action to prevent fraudulent activity.\n",
            "\n",
            "I understand that the bank has spoken directly with the individuals who have been impersonating me, and I believe that they have the necessary information to verify my identity and remove the fraudulent accounts. I kindly request that the bank provides me with the applications filled out and signed by me, allowing the bank to open these accounts.\n",
            "\n",
            "I appreciate your attention to this matter, and I look forward to a prompt resolution. Please let me know if there is any additional information or documentation that I need to provide to resolve this issue.\n",
            "\n",
            "Thank you for your time and assistance.\n",
            "\n",
            "Sincerely,\n",
            "[Your Name]\n"
          ]
        }
      ]
    },
    {
      "cell_type": "code",
      "source": [
        "system_prompt = \"You are a natural language generator tasked with producing customer feedback.\"\n",
        "instruction =  \"Generate a new complaint that sounds more harsh and confrontational than the original complaint. Use an aggressive and forceful tone to make the complaint sound more impactful and urgent (50 words). :\\n\\n {text}\"\n",
        "template = get_prompt(instruction, system_prompt)\n",
        "print(template)\n",
        "\n",
        "prompt = PromptTemplate(template=template, input_variables=[\"text\"])"
      ],
      "metadata": {
        "colab": {
          "base_uri": "https://localhost:8080/"
        },
        "id": "8udcLPZK9qBk",
        "outputId": "29169279-9129-4b61-ef22-1a5ff112172c"
      },
      "execution_count": null,
      "outputs": [
        {
          "output_type": "stream",
          "name": "stdout",
          "text": [
            "[INST]<<SYS>>\n",
            "You are a natural language generator tasked with producing customer feedback.\n",
            "<</SYS>>\n",
            "\n",
            "Generate a new complaint that sounds more harsh and confrontational than the original complaint. Use an aggressive and forceful tone to make the complaint sound more impactful and urgent (50 words). :\n",
            "\n",
            " {text}[/INST]\n"
          ]
        }
      ]
    },
    {
      "cell_type": "code",
      "source": [
        "llm_chain = LLMChain(prompt=prompt, llm=llm)"
      ],
      "metadata": {
        "id": "3tpgGLma9zGX"
      },
      "execution_count": null,
      "outputs": []
    },
    {
      "cell_type": "code",
      "source": [
        "for i, complaint in enumerate(random_samples[0:5]):\n",
        "    examination_result = llm_chain.run(complaint)\n",
        "    print(i, examination_result)"
      ],
      "metadata": {
        "colab": {
          "base_uri": "https://localhost:8080/"
        },
        "id": "DVGAjWiC9zbm",
        "outputId": "048ef5df-46c9-4b6b-953c-fdd6b06be3fb"
      },
      "execution_count": null,
      "outputs": [
        {
          "output_type": "stream",
          "name": "stdout",
          "text": [
            "0  Here is a new complaint that sounds more harsh and confrontational than the original:\n",
            "\n",
            "\"I am outraged and appalled by the recent inquiries made on my credit report by CBNA, despite my explicit denial of any authorization. Not only is this a blatant violation of my privacy and security, but it also undermines my hard-earned credit score. I demand immediate action to remove these fraudulent inquiries and protect my personal information. I will not hesitate to take legal action if necessary, and I expect a prompt resolution to this matter. How dare you attempt to sully my good name and creditworthiness? I will not be ignored!\"\n",
            "1  \"Are you kidding me?! I can't believe I was duped by some impersonator claiming to be from Capital One and they got me to transfer over $2500! And now, to make matters worse, I find out that someone used my SSN to create a fake account in my name?! I demand that you take immediate action to flag my SSN and prevent any further fraudulent activity. And don't even get me started on the transfers to XXXX XXXX on my XXXX file. This is a complete and utter disaster. Get it together, XXXX!!\"\n",
            "2  \"Are you kidding me?! On XX/XX/2020, I was shocked to learn from XXXX Bank of America that my account was being used to make purchases on some obscure online gaming site called XXXX?! How did this happen?! I demand immediate action to rectify this egregious breach of my financial security. Get your act together, Bank of America, and sort this out pronto or I'll make sure my business and reputation are the last things you ever think about! #OutragedCustomer #BankingDisaster\"\n",
            "3  \"I am outraged and appalled by the blatant incompetence and fraudulent practices of these two companies. Despite my repeated requests for verification, they have failed to provide any concrete evidence of the debts they claim I owe. The fact that they have now placed these debts on my credit report not once, but twice, is a clear violation of the Fair Credit Reporting Act (FCRA). I demand that these debts be immediately deleted from my credit report and that these companies be held accountable for their egregious errors. I will not stand idly by while my credit score is artificially lowered due to these baseless claims. I will fight to clear my name and protect my financial stability.\"\n",
            "4  Here is a more aggressive and confrontational version of the complaint:\n",
            "\n",
            "\"Bank of America, I demand immediate action to remove two fraudulent accounts from my credit report! These accounts were opened in my name without my knowledge or consent, and I have never had any association with them. The identity thief who opened these accounts must have accessed my personal information from my old phones and tablets, which I foolishly gave to a so-called \"friend\" who turned out to be a scammer.\n",
            "\n",
            "I have already disputed these accounts with the credit bureaus, but they continue to show up on my report. I demand that you take immediate action to remove these accounts and provide me with applications filled out and signed by me, allowing you to open these accounts. Until then, I will not hesitate to take legal action against you for your negligence and inaction in this matter.\n",
            "\n",
            "I have been a loyal customer of Bank of America for many years, but this blatant neglect of my personal information and financial security is unacceptable. I expect a prompt resolution to this issue, or I will be forced to take my business elsewhere.\n",
            "\n",
            "Do not bother responding to this complaint with any generic excuses or apologies. I want to see concrete action taken to rectify this situation immediately. I will be monitoring my credit report closely and will not hesitate to escalate this matter further if necessary.\"\n"
          ]
        }
      ]
    },
    {
      "cell_type": "markdown",
      "source": [
        "## Disconnect server  "
      ],
      "metadata": {
        "id": "9zvhw2zZbzCA"
      }
    },
    {
      "cell_type": "code",
      "source": [
        "together.Models.stop(\"togethercomputer/llama-2-7b-chat\")"
      ],
      "metadata": {
        "colab": {
          "base_uri": "https://localhost:8080/"
        },
        "id": "gfqBBmdubwJd",
        "outputId": "7db0eb43-a597-4609-a933-0b7db974fbd0"
      },
      "execution_count": null,
      "outputs": [
        {
          "output_type": "execute_result",
          "data": {
            "text/plain": [
              "{'success': True}"
            ]
          },
          "metadata": {},
          "execution_count": 69
        }
      ]
    },
    {
      "cell_type": "code",
      "source": [],
      "metadata": {
        "id": "Lrq0KtB_dVZV"
      },
      "execution_count": null,
      "outputs": []
    }
  ]
}